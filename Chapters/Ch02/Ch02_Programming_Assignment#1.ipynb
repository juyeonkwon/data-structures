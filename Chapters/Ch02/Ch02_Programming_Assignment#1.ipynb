{
  "nbformat": 4,
  "nbformat_minor": 0,
  "metadata": {
    "colab": {
      "private_outputs": true,
      "provenance": []
    },
    "kernelspec": {
      "name": "python3",
      "display_name": "Python 3"
    },
    "language_info": {
      "name": "python"
    }
  },
  "cells": [
    {
      "cell_type": "markdown",
      "source": [
        "1. 짝수 홀수 판별 프로그램\n",
        "\n",
        "사용자로부터 숫자를 입력 받아, 그 숫자가 짝수인지 홀수인지 출력하는 파이썬 프로그램을 작성하세요."
      ],
      "metadata": {
        "id": "qKyMIBW0_fB7"
      }
    },
    {
      "cell_type": "code",
      "source": [
        "num1 = int(input(\"숫자를 입력하세요: \"))  # 정수 입력\n",
        "\n",
        "if num1%2==0:  # 입력 받은 정수가 2로 나누어 나머지가 0일 경우 \"짝수\"\n",
        "    print(\"짝수입니다.\")\n",
        "else:    # 짝수가 아니라면 \"홀수\"\n",
        "    print(\"홀수입니다.\")"
      ],
      "metadata": {
        "id": "04IB8a3Z_lfu"
      },
      "execution_count": null,
      "outputs": []
    },
    {
      "cell_type": "markdown",
      "source": [
        "2. 최대값 찾기\n",
        "\n",
        "숫자로 이루어진 리스트를 입력 받아, 그 중 가장 큰 숫자를 출력하는 파이썬 프로그램을 작성하세요."
      ],
      "metadata": {
        "id": "7-z3dyj1_lsf"
      }
    },
    {
      "cell_type": "code",
      "source": [
        "import random\n",
        "\n",
        "start = 10\n",
        "end = 20\n",
        "length = 4\n",
        "\n",
        "list=[]\n",
        "list = [random.randint(start, end) for _ in range(length)]  # random한 정수 length개 추출\n",
        "print(list)\n",
        "\n",
        "max_num = list[0]  # 리스트의 첫 번째 요소로 초기화\n",
        "for num in list:    # 리스트를 순회하면서 최대값 업데이트\n",
        "    if num > max_num:\n",
        "        max_num = num\n",
        "\n",
        "print(\"가장 큰 숫자:\", max_num)"
      ],
      "metadata": {
        "id": "t6i11KBL_l3m"
      },
      "execution_count": null,
      "outputs": []
    },
    {
      "cell_type": "markdown",
      "source": [
        "3. 문자열 역순 출력\n",
        "\n",
        "사용자로부터 문자열을 입력 받아, 그 문자열을 역순으로 출력하는 파이썬 프로그램을 작성하세요."
      ],
      "metadata": {
        "id": "zdSrIL7X_sgy"
      }
    },
    {
      "cell_type": "code",
      "source": [
        "user_input = input(\"문자열을 입력하세요: \")\n",
        "\n",
        "# 문자열의 역순으로 출력\n",
        "for i in range(len(user_input) - 1, -1, -1):    # 리스트를 역으로 순회하면서 차례로 print\n",
        "    print(user_input[i], end='')"
      ],
      "metadata": {
        "id": "K6gA2ytf_-hH"
      },
      "execution_count": null,
      "outputs": []
    },
    {
      "cell_type": "markdown",
      "source": [
        "4. 회문 판별 함수\n",
        "\n",
        "주어진 문자열이 회문인지 아닌지 판별하는 is_palindrome(s) 함수를 작성하세요.\n",
        "\n",
        "회문이란 ABBA처럼 문자열이나 수열을 앞에서부터 읽으나 뒤에서부터 읽으나 동일한 결과를 나타내는 것을 말합니다. 즉, 좌우 대칭적인 구조를 가진 단어나 숫자입니다.\n",
        "\n",
        "- 단어 회문: \"기러기\", \"level\", \"radar\", \"눈\", \"엄마\n",
        "- 숫자 회문: 121, 1331, 12321,"
      ],
      "metadata": {
        "id": "yZsXFK_G_-xh"
      }
    },
    {
      "cell_type": "code",
      "source": [
        "def is_palindrome(s):\n",
        "    length = len(s)\n",
        "\n",
        "    # 문자열의 절반만 순회하면서 앞뒤를 비교\n",
        "    for i in range(length // 2):\n",
        "        if s[i] != s[length - 1 - i]:\n",
        "            return False\n",
        "\n",
        "    return True"
      ],
      "metadata": {
        "id": "8Dboict1AerD"
      },
      "execution_count": null,
      "outputs": []
    },
    {
      "cell_type": "code",
      "source": [
        "print(is_palindrome(\"기러기\"))\n",
        "print(is_palindrome(\"level\"))\n",
        "print(is_palindrome(\"radar\"))\n",
        "print(is_palindrome(\"hello\"))\n",
        "print(is_palindrome(\"12321\"))\n",
        "print(is_palindrome(\"12345\"))"
      ],
      "metadata": {
        "id": "3gsvZSMOUaX3"
      },
      "execution_count": null,
      "outputs": []
    },
    {
      "cell_type": "markdown",
      "source": [
        "5. 중복 없는 랜덤 숫자 생성기\n",
        "\n",
        "1부터 100까지의 숫자 중에서 중복 없이 10개의 랜덤한 숫자를 생성하여 리스트로 반환하는 파이썬 프로그램을 작성하세요."
      ],
      "metadata": {
        "id": "C5hKaB9dAfT0"
      }
    },
    {
      "cell_type": "code",
      "source": [
        "import random\n",
        "\n",
        "selected_num = []\n",
        "\n",
        "while len(selected_num) != 10:  # 리스트의 길이가 10이 될때까지 반복\n",
        "    a = random.randint(1,100)\n",
        "    if a in selected_num:    # 선택된 정수가 리스트 내 있는 경우 while문 재실행\n",
        "        continue\n",
        "    else:\n",
        "        selected_num.append(a)   # 선택된적 없는 정수일 경우 리스트에 추가\n",
        "\n",
        "print(selected_num)"
      ],
      "metadata": {
        "id": "SC1SN5lRAwmq"
      },
      "execution_count": null,
      "outputs": []
    }
  ]
}