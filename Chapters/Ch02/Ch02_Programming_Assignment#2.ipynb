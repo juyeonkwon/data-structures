{
  "cells": [
    {
      "cell_type": "markdown",
      "source": [
        "\n",
        "## 제출 방법\n",
        "\n",
        "1. 문제 코드 작성하기:\n",
        "\n",
        "각 문제는 빈칸을 채워 완전한 함수로 작성됩니다. 이를 위해 각 문제의 빈칸에 적합한 답을 채우고, 주어진 함수나 알고리즘을 완성하세요.\n",
        "\n",
        "2. 코드 실행 및 테스트:\n",
        "\n",
        "각 함수가 올바르게 작동하는지 확인하기 위해, 문제와 같은 코드 셀에, 다양한 입력값을 사용하여 테스트합니다. 예를 들어, 문제 1의 경우:\n",
        "\n",
        "```python\n",
        "# 함수 실행 테스트\n",
        "n = 5\n",
        "print(is_even(n))  # False 출력 예상\n",
        "```\n"
      ],
      "metadata": {
        "id": "wuZn9Vi_pZTj"
      }
    },
    {
      "cell_type": "markdown",
      "metadata": {
        "id": "t-k_VLXsAInB"
      },
      "source": [
        "1. 짝수 여부 확인 함수\n",
        "\n",
        "문제: 정수를 입력받아 짝수인지 확인하는 함수에서 빈칸을 채우세요."
      ]
    },
    {
      "cell_type": "code",
      "execution_count": null,
      "metadata": {
        "id": "SC1SN5lRAwmq"
      },
      "outputs": [],
      "source": [
        "def is_even(n):\n",
        "    return n % 2 == 0\n",
        "\n",
        "print(is_even(5))\n",
        "print(is_even(2))"
      ]
    },
    {
      "cell_type": "markdown",
      "metadata": {
        "id": "1Qw-qPbwA1n9"
      },
      "source": [
        "2. 리스트의 합계 계산 함수\n",
        "\n",
        "문제: 리스트에 있는 모든 요소의 합을 반환하는 함수에서 빈칸을 채우세요."
      ]
    },
    {
      "cell_type": "code",
      "execution_count": null,
      "metadata": {
        "id": "7XjLdT-OA6qB"
      },
      "outputs": [],
      "source": [
        "def list_sum(lst):\n",
        "    total = 0\n",
        "    for num in lst:\n",
        "        total += num\n",
        "    return total\n",
        "\n",
        "test_list = [1,5,3,6,10]\n",
        "print(list_sum(test_list))"
      ]
    },
    {
      "cell_type": "markdown",
      "metadata": {
        "id": "hNnS01CcA9gF"
      },
      "source": [
        "3. 문자열 뒤집기 함수\n",
        "\n",
        "문제: 문자열을 뒤집는 함수에서 빈칸을 채우세요"
      ]
    },
    {
      "cell_type": "code",
      "execution_count": null,
      "metadata": {
        "id": "hlPWiUbWBB5H"
      },
      "outputs": [],
      "source": [
        "def reverse_string(s):\n",
        "    return s[::-1]\n",
        "\n",
        "test_string = \"kwon ju yeon\"\n",
        "print(reverse_string(test_string))"
      ]
    },
    {
      "cell_type": "markdown",
      "metadata": {
        "id": "esguluI3BD8F"
      },
      "source": [
        "4. 팩토리얼 계산 함수\n",
        "\n",
        "문제: 팩토리얼을 계산하는 함수에서 빈칸을 채우세요."
      ]
    },
    {
      "cell_type": "code",
      "execution_count": null,
      "metadata": {
        "id": "cWANVLKXBE5v"
      },
      "outputs": [],
      "source": [
        "def factorial(n):\n",
        "    if n == 0:\n",
        "        return 1\n",
        "    else:\n",
        "        return n * factorial(n-1)\n",
        "\n",
        "print(factorial(3))\n",
        "print(factorial(6))"
      ]
    },
    {
      "cell_type": "markdown",
      "metadata": {
        "id": "ZdVpo3jmBMQn"
      },
      "source": [
        "5. 소수 여부 확인 함수\n",
        "\n",
        "문제: 주어진 숫자가 소수인지 여부를 확인하는 함수에서 빈칸을 채우세요."
      ]
    },
    {
      "cell_type": "code",
      "execution_count": null,
      "metadata": {
        "id": "hJxspe6LBN6I"
      },
      "outputs": [],
      "source": [
        "def is_prime(n):\n",
        "    if n < 2:\n",
        "        return False\n",
        "    for i in range(2, int(n ** 0.5) + 1):\n",
        "        if n % i == 0:\n",
        "            return False\n",
        "    return True\n",
        "\n",
        "print(is_prime(11))\n",
        "print(is_prime(112))"
      ]
    },
    {
      "cell_type": "markdown",
      "metadata": {
        "id": "GohEDi7TBUDC"
      },
      "source": [
        "6. 최대값 찾기 함수\n",
        "\n",
        "문제: 리스트에서 최대값을 반환하는 함수에서 빈칸을 채우세요."
      ]
    },
    {
      "cell_type": "code",
      "execution_count": null,
      "metadata": {
        "id": "TcRf6AT8BWRh"
      },
      "outputs": [],
      "source": [
        "def find_max(lst):\n",
        "    max_value = lst[0]\n",
        "    for num in lst:\n",
        "        if num > max_value:\n",
        "            max_value = num\n",
        "    return max_value\n",
        "\n",
        "test_list = [4,2,7,1,8,4]\n",
        "print(find_max(test_list))"
      ]
    },
    {
      "cell_type": "markdown",
      "metadata": {
        "id": "d3UWvSTaBZ-R"
      },
      "source": [
        "7. 문자열의 길이 반환 함수\n",
        "\n",
        "문제: 주어진 문자열의 길이를 반환하는 함수에서 빈칸을 채우세요."
      ]
    },
    {
      "cell_type": "code",
      "execution_count": null,
      "metadata": {
        "id": "zookSrqdBaO6"
      },
      "outputs": [],
      "source": [
        "def string_length(s):\n",
        "    return len(s)\n",
        "\n",
        "test_string = \"kwon ju yeon\"\n",
        "print(string_length(test_string))"
      ]
    },
    {
      "cell_type": "markdown",
      "metadata": {
        "id": "xZXBTT08Bfly"
      },
      "source": [
        "8. 리스트에서 특정 값 찾기 함수\n",
        "\n",
        "문제: 리스트에서 특정 값을 찾는 함수에서 빈칸을 채우세요."
      ]
    },
    {
      "cell_type": "code",
      "execution_count": null,
      "metadata": {
        "id": "lJJCkVeUBhCu"
      },
      "outputs": [],
      "source": [
        "def find_value(lst, value):\n",
        "    for item in lst:\n",
        "        if item == value:\n",
        "            return True\n",
        "    return False\n",
        "\n",
        "test_list = [4,2,6,11,343,54,34]\n",
        "print(find_value(test_list, 343))\n",
        "print(find_value(test_list, 32))"
      ]
    },
    {
      "cell_type": "markdown",
      "metadata": {
        "id": "3Xp1NMFoBjYF"
      },
      "source": [
        "9. 리스트에서 짝수만 추출하는 함수\n",
        "\n",
        "문제: 리스트에서 짝수만 추출하는 함수에서 빈칸을 채우세요.\n",
        "\n"
      ]
    },
    {
      "cell_type": "code",
      "execution_count": null,
      "metadata": {
        "id": "GR0MX_LdBlIl"
      },
      "outputs": [],
      "source": [
        "def extract_even(lst):\n",
        "    evens = []\n",
        "    for num in lst:\n",
        "        if num % 2 == 0:\n",
        "            evens.append(num)\n",
        "    return evens\n",
        "\n",
        "test_list = [4,3,6,11,343,55,34]\n",
        "print(extract_even(test_list))"
      ]
    },
    {
      "cell_type": "markdown",
      "metadata": {
        "id": "KLpLCMpwBnpt"
      },
      "source": [
        "10. 두 문자열이 동일한지 확인하는 함수\n",
        "\n",
        "문제: 두 문자열이 동일한지 확인하는 함수에서 빈칸을 채우세요."
      ]
    },
    {
      "cell_type": "code",
      "execution_count": null,
      "metadata": {
        "id": "k-mlTXc8Bo2f"
      },
      "outputs": [],
      "source": [
        "def is_same_string(s1, s2):\n",
        "    return s1 == s2\n",
        "\n",
        "test_string1 = \"kwon ju yeon\"\n",
        "test_string2 = \"kwon ju yeon\"\n",
        "test_string3 = \"ju yeon\"\n",
        "\n",
        "print(is_same_string(test_string1,test_string2))\n",
        "print(is_same_string(test_string1,test_string3))"
      ]
    },
    {
      "cell_type": "markdown",
      "metadata": {
        "id": "ks2-ooLiE6sg"
      },
      "source": [
        "11. 문자열에서 대문자 찾기\n",
        "\n",
        "문제: 주어진 문자열에서 모든 대문자를 찾아 리스트로 반환하는 함수에서 빈칸을 채우세요.\n",
        "\n",
        "힌트: 파이썬의 isupper 함수를 사용할 수 있습니다."
      ]
    },
    {
      "cell_type": "code",
      "execution_count": null,
      "metadata": {
        "id": "4_wtKKEHE61L"
      },
      "outputs": [],
      "source": [
        "def find_uppercase(s):\n",
        "    return [char for char in s if char.isupper()]\n",
        "\n",
        "test_string = \"Kwon Ju Yeon\"\n",
        "print(find_uppercase(test_string))"
      ]
    },
    {
      "cell_type": "markdown",
      "metadata": {
        "id": "fNja2KjvE69s"
      },
      "source": [
        "12. 중복된 문자 제거\n",
        "\n",
        "문제: 문자열에서 중복된 문자를 제거하고, 남은 문자들을 반환하는 함수에서 빈칸을 채우세요.\n",
        "\n",
        "입력예시1: programming\n",
        "\n",
        "출력: progamin\n",
        "\n",
        "입력예시2: aaaaa\n",
        "\n",
        "출력: a"
      ]
    },
    {
      "cell_type": "code",
      "execution_count": null,
      "metadata": {
        "id": "pd7oDleFE7FO"
      },
      "outputs": [],
      "source": [
        "## def remove_duplicates(s):\n",
        "##    return ''.join(sorted(set(s), key=_____.index))\n",
        "\n",
        "def remove_duplicates(s):\n",
        "    result = []\n",
        "    for char in s:\n",
        "        if char not in result:\n",
        "            result.append(char)\n",
        "\n",
        "    # ''.join(result)를 사용하지 않고 문자열로 변환\n",
        "    final_string = \"\"\n",
        "    for char in result:\n",
        "        final_string += char\n",
        "\n",
        "    return final_string\n",
        "\n",
        "test_string1 = \"programming\"\n",
        "test_string2 = \"aaaa\"\n",
        "print(remove_duplicates(test_string1))\n",
        "print(remove_duplicates(test_string2))"
      ]
    },
    {
      "cell_type": "markdown",
      "metadata": {
        "id": "7z1TvAWPE7M0"
      },
      "source": [
        "13. 리스트에서 홀수만 출력\n",
        "\n",
        "문제: 리스트에서 홀수만 출력하는 함수에서 빈칸을 채우세요."
      ]
    },
    {
      "cell_type": "code",
      "execution_count": null,
      "metadata": {
        "id": "ZgTEj9lrE7UV"
      },
      "outputs": [],
      "source": [
        "def extract_Odd(lst):\n",
        "    evens = []\n",
        "    for num in lst:\n",
        "        if num % 2 != 0:\n",
        "            evens.append(num)\n",
        "    return evens\n",
        "\n",
        "test_list = [4,3,6,11,343,55,34]\n",
        "print(extract_Odd(test_list))"
      ]
    },
    {
      "cell_type": "markdown",
      "metadata": {
        "id": "cnJ1lq99E7be"
      },
      "source": [
        "14. 리스트에서 최대값의 인덱스 찾기\n",
        "\n",
        "문제: 주어진 리스트에서 가장 큰 값의 인덱스를 반환하는 함수에서 빈칸을 채우세요.\n",
        "\n",
        "힌트: 파이썬에서 제공하는 max를 사용할 수 있다."
      ]
    },
    {
      "cell_type": "code",
      "execution_count": null,
      "metadata": {
        "id": "Tn25hbykE7iu"
      },
      "outputs": [],
      "source": [
        "def find_max_index(lst):\n",
        "    return lst.index(max(lst))\n",
        "\n",
        "test_list = [5,3,2,6,3,9,12,3,23,12,3,2]\n",
        "print(find_max_index(test_list))"
      ]
    },
    {
      "cell_type": "markdown",
      "metadata": {
        "id": "CS4CQqIzE7px"
      },
      "source": [
        "15. 두 수의 최소공배수(LCM) 구하기\n",
        "\n",
        "문제: 두 숫자의 최소공배수를 구하는 함수에서 빈칸을 채우세요.\n",
        "\n",
        "힌트: math 패키지 함수 중 gcd 사용"
      ]
    },
    {
      "cell_type": "code",
      "execution_count": null,
      "metadata": {
        "id": "TOnN-NkmE7xK"
      },
      "outputs": [],
      "source": [
        "import math\n",
        "def lcm(a, b):\n",
        "    return abs(a * b) // math.gcd(a, b)\n",
        "\n",
        "print(lcm(4, 5))"
      ]
    },
    {
      "cell_type": "markdown",
      "metadata": {
        "id": "dtCyIjiVE73i"
      },
      "source": [
        "16. 문자열의 첫 글자만 대문자로 변환\n",
        "\n",
        "문제: 문자열의 첫 글자만 대문자로 변환하는 함수에서 빈칸을 채우세요.\n",
        "\n",
        "힌트: 파이썬이 제공하는 upper 함수를 사용할 수 있다."
      ]
    },
    {
      "cell_type": "code",
      "execution_count": null,
      "metadata": {
        "id": "Lp34VhsgE7_i"
      },
      "outputs": [],
      "source": [
        "def first(s):\n",
        "    return s[0].upper() + s[1:] if s else s\n",
        "\n",
        "print(first(\"juyeon\"))"
      ]
    },
    {
      "cell_type": "markdown",
      "metadata": {
        "id": "ptKlIkISE8Fz"
      },
      "source": [
        "17. 리스트에서 특정 요소 제거\n",
        "\n",
        "문제: 리스트에서 특정 값을 제거하는 함수에서 빈칸을 채우세요."
      ]
    },
    {
      "cell_type": "code",
      "execution_count": null,
      "metadata": {
        "id": "YvqhRRpQE8Ms"
      },
      "outputs": [],
      "source": [
        "def remove_value(lst, value):\n",
        "    return [x for x in lst if x != value]\n",
        "\n",
        "print(remove_value([1, 2, 3, 4, 3], 3))"
      ]
    },
    {
      "cell_type": "markdown",
      "metadata": {
        "id": "r3tyNKLME8TZ"
      },
      "source": [
        "18. 문자열에서 특정 단어 찾기\n",
        "\n",
        "문제: 주어진 문자열에서 특정 단어가 있는지 확인하는 함수에서 빈칸을 채우세요."
      ]
    },
    {
      "cell_type": "code",
      "execution_count": null,
      "metadata": {
        "id": "e2olAtYuE8a-"
      },
      "outputs": [],
      "source": [
        "def find_word(s, word):\n",
        "    return word in s\n",
        "\n",
        "print(find_word(\"Hello world\", \"world\"))"
      ]
    },
    {
      "cell_type": "markdown",
      "metadata": {
        "id": "t6HLXVRDE8gv"
      },
      "source": [
        "19. 리스트 합치기\n",
        "\n",
        "문제: 두 리스트를 합치는 함수에서 빈칸을 채우세요."
      ]
    },
    {
      "cell_type": "code",
      "execution_count": null,
      "metadata": {
        "id": "EHRcL1chE8nt"
      },
      "outputs": [],
      "source": [
        "def merge_lists(lst1, lst2):\n",
        "    return lst1 + lst2\n",
        "\n",
        "print(merge_lists([1, 2, 3], [4, 5, 6]))"
      ]
    },
    {
      "cell_type": "markdown",
      "metadata": {
        "id": "tcJCL8A_E8tZ"
      },
      "source": [
        "20. 리스트 내 요소의 길이 출력\n",
        "\n",
        "문제: 문자열로 이루어진 리스트의 각 요소 길이를 출력하는 함수에서 빈칸을 채우세요."
      ]
    },
    {
      "cell_type": "code",
      "execution_count": null,
      "metadata": {
        "id": "EkQvcLqeE80I"
      },
      "outputs": [],
      "source": [
        "def print_lengths(lst):\n",
        "    for item in lst:\n",
        "        print(len(item))\n",
        "\n",
        "print_lengths([\"apple\", \"banana\", \"cherry\"])"
      ]
    },
    {
      "cell_type": "markdown",
      "metadata": {
        "id": "Fn_YmHFLE86Y"
      },
      "source": [
        "21. 숫자의 각 자릿수 출력\n",
        "\n",
        "문제: 숫자의 각 자릿수를 출력하는 함수에서 빈칸을 채우세요.\n"
      ]
    },
    {
      "cell_type": "code",
      "execution_count": null,
      "metadata": {
        "id": "urgiUV9gE9Af"
      },
      "outputs": [],
      "source": [
        "def print_digits(n):\n",
        "    for digit in str(n):\n",
        "        print(digit)\n",
        "\n",
        "print_digits(12345)"
      ]
    },
    {
      "cell_type": "markdown",
      "metadata": {
        "id": "I-ad6yB_E9Gt"
      },
      "source": [
        "22. 문자열을 역순으로 출력\n",
        "\n",
        "문제: 문자열을 역순으로 출력하는 함수에서 빈칸을 채우세요."
      ]
    },
    {
      "cell_type": "code",
      "execution_count": null,
      "metadata": {
        "id": "qffYCQ_LE9M4"
      },
      "outputs": [],
      "source": [
        "def print_reverse(s):\n",
        "    print(s[::-1])\n",
        "\n",
        "print_reverse(\"hello\")"
      ]
    },
    {
      "cell_type": "markdown",
      "metadata": {
        "id": "JQypRqi7HSyL"
      },
      "source": [
        "23. 리스트에서 짝수와 홀수를 분리\n",
        "\n",
        "문제: 리스트에서 짝수와 홀수를 분리하는 함수에서 빈칸을 채우세요."
      ]
    },
    {
      "cell_type": "code",
      "execution_count": null,
      "metadata": {
        "id": "r5BIESgzHS7r"
      },
      "outputs": [],
      "source": [
        "def split_even_odd(lst):\n",
        "    evens = [x for x in lst if x % 2 == 0]\n",
        "    odds = [x for x in lst if x % 2 == 1]\n",
        "    return evens, odds\n",
        "\n",
        "print(split_even_odd([1, 2, 3, 4, 5, 6]))"
      ]
    },
    {
      "cell_type": "markdown",
      "metadata": {
        "id": "vlOY4cWrHTEO"
      },
      "source": [
        "24. 리스트에서 특정 값의 개수 세기\n",
        "\n",
        "문제: 리스트에서 특정 값이 몇 번 등장하는지 세는 함수에서 빈칸을 채우세요."
      ]
    },
    {
      "cell_type": "code",
      "execution_count": null,
      "metadata": {
        "id": "kBFZ0Xq4HTL5"
      },
      "outputs": [],
      "source": [
        "def count_value(lst, value):\n",
        "    return lst.count(value)\n",
        "\n",
        "print(count_value([1, 2, 3, 4, 3, 3], 3))"
      ]
    },
    {
      "cell_type": "markdown",
      "metadata": {
        "id": "MXbjkr6BHTWu"
      },
      "source": [
        "25. 리스트의 합계와 평균 구하기\n",
        "\n",
        "문제: 주어진 리스트의 합계와 평균을 반환하는 함수에서 빈칸을 채우세요."
      ]
    },
    {
      "cell_type": "code",
      "execution_count": null,
      "metadata": {
        "id": "9mcG3GZrHTg6"
      },
      "outputs": [],
      "source": [
        "def sum_and_average(lst):\n",
        "    total = sum(lst)\n",
        "    average = total / len(lst) if lst else 0  # 빈 리스트일 경우 0으로 처리\n",
        "    return total, average\n",
        "\n",
        "print(sum_and_average([1, 2, 3, 4, 5]))"
      ]
    },
    {
      "cell_type": "markdown",
      "metadata": {
        "id": "YG26NqmuHTo5"
      },
      "source": [
        "26. 문자열에서 공백 제거\n",
        "\n",
        "문제: 문자열에서 공백을 제거하는 함수에서 빈칸을 채우세요."
      ]
    },
    {
      "cell_type": "code",
      "execution_count": null,
      "metadata": {
        "id": "q4l9BN6tHTwX"
      },
      "outputs": [],
      "source": [
        "def remove_spaces(s):\n",
        "    return s.replace(' ', '')\n",
        "\n",
        "print(remove_spaces(\"Kwon Juyeon\"))"
      ]
    },
    {
      "cell_type": "markdown",
      "metadata": {
        "id": "LJABYAG6HT4C"
      },
      "source": [
        "27. 숫자 범위에서 홀수만 출력\n",
        "\n",
        "문제: 주어진 숫자 범위에서 홀수만 출력하는 함수에서 빈칸을 채우세요."
      ]
    },
    {
      "cell_type": "code",
      "execution_count": null,
      "metadata": {
        "id": "Kzo3jPftHUAY"
      },
      "outputs": [],
      "source": [
        "def print_odd_in_range(start, end):\n",
        "    for num in range(start, end):\n",
        "        if num % 2 == 1:\n",
        "            print(num)\n",
        "\n",
        "print_odd_in_range(1, 10)"
      ]
    },
    {
      "cell_type": "markdown",
      "metadata": {
        "id": "FHu2x9yEInkt"
      },
      "source": [
        "28. 문자열의 모음 개수 세기\n",
        "\n",
        "문제: 주어진 문자열에서 모음의 개수를 세는 함수에서 빈칸을 채우세요."
      ]
    },
    {
      "cell_type": "code",
      "execution_count": null,
      "metadata": {
        "id": "U8RFTkm8InuE"
      },
      "outputs": [],
      "source": [
        "def count_vowels(s):\n",
        "    vowels = 'aeiouAEIOU'\n",
        "    return sum([1 for char in s if char in vowels])\n",
        "\n",
        "print(count_vowels(\"Kwon Juyeon\"))"
      ]
    },
    {
      "cell_type": "markdown",
      "metadata": {
        "id": "ugL3Vk1mIxPT"
      },
      "source": [
        "29. 1에서 n까지의 합 구하기\n",
        "\n",
        "문제: 1에서 n까지의 합을 구하는 함수에서 빈칸을 채우세요."
      ]
    },
    {
      "cell_type": "code",
      "execution_count": null,
      "metadata": {
        "id": "H0pK3iKmIxaC"
      },
      "outputs": [],
      "source": [
        "def sum_up_to(n):\n",
        "    return sum(range(1, n + 1))\n",
        "\n",
        "print(sum_up_to(5))"
      ]
    },
    {
      "cell_type": "markdown",
      "metadata": {
        "id": "rz8G1MjPIxhr"
      },
      "source": [
        "30. 두 문자열이 애너그램인지 확인\n",
        "\n",
        "문제: 두 문자열이 애너그램인지 확인하는 함수에서 빈칸을 채우세요."
      ]
    },
    {
      "cell_type": "code",
      "execution_count": null,
      "metadata": {
        "id": "br3ew4IJIxo4"
      },
      "outputs": [],
      "source": [
        "def are_anagrams(s1, s2):\n",
        "    return sorted(s1) == sorted(s2)\n",
        "\n",
        "print(are_anagrams(\"listen\", \"silent\"))"
      ]
    }
  ],
  "metadata": {
    "colab": {
      "private_outputs": true,
      "provenance": []
    },
    "kernelspec": {
      "display_name": "Python 3",
      "name": "python3"
    },
    "language_info": {
      "name": "python"
    }
  },
  "nbformat": 4,
  "nbformat_minor": 0
}