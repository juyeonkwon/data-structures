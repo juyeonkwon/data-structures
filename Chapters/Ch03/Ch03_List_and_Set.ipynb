{
  "cells": [
    {
      "cell_type": "markdown",
      "source": [
        "## 함수로 구현한 ListArray"
      ],
      "metadata": {
        "id": "S4dT1Rs7qKh5"
      }
    },
    {
      "cell_type": "code",
      "execution_count": null,
      "metadata": {
        "id": "0fjSt0oMi5CO"
      },
      "outputs": [],
      "source": [
        "# 코드 3.1: 배열로 구현된 리스트(함수버전) (참고 파일: ch03/ArrayListFn.py)\n",
        "\n",
        "# 리스트의 데이터: 전역 변수\n",
        "capacity = 100           # 리스트 용량: 예) 용량을 100으로 지정\n",
        "array = [None]*capacity  # 요소 배열: [None, .., None] (길이가 capacity)\n",
        "size = 0                 # 상단의 인덱스: 공백상태(-1)로 초기화 함\n"
      ]
    },
    {
      "cell_type": "code",
      "execution_count": null,
      "metadata": {
        "id": "vyYPNzoGjxtR"
      },
      "outputs": [],
      "source": [
        "# 리스트의 연산: 일반 함수\n",
        "def isEmpty( ) :\n",
        "    if size == 0 : return True\t# 공백이면 True 반환\n",
        "    else : return False\t\t\t# 아니면 False 반환\n",
        "\n",
        "def isFull( ) :\n",
        "   return size == capacity\t    # 비교 연산 결과를 바로 반환"
      ]
    },
    {
      "cell_type": "code",
      "execution_count": null,
      "metadata": {
        "id": "i0AUO-Jpj0yt"
      },
      "outputs": [],
      "source": [
        "def getEntry(pos) :\n",
        "    if 0 <= pos < size :\n",
        "        return array[pos]\n",
        "    else : return None\n"
      ]
    },
    {
      "cell_type": "code",
      "execution_count": null,
      "metadata": {
        "id": "jY0vALEumsTs"
      },
      "outputs": [],
      "source": [
        "def insert( pos, e ) :\n",
        "    global size                     # size는 전역변수\n",
        "    if not isFull() and 0 <= pos <= size :\n",
        "        for i in range(size, pos,-1) :\n",
        "            array[i] = array[i-1]   # 한 칸씩 뒤로 옮김\n",
        "        array[pos] = e              # pos위치에 새로운 요소 추가\n",
        "        size += 1                   # 요소의 수가 하나 증가\n",
        "    else :\n",
        "        print(\"리스트 overflow 또는 유효하지 않은 삽입 위치\")\n",
        "        exit()\n"
      ]
    },
    {
      "cell_type": "code",
      "execution_count": null,
      "metadata": {
        "id": "gA5KUn6Tmvjb"
      },
      "outputs": [],
      "source": [
        "def delete( pos ) :\n",
        "    global size                     # size는 전역변수\n",
        "    if not isEmpty() and  0 <= pos < size:\n",
        "        e = array[pos]\n",
        "        for i in range(pos, size-1) :\n",
        "            array[i] = array[i+1]   # 한 칸씩 앞으로 당김\n",
        "        size -= 1                   # 요소의 수가 하나 감소\n",
        "        return e\n",
        "    else :\n",
        "        print(\"리스트 underflow 또는 유효하지 않은 삭제 위치\")\n",
        "        exit()\n",
        "\n",
        "# 추가 연산들\n",
        "def find(e) :\n",
        "    for i in range(size) :\n",
        "        if e == array[i] :\n",
        "            return i\n",
        "    return -1\n",
        "\n",
        "def display(msg='ArrayList:' ):\n",
        "    print(msg, array[0:size])"
      ]
    },
    {
      "cell_type": "code",
      "execution_count": null,
      "metadata": {
        "id": "DKiJ6B32jo2a"
      },
      "outputs": [],
      "source": [
        "#=========================================================\n",
        "#   - 이 파일이 직접 실행될 때에는 다음 문장들을 실행함.\n",
        "#   - 다른 파일에서 모듈로 불려지는 경우는 실행되지 않음.\n",
        "#=========================================================\n",
        "# 테스트 프로그램\n",
        "if __name__ == \"__main__\":\n",
        "    print(\"최초   \", array[0:size])\n",
        "    insert(0, 10)\n",
        "    print(\"삽입\", array[0:size])\n",
        "    insert(0, 20)\n",
        "    print(\"삽입\", array[0:size])\n",
        "    insert(1, 30)\n",
        "    print(\"삽입\", array[0:size])\n",
        "    insert(size, 40)\n",
        "    print(\"삽입\", array[0:size])\n",
        "    insert(2, 50)\n",
        "    print(\"삽입x5 \", array[0:size])\n"
      ]
    },
    {
      "cell_type": "code",
      "source": [
        "    delete(2)\n",
        "    print(\"삭제(2)\", array[0:size])\n",
        "    delete(size-1)\n",
        "    print(\"삭제(E)\", array[0:size])\n",
        "    delete(0)\n",
        "    print(\"삭제(0)\", array[0:size])"
      ],
      "metadata": {
        "id": "5X7cfGA7YPtr"
      },
      "execution_count": null,
      "outputs": []
    },
    {
      "cell_type": "markdown",
      "source": [
        "### 프로그래밍 연습 문제\n",
        "\n",
        "#### 문제 1: 리스트에 요소 삽입하기\n",
        "1. 위의 `ArrayList` 함수를 사용하여 숫자 10, 20, 30을 순서대로 리스트에 삽입하세요.\n",
        "2. 각 숫자를 삽입한 후 리스트의 상태를 출력하세요.\n",
        "3. 리스트의 첫 번째 위치에 숫자 5를 추가로 삽입한 후, 리스트의 상태를 출력하세요.\n",
        "\n",
        "**예시 출력:**\n",
        "```\n",
        "ArrayList: [10]\n",
        "ArrayList: [10, 20]\n",
        "ArrayList: [10, 20, 30]\n",
        "ArrayList: [5, 10, 20, 30]\n",
        "```\n",
        "---"
      ],
      "metadata": {
        "id": "nx1QthWDTByo"
      }
    },
    {
      "cell_type": "code",
      "source": [
        "# 배열 초기화\n",
        "capacity = 100\n",
        "array = [None] * capacity\n",
        "size = 0"
      ],
      "metadata": {
        "id": "9HsAC6TIvI39"
      },
      "execution_count": null,
      "outputs": []
    },
    {
      "cell_type": "code",
      "source": [
        "def insert(position, value):\n",
        "    global size\n",
        "    # 뒤쪽 요소들을 한 칸씩 뒤로 밀기\n",
        "    for i in range(size, position, -1):\n",
        "        array[i] = array[i - 1]\n",
        "    # 지정한 위치에 값 삽입\n",
        "    array[position] = value\n",
        "    size += 1"
      ],
      "metadata": {
        "id": "xYQ5URMx-zKV"
      },
      "execution_count": null,
      "outputs": []
    },
    {
      "cell_type": "code",
      "source": [
        "insert(0, 10)\n",
        "print(\"ArrayList:\", array[:size])  # [10]\n",
        "\n",
        "insert(1, 20)\n",
        "print(\"ArrayList:\", array[:size])  # [10, 20]\n",
        "\n",
        "insert(2, 30)\n",
        "print(\"ArrayList:\", array[:size])  # [10, 20, 30]\n",
        "\n",
        "# 첫 번째 위치에 숫자 5 삽입\n",
        "insert(0, 5)\n",
        "print(\"ArrayList:\", array[:size])  # [5, 10, 20, 30]"
      ],
      "metadata": {
        "id": "7L-PedfR-6WG"
      },
      "execution_count": null,
      "outputs": []
    },
    {
      "cell_type": "markdown",
      "source": [
        "#### 문제 2: 리스트에서 요소 삭제하기\n",
        "1. `ArrayList`에 문자열 \"apple\", \"banana\", \"cherry\"를 순서대로 삽입하세요.\n",
        "2. 두 번째 위치(인덱스 1)의 요소를 삭제한 후 리스트의 상태를 출력하세요.\n",
        "3. 마지막 위치에 있는 요소를 삭제한 후 리스트의 상태를 출력하세요.\n",
        "\n",
        "**예시 출력:**\n",
        "```\n",
        "ArrayList: ['apple', 'banana', 'cherry']\n",
        "ArrayList: ['apple', 'cherry']\n",
        "ArrayList: ['apple']\n",
        "```\n",
        "---"
      ],
      "metadata": {
        "id": "kvhgUNYDTKnY"
      }
    },
    {
      "cell_type": "code",
      "source": [
        "# 배열 초기화\n",
        "capacity = 100\n",
        "array = [None] * capacity\n",
        "size = 0\n",
        "\n",
        "def insert(position, value):\n",
        "    global size\n",
        "    for i in range(size, position, -1):\n",
        "        array[i] = array[i - 1]\n",
        "    array[position] = value\n",
        "    size += 1\n",
        "\n",
        "def delete(position):\n",
        "    global size\n",
        "    for i in range(position, size - 1):\n",
        "        array[i] = array[i + 1]\n",
        "    array[size - 1] = None\n",
        "    size -= 1"
      ],
      "metadata": {
        "id": "NCZ-JCDsTQPj"
      },
      "execution_count": null,
      "outputs": []
    },
    {
      "cell_type": "code",
      "source": [
        "insert(0, \"apple\")\n",
        "insert(1, \"banana\")\n",
        "insert(2, \"cherry\")\n",
        "print(\"ArrayList:\", array[:size])\n",
        "\n",
        "# 두 번째 위치(인덱스 1) 요소 삭제\n",
        "delete(1)\n",
        "print(\"ArrayList:\", array[:size])  # ['apple', 'cherry']\n",
        "\n",
        "# 마지막 위치 요소 삭제\n",
        "delete(size - 1)\n",
        "print(\"ArrayList:\", array[:size])  # ['apple']"
      ],
      "metadata": {
        "id": "CXEjJixo_21e"
      },
      "execution_count": null,
      "outputs": []
    },
    {
      "cell_type": "markdown",
      "source": [
        "#### 문제 3: 특정 위치의 요소 가져오기\n",
        "1. `ArrayList`에 정수 100, 200, 300, 400을 순서대로 삽입하세요.\n",
        "2. `getEntry()` 함수를 사용하여 두 번째 위치(인덱스 1)에 있는 요소를 출력하세요.\n",
        "3. 존재하지 않는 위치(예: 인덱스 10)에 대해 `getEntry()`를 호출한 결과를 출력하세요.\n",
        "\n",
        "**예시 출력:**\n",
        "```\n",
        "100\n",
        "None\n",
        "```\n",
        "---"
      ],
      "metadata": {
        "id": "4JkART-XTQX8"
      }
    },
    {
      "cell_type": "code",
      "source": [
        "# 배열 초기화\n",
        "capacity = 100\n",
        "array = [None] * capacity\n",
        "size = 0\n",
        "\n",
        "def insert(position, value):\n",
        "    global size\n",
        "    for i in range(size, position, -1):\n",
        "        array[i] = array[i - 1]\n",
        "    array[position] = value\n",
        "    size += 1\n",
        "\n",
        "def getEntry(position):\n",
        "    if position < 0 or position >= size:\n",
        "        return None\n",
        "    return array[position]"
      ],
      "metadata": {
        "id": "-ihlpbDmTRK6"
      },
      "execution_count": null,
      "outputs": []
    },
    {
      "cell_type": "code",
      "source": [
        "insert(0, 100)\n",
        "insert(1, 200)\n",
        "insert(2, 300)\n",
        "insert(3, 400)\n",
        "\n",
        "# 두 번째 위치(인덱스 1)의 요소 가져오기\n",
        "print(getEntry(1))\n",
        "\n",
        "# 존재하지 않는 위치(인덱스 10)의 요소 가져오기\n",
        "print(getEntry(10))\n"
      ],
      "metadata": {
        "id": "DFcEUCXPAv1z"
      },
      "execution_count": null,
      "outputs": []
    },
    {
      "cell_type": "markdown",
      "source": [
        "#### 문제 4: 리스트에서 특정 값 찾기\n",
        "1. `ArrayList`에 문자 'A', 'B', 'C', 'D', 'E'를 순서대로 삽입하세요.\n",
        "2. `find()` 함수를 사용하여 문자 'C'의 위치를 출력하세요.\n",
        "3. 리스트에 존재하지 않는 문자 'Z'를 찾아보고, 그 결과를 출력하세요.\n",
        "\n",
        "**예시 출력:**\n",
        "```\n",
        "문자 'C'의 위치: 2\n",
        "문자 'Z'의 위치: -1\n",
        "```\n",
        "---"
      ],
      "metadata": {
        "id": "k20nEso6TTip"
      }
    },
    {
      "cell_type": "code",
      "source": [
        "# 배열 초기화\n",
        "capacity = 100\n",
        "array = [None] * capacity\n",
        "size = 0\n",
        "\n",
        "def insert(position, value):\n",
        "    global size\n",
        "    for i in range(size, position, -1):\n",
        "        array[i] = array[i - 1]\n",
        "    array[position] = value\n",
        "    size += 1\n",
        "\n",
        "def find(value):\n",
        "    for i in range(size):\n",
        "        if array[i] == value:\n",
        "            return i\n",
        "    return -1"
      ],
      "metadata": {
        "id": "9V0Lw_ZCTT7h"
      },
      "execution_count": null,
      "outputs": []
    },
    {
      "cell_type": "code",
      "source": [
        "insert(0, 'A')\n",
        "insert(1, 'B')\n",
        "insert(2, 'C')\n",
        "insert(3, 'D')\n",
        "insert(4, 'E')\n",
        "\n",
        "position_c = find('C')\n",
        "print(f\"문자 'C'의 위치: {position_c}\")\n",
        "\n",
        "# 존재하지 않는 문자 위치 찾기\n",
        "position_z = find('Z')\n",
        "print(f\"문자 'Z'의 위치: {position_z}\")"
      ],
      "metadata": {
        "id": "uLA5Ma-qB0V4"
      },
      "execution_count": null,
      "outputs": []
    },
    {
      "cell_type": "markdown",
      "source": [
        "#### 문제 5: 리스트의 상태 확인 및 출력\n",
        "1. `ArrayList`에 요소를 몇 개 삽입한 후, `isEmpty()`와 `isFull()` 함수의 결과를 출력하세요.\n",
        "2. 리스트에 10개의 숫자를 삽입하여 용량의 절반을 채운 후, `display()` 함수를 사용하여 리스트의 현재 상태를 출력하세요.\n",
        "\n",
        "**예시 출력:**\n",
        "```\n",
        "리스트가 비어 있습니까? False\n",
        "리스트가 가득 찼습니까? False\n",
        "ArrayList: [0, 1, 2, 3, 4, 5, 6, 7, 8, 9]\n",
        "```\n",
        "---"
      ],
      "metadata": {
        "id": "ARIChLd7TV9W"
      }
    },
    {
      "cell_type": "code",
      "source": [
        "# 배열 초기화\n",
        "capacity = 20  # 용량을 20으로 설정 (문제에서 용량의 절반인 10개를 채우기 위함)\n",
        "array = [None] * capacity\n",
        "size = 0\n",
        "\n",
        "# insert 함수 정의\n",
        "def insert(position, value):\n",
        "    global size\n",
        "    for i in range(size, position, -1):\n",
        "        array[i] = array[i - 1]\n",
        "    array[position] = value\n",
        "    size += 1\n",
        "\n",
        "# isEmpty 함수 정의\n",
        "def isEmpty():\n",
        "    return size == 0\n",
        "\n",
        "# isFull 함수 정의\n",
        "def isFull():\n",
        "    return size == capacity\n",
        "\n",
        "# display 함수 정의\n",
        "def display():\n",
        "    print(\"ArrayList:\", array[:size])"
      ],
      "metadata": {
        "id": "ZTAS5BceTWUH"
      },
      "execution_count": null,
      "outputs": []
    },
    {
      "cell_type": "code",
      "source": [
        "insert(0, 5)\n",
        "insert(1, 10)\n",
        "\n",
        "print(\"리스트가 비어 있습니까?\", isEmpty())\n",
        "print(\"리스트가 가득 찼습니까?\", isFull())\n",
        "\n",
        "# 10개의 숫자를 삽입하여 리스트 절반 채우기\n",
        "for i in range(10):\n",
        "    insert(size, i)\n",
        "\n",
        "display()"
      ],
      "metadata": {
        "id": "cj3WyVYLCc1I"
      },
      "execution_count": null,
      "outputs": []
    },
    {
      "cell_type": "markdown",
      "metadata": {
        "id": "N1QxApYamyQA"
      },
      "source": [
        "문제 6: 중복이 허용된 주어진 리스트에서 입력된 e를 모두 삭제하는 remove_all(list, e) 메소드를 구현하세요.  "
      ]
    },
    {
      "cell_type": "code",
      "source": [
        "def remove_all(lst, e):\n",
        "    # 리스트에 요소 e가 더 이상 없을 때까지 제거\n",
        "    while e in lst:\n",
        "        lst.remove(e)"
      ],
      "metadata": {
        "id": "sXSbhwCcCv9r"
      },
      "execution_count": null,
      "outputs": []
    },
    {
      "cell_type": "code",
      "source": [
        "lst = [1, 2, 3, 4, 3, 5, 3, 6]\n",
        "\n",
        "# 3 제거\n",
        "remove_all(lst, 3)\n",
        "\n",
        "print(lst)"
      ],
      "metadata": {
        "id": "RrsW9MQDC9ig"
      },
      "execution_count": null,
      "outputs": []
    },
    {
      "cell_type": "markdown",
      "metadata": {
        "id": "nreW0XHupQ5q"
      },
      "source": [
        "문제 7: 리스트에서 값 존재 여부 확인하는 함수를 구현하세요. (contains_value 함수)\n",
        "\n",
        "다음 슈코코드를 Python으로 변환하고, 변환 후, 슈도코드는 주석처리하세요."
      ]
    },
    {
      "cell_type": "code",
      "execution_count": null,
      "metadata": {
        "id": "oxfgjtfPpQ5r"
      },
      "outputs": [],
      "source": [
        "# 함수: contains_value(arr, value)\n",
        "#     find 함수 호출하여 value가 리스트에 있는지 확인\n",
        "#     만약 값이 리스트에 있으면 해당 인덱스를 반환\n",
        "#     값이 없으면 -1 반환\n",
        "# 끝"
      ]
    },
    {
      "cell_type": "code",
      "source": [
        "def contains_value(arr, value):\n",
        "    # 리스트에 value가 있는지 확인\n",
        "    for i in range(len(arr)):\n",
        "        if arr[i] == value:\n",
        "            return i  # 있으면 인덱스 반환\n",
        "    return -1  # 없으면 -1 반환"
      ],
      "metadata": {
        "id": "63rLvV-eDP6D"
      },
      "execution_count": null,
      "outputs": []
    },
    {
      "cell_type": "code",
      "source": [
        "arr = [10, 20, 30, 40, 50]\n",
        "\n",
        "# 값 30이 리스트에 있는지 확인\n",
        "result = contains_value(arr, 30)\n",
        "print(\"30의 인덱스:\", result)\n",
        "\n",
        "# 값 100이 리스트에 있는지 확인\n",
        "result = contains_value(arr, 100)\n",
        "print(\"100의 인덱스:\", result)\n"
      ],
      "metadata": {
        "id": "KpLYECBODVVC"
      },
      "execution_count": null,
      "outputs": []
    },
    {
      "cell_type": "markdown",
      "metadata": {
        "id": "mORJj3XJpQ5r"
      },
      "source": [
        "문제 8: 리스트 역순으로 출력하는 함수를 구현하세요. (display_reverse 함수)\n",
        "\n",
        "다음 슈코코드를 Python으로 변환하고, 변환 후, 슈도코드는 주석처리하세요."
      ]
    },
    {
      "cell_type": "code",
      "execution_count": null,
      "metadata": {
        "id": "lgQEi5qPpQ5r"
      },
      "outputs": [],
      "source": [
        "# 함수: display_reverse()\n",
        "#     리스트의 크기만큼 반복 (인덱스를 리스트의 끝부터 시작하여 첫 번째까지):\n",
        "#         리스트의 요소를 역순으로 출력\n",
        "#     끝\n",
        "#     역순으로 출력된 리스트 표시\n",
        "# 끝"
      ]
    },
    {
      "cell_type": "code",
      "source": [
        "def display_reverse(arr):\n",
        "    # 리스트의 크기만큼 역순으로 반복\n",
        "    for i in range(len(arr) - 1, -1, -1):\n",
        "        print(arr[i], end=' ')  # 리스트의 요소를 역순으로 출력"
      ],
      "metadata": {
        "id": "K9EE-cfwDm0y"
      },
      "execution_count": null,
      "outputs": []
    },
    {
      "cell_type": "code",
      "source": [
        "arr = [1, 2, 3, 4, 5]\n",
        "\n",
        "display_reverse(arr)"
      ],
      "metadata": {
        "id": "dycl79h6Dpf6"
      },
      "execution_count": null,
      "outputs": []
    },
    {
      "cell_type": "markdown",
      "metadata": {
        "id": "voI44E7dpQ5r"
      },
      "source": [
        "문제 9: 두 리스트 합치는 함수를 구현하세요. (merge_lists 함수)\n",
        "\n",
        "다음 슈코코드를 Python으로 변환하고, 변환 후, 슈도코드는 주석처리하세요."
      ]
    },
    {
      "cell_type": "code",
      "source": [
        "# 함수: merge_lists(list1, list2)\n",
        "#     새로운 리스트의 용량을 list1과 list2의 크기 합으로 설정\n",
        "#     새로운 배열(new_array)을 생성\n",
        "\n",
        "#     list1의 모든 요소를 새로운 배열의 앞부분에 복사\n",
        "#     list2의 모든 요소를 새로운 배열의 뒷부분에 복사\n",
        "\n",
        "#     병합된 새로운 배열 반환\n",
        "# 끝"
      ],
      "metadata": {
        "id": "9BhCNuPTExQ4"
      },
      "execution_count": null,
      "outputs": []
    },
    {
      "cell_type": "code",
      "source": [
        "def merge_lists(list1, list2):\n",
        "    merged_list = []\n",
        "    for item in list1:\n",
        "        merged_list.append(item)  # 첫 번째 리스트 요소들 추가\n",
        "    for item in list2:\n",
        "        merged_list.append(item)  # 두 번째 리스트 요소들 추가\n",
        "    return merged_list"
      ],
      "metadata": {
        "id": "yC8usbX_Epv-"
      },
      "execution_count": null,
      "outputs": []
    },
    {
      "cell_type": "code",
      "source": [
        "list1 = [1, 2, 3]\n",
        "list2 = [4, 5, 6]\n",
        "\n",
        "result = merge_lists(list1, list2)\n",
        "\n",
        "print(\"합쳐진 리스트:\", result)"
      ],
      "metadata": {
        "id": "qMXRwCpFEsz5"
      },
      "execution_count": null,
      "outputs": []
    },
    {
      "cell_type": "markdown",
      "metadata": {
        "id": "Mweny0YUpQ5r"
      },
      "source": [
        "## Class로 구현한 ArrayList"
      ]
    },
    {
      "cell_type": "code",
      "execution_count": null,
      "metadata": {
        "id": "SHn8bdHspQ5r"
      },
      "outputs": [],
      "source": [
        "# 코드 3.3: 배열로 구현된 리스트 클래스  (참고 파일: ch03/ArrayList.py)\n",
        "\n",
        "class ArrayList:\n",
        "    # 리스트의 데이터: 생성자에서 정의 및 초기화\n",
        "    def __init__( self, capacity=100 ):\n",
        "        self.capacity = capacity\n",
        "        self.array = [None]*capacity\n",
        "        self.size = 0\n",
        "\n",
        "    # 리스트의 연산: 클래스의 메소드\n",
        "    def isEmpty( self ):\n",
        "       return self.size == 0\n",
        "\n",
        "    def isFull( self ):\n",
        "       return self.size == self.capacity\n",
        "\n",
        "    def getEntry(self, pos) :\n",
        "        if 0 <= pos < self.size :\n",
        "            return self.array[pos]\n",
        "        else : return None\n",
        "\n",
        "    def insert( self, pos, e ) :\n",
        "        if not self.isFull() and 0 <= pos <= self.size :\n",
        "            for i in range(self.size, pos,-1) :\n",
        "                self.array[i] = self.array[i-1]\n",
        "            self.array[pos] = e\n",
        "            self.size += 1\n",
        "        else : pass\n",
        "\n",
        "    def delete( self, pos ) :\n",
        "        if not self.isEmpty() and 0 <= pos < self.size :\n",
        "            e = self.array[pos]\n",
        "            for i in range(pos, self.size-1) :\n",
        "                self.array[i] = self.array[i+1]\n",
        "            self.size -= 1\n",
        "            return e\n",
        "        else : pass\n",
        "\n",
        "    def __str__( self ) :\n",
        "        return str(self.array[0:self.size])"
      ]
    },
    {
      "cell_type": "markdown",
      "source": [
        "위의 코드를 테스트하는 코드는 다음과 같습니다."
      ],
      "metadata": {
        "id": "OaRzfRBaqEPJ"
      }
    },
    {
      "cell_type": "code",
      "source": [
        "#=========================================================\n",
        "#   - 이 파일이 직접 실행될 때에는 다음 문장들을 실행함.\n",
        "#   - 다른 파일에서 모듈로 불려지는 경우는 실행되지 않음.\n",
        "#=========================================================\n",
        "# 테스트 프로그램\n",
        "# 테스트 프로그램\n",
        "if __name__ == \"__main__\":\n",
        "    L = ArrayList(50)\n",
        "    L2 = ArrayList(100)\n",
        "    print(\"최초   \", L)"
      ],
      "metadata": {
        "id": "KDcUgQaYqHhX"
      },
      "execution_count": null,
      "outputs": []
    },
    {
      "cell_type": "code",
      "source": [
        "    L.insert(0, 10)\n",
        "    L.insert(0, 20)\n",
        "    L.insert(1, 30)\n",
        "    L.insert(L.size, 40)\n",
        "    L.insert(2, 50)\n",
        "    print(\"삽입x5 \", L)\n",
        "    L.delete(2)\n",
        "    print(\"삭제(2)\", L)\n",
        "    L.delete(L.size-1)\n",
        "    print(\"삭제(E)\", L)\n",
        "    L.delete(0)\n",
        "    print(\"삭제(0)\", L)"
      ],
      "metadata": {
        "id": "43DR4EGK-m6I"
      },
      "execution_count": null,
      "outputs": []
    },
    {
      "cell_type": "markdown",
      "source": [
        "### 프로그래밍 연습 문제\n",
        "\n",
        "#### 문제 1: 배열 리스트에 요소 삽입하기\n",
        "1. `ArrayList` 클래스를 사용하여 빈 리스트를 생성하고, `insert()` 메소드를 이용하여 리스트의 첫 번째 위치에 숫자 5를 삽입하세요.\n",
        "2. 이어서 두 번째 위치에 숫자 10을 삽입하고, 세 번째 위치에 숫자 15를 삽입하세요.\n",
        "3. 최종 리스트를 출력하세요.\n",
        "\n",
        "**예시 출력:**\n",
        "```\n",
        "[5, 10, 15]\n",
        "```\n",
        "\n",
        "---\n"
      ],
      "metadata": {
        "id": "ESnm0Xl3lzod"
      }
    },
    {
      "cell_type": "code",
      "source": [
        "L1 = ArrayList()\n",
        "L1.insert(0, 5)\n",
        "L1.insert(1, 10)\n",
        "L1.insert(2, 15)\n",
        "print(L1)"
      ],
      "metadata": {
        "id": "du_wXKopl2Cj"
      },
      "execution_count": null,
      "outputs": []
    },
    {
      "cell_type": "markdown",
      "source": [
        "\n",
        "#### 문제 2: 배열 리스트에서 요소 삭제하기\n",
        "1. `ArrayList` 객체를 생성하고, 숫자 1, 2, 3, 4, 5를 순서대로 리스트에 삽입하세요.\n",
        "2. 두 번째 위치에 있는 요소를 삭제하세요.\n",
        "3. 삭제 후의 리스트를 출력하세요.\n",
        "\n",
        "**예시 출력:**\n",
        "```\n",
        "[1, 3, 4, 5]\n",
        "```\n",
        "\n",
        "---\n",
        "\n"
      ],
      "metadata": {
        "id": "xA0sHXiol2Mq"
      }
    },
    {
      "cell_type": "code",
      "source": [
        "L3 = ArrayList()\n",
        "\n",
        "L3.insert(0, 1)\n",
        "L3.insert(1, 2)\n",
        "L3.insert(2, 3)\n",
        "L3.insert(3, 4)\n",
        "L3.insert(4, 5)\n",
        "\n",
        "print(L3)\n",
        "\n",
        "L3.delete(1)\n",
        "print(L3)"
      ],
      "metadata": {
        "id": "kyWefsbql5D9"
      },
      "execution_count": null,
      "outputs": []
    },
    {
      "cell_type": "markdown",
      "source": [
        "#### 문제 3: 리스트가 비어 있는지 확인하기\n",
        "1. 새로운 `ArrayList` 객체를 생성하세요.\n",
        "2. 리스트가 비어 있는지 `isEmpty()` 메소드를 사용하여 확인하고, 결과를 출력하세요.\n",
        "3. 리스트에 숫자 7을 삽입한 후, 다시 `isEmpty()` 메소드를 사용하여 확인하고, 결과를 출력하세요.\n",
        "\n",
        "**예시 출력:**\n",
        "```\n",
        "리스트가 비어 있습니까? True\n",
        "리스트가 비어 있습니까? False\n",
        "```\n",
        "\n",
        "---\n"
      ],
      "metadata": {
        "id": "OBBJq5g0l5M9"
      }
    },
    {
      "cell_type": "code",
      "source": [
        "L1 = ArrayList()\n",
        "\n",
        "print(\"리스트가 비어 있습니까?\", L1.isEmpty())  # True\n",
        "L1.insert(0, 7)\n",
        "print(\"리스트가 비어 있습니까?\", L1.isEmpty())  # False"
      ],
      "metadata": {
        "id": "Fn5k2k8bl8UC"
      },
      "execution_count": null,
      "outputs": []
    },
    {
      "cell_type": "markdown",
      "source": [
        "#### 문제 4: 특정 위치의 요소 가져오기\n",
        "1. `ArrayList` 객체를 생성하고, 문자열 \"apple\", \"banana\", \"cherry\"를 순서대로 리스트에 삽입하세요.\n",
        "2. `getEntry()` 메소드를 사용하여 두 번째 위치에 있는 요소를 가져와서 출력하세요.\n",
        "3. 존재하지 않는 위치(예: 10번째 위치)에 대한 `getEntry()` 호출 결과를 확인하고, 이를 출력하세요.\n",
        "\n",
        "**예시 출력:**\n",
        "```\n",
        "두 번째 요소: banana\n",
        "10번째 위치의 요소: None\n",
        "```\n",
        "\n",
        "---\n",
        "\n",
        "\n"
      ],
      "metadata": {
        "id": "0FjxczJTl8c5"
      }
    },
    {
      "cell_type": "code",
      "source": [
        "# 1. ArrayList 객체 생성\n",
        "array_list = ArrayList()\n",
        "\n",
        "# 문자열 \"apple\", \"banana\", \"cherry\" 순서대로 삽입\n",
        "array_list.insert(0, \"apple\")\n",
        "array_list.insert(1, \"banana\")\n",
        "array_list.insert(2, \"cherry\")\n",
        "\n",
        "# 2. 두 번째 위치(인덱스 1)의 요소 가져오기\n",
        "second_element = array_list.getEntry(1)\n",
        "print(\"두 번째 요소:\", second_element)  # 출력: banana\n",
        "\n",
        "# 3. 존재하지 않는 10번째 위치의 요소 가져오기\n",
        "tenth_element = array_list.getEntry(10)\n",
        "print(\"10번째 위치의 요소:\", tenth_element)  # 출력: None"
      ],
      "metadata": {
        "id": "Z79LZvlyl-J7"
      },
      "execution_count": null,
      "outputs": []
    },
    {
      "cell_type": "markdown",
      "source": [
        "#### 문제 5: 리스트가 가득 찬 경우 확인하기\n",
        "1. `ArrayList` 객체를 용량(capacity)이 3인 상태로 생성하세요.\n",
        "2. 세 개의 숫자 10, 20, 30을 리스트에 삽입하세요.\n",
        "3. 리스트가 가득 찼는지 `isFull()` 메소드를 사용하여 확인하고, 결과를 출력하세요.\n",
        "4. 네 번째 요소 40을 삽입하려고 시도한 후, 다시 `isFull()` 메소드의 결과를 출력하세요.\n",
        "\n",
        "**예시 출력:**\n",
        "```\n",
        "리스트가 가득 찼습니까? True\n",
        "```"
      ],
      "metadata": {
        "id": "p9LJ797Rl-Ti"
      }
    },
    {
      "cell_type": "markdown",
      "metadata": {
        "id": "mY4O9RYxpQ5s"
      },
      "source": [
        "문제 6: 리스트에서 최대값 찾기\n",
        "ArrayList 클래스의 메소드를 사용하여 리스트에서 최대값을 찾는 함수를 작성하세요. 단, 리스트가 비어 있을 경우 None을 반환해야 합니다.\n",
        "\n",
        "다음 슈코코드를 Python으로 변환하고, 변환 후, 슈도코드는 주석처리하세요."
      ]
    },
    {
      "cell_type": "code",
      "execution_count": null,
      "metadata": {
        "id": "-T7IKkMDpQ5s"
      },
      "outputs": [],
      "source": [
        "# 함수: find_max(arr_list)\n",
        "#     만약 리스트가 비어 있다면:\n",
        "#         None 반환\n",
        "#     끝\n",
        "\n",
        "#     max_value에 리스트의 첫 번째 요소 저장 (arr_list의 0번째 요소)\n",
        "\n",
        "#     인덱스 1부터 리스트의 끝까지 반복 (i는 1부터 arr_list.size-1까지):\n",
        "#         current_value에 리스트의 i번째 요소 저장 (arr_list의 i번째 요소)\n",
        "\n",
        "#         만약 current_value가 max_value보다 크면:\n",
        "#             max_value를 current_value로 업데이트\n",
        "#         끝\n",
        "#     끝\n",
        "\n",
        "#     max_value 반환\n",
        "# 끝"
      ]
    },
    {
      "cell_type": "code",
      "source": [
        "def find_max(arr_list):\n",
        "    if arr_list.isEmpty():\n",
        "        return None\n",
        "\n",
        "    max_value = arr_list.getEntry(0)\n",
        "\n",
        "    for i in range(1, arr_list.size):\n",
        "        current_value = arr_list.getEntry(i)\n",
        "\n",
        "        if current_value > max_value:\n",
        "            max_value = current_value\n",
        "\n",
        "    return max_value"
      ],
      "metadata": {
        "id": "Vnjie3ziy2XD"
      },
      "execution_count": null,
      "outputs": []
    },
    {
      "cell_type": "code",
      "source": [
        "a = ArrayList()\n",
        "a.insert(0, 5)\n",
        "a.insert(1, 10)\n",
        "a.insert(2, 15)\n",
        "\n",
        "max_value = find_max(a)\n",
        "print(\"Maximum value:\", max_value)"
      ],
      "metadata": {
        "id": "fm63m0byzDGI"
      },
      "execution_count": null,
      "outputs": []
    },
    {
      "cell_type": "markdown",
      "metadata": {
        "id": "OpE91uPJpQ5s"
      },
      "source": [
        "문제 7: 특정 값 제거하기\n",
        "리스트에서 특정 값을 찾아 제거하는 함수를 작성하세요. 해당 값이 여러 번 존재하면 첫 번째로 나타나는 값을 제거하고, 값이 존재하지 않으면 아무 작업도 하지 않도록 구현하세요.\n",
        "\n",
        "다음 슈코코드를 Python으로 변환하고, 변환 후, 슈도코드는 주석처리하세요."
      ]
    },
    {
      "cell_type": "code",
      "execution_count": null,
      "metadata": {
        "id": "YklE7xvApQ5s"
      },
      "outputs": [],
      "source": [
        "# 함수: remove_value(arr_list, value)\n",
        "#     리스트의 크기만큼 반복 (i는 0부터 arr_list.size-1까지):\n",
        "#         만약 리스트의 i번째 요소가 value와 같으면:\n",
        "#             리스트에서 i번째 요소를 삭제\n",
        "#             반복 종료\n",
        "#         끝\n",
        "#     끝\n",
        "# 끝"
      ]
    },
    {
      "cell_type": "code",
      "source": [
        "def remove_value(arr_list, value):\n",
        "    for i in range(arr_list.size):\n",
        "        if arr_list.getEntry(i) == value:\n",
        "            arr_list.delete(i)\n",
        "            break"
      ],
      "metadata": {
        "id": "NNBR7GyIzWu2"
      },
      "execution_count": null,
      "outputs": []
    },
    {
      "cell_type": "code",
      "source": [
        "a = ArrayList()\n",
        "a.insert(0, 5)\n",
        "a.insert(1, 10)\n",
        "a.insert(2, 15)\n",
        "a.insert(3, 10)\n",
        "\n",
        "remove_value(a, 10)\n",
        "\n",
        "print(a)"
      ],
      "metadata": {
        "id": "LSy25Vy7zcZa"
      },
      "execution_count": null,
      "outputs": []
    },
    {
      "cell_type": "markdown",
      "metadata": {
        "id": "smPQfMzypQ5s"
      },
      "source": [
        "문제 8: 두 리스트 병합하기\n",
        "주어진 두 개의 ArrayList를 병합하는 함수를 작성하세요. 각 리스트의 데이터를 앞에서부터 차례대로 다른 리스트에 삽입하여 하나의 리스트로 병합합니다.\n",
        "\n",
        "다음 슈코코드를 Python으로 변환하고, 변환 후, 슈도코드는 주석처리하세요."
      ]
    },
    {
      "cell_type": "code",
      "execution_count": null,
      "metadata": {
        "id": "HShl4Iz0pQ5s"
      },
      "outputs": [],
      "source": [
        "# 함수: merge_lists(list1, list2)\n",
        "#     새로운 ArrayList(merged_list)를 생성 (크기는 list1과 list2의 크기 합계)\n",
        "\n",
        "#     리스트 1의 크기만큼 반복 (i는 0부터 list1.size-1까지):\n",
        "#         list1의 i번째 요소를 merged_list에 삽입\n",
        "#     끝\n",
        "\n",
        "#     리스트 2의 크기만큼 반복 (i는 0부터 list2.size-1까지):\n",
        "#         list2의 i번째 요소를 merged_list에 삽입\n",
        "#     끝\n",
        "\n",
        "#     merged_list 반환\n",
        "# 끝\n"
      ]
    },
    {
      "cell_type": "code",
      "source": [
        "def merge_lists(list1, list2):\n",
        "    merged_list = ArrayList(list1.size + list2.size)\n",
        "\n",
        "    for i in range(list1.size):\n",
        "        merged_list.insert(i, list1.getEntry(i))\n",
        "\n",
        "    for i in range(list2.size):\n",
        "        merged_list.insert(list1.size + i, list2.getEntry(i))\n",
        "\n",
        "    return merged_list"
      ],
      "metadata": {
        "id": "K_DpLH3sz3Z6"
      },
      "execution_count": null,
      "outputs": []
    },
    {
      "cell_type": "code",
      "source": [
        "list1 = ArrayList()\n",
        "list1.insert(0, 1)\n",
        "list1.insert(1, 3)\n",
        "list1.insert(2, 5)\n",
        "\n",
        "list2 = ArrayList()\n",
        "list2.insert(0, 2)\n",
        "list2.insert(1, 4)\n",
        "list2.insert(2, 6)\n",
        "\n",
        "# 병합\n",
        "merged_list = merge_lists(list1, list2)\n",
        "\n",
        "print(merged_list)"
      ],
      "metadata": {
        "id": "Yt0P3KvAz821"
      },
      "execution_count": null,
      "outputs": []
    },
    {
      "cell_type": "markdown",
      "source": [
        "# 집합의 클래스 구현: ArraySet()"
      ],
      "metadata": {
        "id": "HQ_U5M9p5auy"
      }
    },
    {
      "cell_type": "code",
      "source": [
        "class ArraySet:\n",
        "    def __init__( self, capacity=100 ):\n",
        "        self.capacity = capacity\n",
        "        self.array = [None]*capacity\n",
        "        self.size = 0\n",
        "\n",
        "    def isEmpty( self ):\n",
        "       return self.size == 0\n",
        "\n",
        "    def isFull( self ):\n",
        "       return self.size == self.capacity\n",
        "\n",
        "    def __str__( self ) :\n",
        "        return str(self.array[0:self.size])\n",
        "\n",
        "    def contains(self, e) :\n",
        "        for i in range(self.size) :\n",
        "            if self.array[i] == e :\n",
        "                return True\n",
        "        return False\n",
        "\n",
        "    def insert(self, e) :\n",
        "        if not self.contains(e) and not self.isFull() :\n",
        "           self.array[self.size] = e\n",
        "           self.size += 1\n",
        "        else : pass\n",
        "\n",
        "    def delete(self, e) :\n",
        "        for i in range(self.size) :\n",
        "            if self.array[i] == e :\n",
        "                self.array[i] = self.array[self.size-1]\n",
        "                self.size -= 1\n",
        "\n",
        "    def union( self, setB ):\n",
        "        setC = ArraySet()\n",
        "        for i in range(self.size) :\n",
        "            setC.insert(self.array[i])\n",
        "\n",
        "        for i in range(setB.size) :\n",
        "            if not setC.contains(setB.array[i]) :\n",
        "                setC.insert(setB.array[i])\n",
        "\n",
        "        return setC\n",
        "\n",
        "    def intersect( self, setB ):\n",
        "        setC = ArraySet()\n",
        "        for i in range(setB.size) :\n",
        "            if self.contains(setB.array[i]) :\n",
        "                setC.insert(setB.array[i])\n",
        "        return setC\n",
        "\n",
        "    def difference( self, setB ):\n",
        "        setC = ArraySet()\n",
        "        for i in range(self.size) :\n",
        "            if not setB.contains(self.array[i]) :\n",
        "                setC.insert(self.array[i])\n",
        "        return setC\n",
        "\n",
        "    # 도전 코딩!\n",
        "    def __eq__( self, setB ):\n",
        "        if self.size != setB.size :\n",
        "            return False\n",
        "\n",
        "        for i in range(self.size) :\n",
        "            if not setB.contains(self.array[i]) :\n",
        "                return False\n",
        "        return True\n",
        "\n",
        "    def isProperSubsetOf(self, setB):\n",
        "        if self.size >= setB.size:\n",
        "            return False\n",
        "        for elem in self.array[:self.size]:\n",
        "            if not setB.contains(elem):\n",
        "                return False\n",
        "        return True\n",
        "\n",
        "    def symmetricDifference(self, setB):\n",
        "        setUnion = self.union(setB)            # 두 집합의 합집합\n",
        "        setIntersection = self.intersect(setB) # 두 집합의 교집합\n",
        "        setSymDiff = setUnion.difference(setIntersection) # 대칭 차집합\n",
        "        return setSymDiff"
      ],
      "metadata": {
        "id": "_Gfqc8st5uws"
      },
      "execution_count": null,
      "outputs": []
    },
    {
      "cell_type": "markdown",
      "source": [
        "### 프로그래밍 연습 문제\n",
        "\n",
        "#### 문제 1: 집합에 요소 삽입하기\n",
        "1. `ArraySet` 클래스를 사용하여 빈 집합을 생성하고, 숫자 5, 10, 15를 순서대로 삽입하세요.\n",
        "2. 각 숫자를 삽입한 후 집합의 상태를 출력하세요.\n",
        "3. 이미 존재하는 숫자 10을 다시 삽입하려고 시도한 후, 집합의 상태를 출력하세요.\n",
        "\n",
        "**예시 출력:**\n",
        "```\n",
        "[5]\n",
        "[5, 10]\n",
        "[5, 10, 15]\n",
        "[5, 10, 15]\n",
        "```\n",
        "\n",
        "---"
      ],
      "metadata": {
        "id": "A0lvf-EM6F7H"
      }
    },
    {
      "cell_type": "code",
      "source": [
        "setA = ArraySet()\n",
        "setA.insert(5)\n",
        "print(setA)\n",
        "\n",
        "setA.insert(10)\n",
        "print(setA)\n",
        "\n",
        "setA.insert(15)\n",
        "print(setA)\n",
        "\n",
        "setA.insert(10)\n",
        "print(setA)"
      ],
      "metadata": {
        "id": "iTTIHfi46IDn"
      },
      "execution_count": null,
      "outputs": []
    },
    {
      "cell_type": "markdown",
      "source": [
        "\n",
        "#### 문제 2: 집합에서 요소 삭제하기\n",
        "1. `ArraySet` 객체를 생성하고, 숫자 1, 2, 3, 4, 5를 순서대로 삽입하세요.\n",
        "2. 숫자 3을 삭제한 후, 집합의 상태를 출력하세요.\n",
        "3. 존재하지 않는 숫자 6을 삭제하려고 시도한 후, 집합의 상태를 확인하세요.\n",
        "\n",
        "**예시 출력:**\n",
        "```\n",
        "[1, 2, 3, 4, 5]\n",
        "[1, 2, 5, 4]\n",
        "[1, 2, 5, 4]\n",
        "```\n",
        "\n",
        "---"
      ],
      "metadata": {
        "id": "0OL9biIu6IQc"
      }
    },
    {
      "cell_type": "code",
      "source": [
        "a = ArraySet()\n",
        "\n",
        "a.insert(1)\n",
        "a.insert(2)\n",
        "a.insert(3)\n",
        "a.insert(4)\n",
        "a.insert(5)\n",
        "print(a)  # 초기 상태\n",
        "\n",
        "# 숫자 3 삭제 후 집합 상태 출력\n",
        "a.delete(3)\n",
        "print(a)\n",
        "\n",
        "# 존재하지 않는 숫자 6 삭제 시도, 집합 상태 출력\n",
        "a.delete(6)\n",
        "print(a)"
      ],
      "metadata": {
        "id": "IfPqJYic6KVL"
      },
      "execution_count": null,
      "outputs": []
    },
    {
      "cell_type": "markdown",
      "source": [
        "#### 문제 3: 두 집합의 합집합 생성하기\n",
        "1. `ArraySet` 객체를 두 개 생성하세요. 첫 번째 집합에는 {1, 2, 3}, 두 번째 집합에는 {3, 4, 5}를 삽입하세요.\n",
        "2. 두 집합의 합집합을 구하여 새로운 집합에 저장하고, 그 결과를 출력하세요.\n",
        "\n",
        "**예시 출력:**\n",
        "```\n",
        "[1, 2, 3, 4, 5]\n",
        "```\n",
        "\n",
        "---"
      ],
      "metadata": {
        "id": "6oUQ9uHs6MxW"
      }
    },
    {
      "cell_type": "code",
      "source": [
        "set1 = ArraySet()\n",
        "set1.insert(1)\n",
        "set1.insert(2)\n",
        "set1.insert(3)\n",
        "\n",
        "set2 = ArraySet()\n",
        "set2.insert(3)\n",
        "set2.insert(4)\n",
        "set2.insert(5)\n",
        "\n",
        "union = set1.union(set2)\n",
        "\n",
        "print(union)"
      ],
      "metadata": {
        "id": "p6OwfCCI6NRb"
      },
      "execution_count": null,
      "outputs": []
    },
    {
      "cell_type": "markdown",
      "source": [
        "#### 문제 4: 두 집합의 교집합 생성하기\n",
        "1. `ArraySet` 객체를 두 개 생성하세요. 첫 번째 집합에는 {10, 20, 30, 40}, 두 번째 집합에는 {30, 40, 50, 60}을 삽입하세요.\n",
        "2. 두 집합의 교집합을 구하여 새로운 집합에 저장하고, 그 결과를 출력하세요.\n",
        "\n",
        "**예시 출력:**\n",
        "```\n",
        "[30, 40]\n",
        "```\n",
        "\n",
        "---"
      ],
      "metadata": {
        "id": "qK46terw6PD0"
      }
    },
    {
      "cell_type": "code",
      "source": [
        "set1 = ArraySet()\n",
        "set1.insert(10)\n",
        "set1.insert(20)\n",
        "set1.insert(30)\n",
        "set1.insert(40)\n",
        "\n",
        "set2 = ArraySet()\n",
        "set2.insert(30)\n",
        "set2.insert(40)\n",
        "set2.insert(50)\n",
        "set2.insert(60)\n",
        "\n",
        "# 교집합 생성\n",
        "intersection = set1.intersect(set2)\n",
        "\n",
        "print(intersection)"
      ],
      "metadata": {
        "id": "rgj-M_876PfR"
      },
      "execution_count": null,
      "outputs": []
    },
    {
      "cell_type": "markdown",
      "source": [
        "#### 문제 5: 두 집합의 차집합 구하기\n",
        "1. `ArraySet` 객체를 두 개 생성하세요. 첫 번째 집합에는 {5, 10, 15, 20}, 두 번째 집합에는 {10, 20, 30}을 삽입하세요.\n",
        "2. 첫 번째 집합에서 두 번째 집합의 요소들을 제거한 차집합을 구하여 출력하세요.\n",
        "\n",
        "**예시 출력:**\n",
        "```\n",
        "[5, 15]\n",
        "```\n"
      ],
      "metadata": {
        "id": "DEgbQICx6Q2V"
      }
    },
    {
      "cell_type": "code",
      "source": [
        "set1 = ArraySet()\n",
        "set1.insert(5)\n",
        "set1.insert(10)\n",
        "set1.insert(15)\n",
        "set1.insert(20)\n",
        "\n",
        "set2 = ArraySet()\n",
        "set2.insert(10)\n",
        "set2.insert(20)\n",
        "set2.insert(30)\n",
        "\n",
        "# 차집합\n",
        "difference = set1.difference(set2)\n",
        "\n",
        "# 차집합 결과 출력\n",
        "print(difference)"
      ],
      "metadata": {
        "id": "icaU-q0JAHzn"
      },
      "execution_count": null,
      "outputs": []
    },
    {
      "cell_type": "markdown",
      "source": [
        "#### 문제 6: 부분 집합 판별하기\n",
        "1. `ArraySet` 객체 두 개를 생성하세요. 첫 번째 집합에는 {2, 4}, 두 번째 집합에는 {2, 4, 6, 8}을 삽입하세요.\n",
        "2. 첫 번째 집합이 두 번째 집합의 진부분집합인지 판별하고, 결과를 출력하세요.\n",
        "\n",
        "**예시 출력:**\n",
        "```\n",
        "첫 번째 집합은 두 번째 집합의 진부분집합입니까? True\n",
        "```\n",
        "\n",
        "**슈도코드 정답:**\n",
        "```plaintext\n",
        "Create an instance of ArraySet named setA and setB\n",
        "Insert 2, 4 into setA\n",
        "Insert 2, 4, 6, 8 into setB\n",
        "Check if setA is a proper subset of setB\n",
        "Display the result\n",
        "```\n"
      ],
      "metadata": {
        "id": "56kIxeQr_5IC"
      }
    },
    {
      "cell_type": "code",
      "source": [
        "setA = ArraySet()\n",
        "setA.insert(2)\n",
        "setA.insert(4)\n",
        "\n",
        "setB = ArraySet()\n",
        "setB.insert(2)\n",
        "setB.insert(4)\n",
        "setB.insert(6)\n",
        "setB.insert(8)\n",
        "\n",
        "# 첫 번째 집합이 두 번째 집합의 진부분집합인지\n",
        "is_proper_subset = setA.isProperSubsetOf(setB)\n",
        "\n",
        "print(f'첫 번째 집합은 두 번째 집합의 진부분집합입니까? {is_proper_subset}')"
      ],
      "metadata": {
        "id": "FQbNfJJr_8Re"
      },
      "execution_count": null,
      "outputs": []
    },
    {
      "cell_type": "markdown",
      "source": [
        "#### 문제 7: `ArraySet` 클래스 확장 - 대칭 차집합 메소드 추가하기\n",
        "\n",
        "#### 문제:\n",
        "1. `ArraySet` 클래스에 두 집합 간의 **대칭 차집합**을 구하는 새로운 메소드 `symmetricDifference(setB)`를 추가하세요.\n",
        "2. 대칭 차집합은 두 집합의 합집합에서 교집합을 뺀 집합으로, 즉 `(setA ∪ setB) - (setA ∩ setB)`를 의미합니다.\n",
        "3. 메소드를 구현한 후, 아래의 예시를 통해 기능을 테스트하세요:\n",
        "   - 첫 번째 집합에는 `{1, 2, 3, 4}`를 삽입하고, 두 번째 집합에는 `{3, 4, 5, 6}`을 삽입하세요.\n",
        "   - 두 집합의 대칭 차집합을 구하여 결과를 출력하세요.\n",
        "\n",
        "**예시 출력:**\n",
        "```\n",
        "대칭 차집합: [1, 2, 5, 6]\n",
        "```\n",
        "\n",
        "---\n",
        "\n",
        "### 슈도코드 정답:\n",
        "```plaintext\n",
        "Define a method `symmetricDifference(self, setB)` in the `ArraySet` class\n",
        "    Create a new set `setUnion` as the union of self and setB\n",
        "    Create a new set `setIntersection` as the intersection of self and setB\n",
        "    Create a new set `setSymDiff` as the difference between `setUnion` and `setIntersection`\n",
        "    return `setSymDiff`\n",
        "\n",
        "Create an instance of ArraySet named setA and setB\n",
        "Insert 1, 2, 3, 4 into setA\n",
        "Insert 3, 4, 5, 6 into setB\n",
        "Create a new set setC as the symmetric difference of setA and setB\n",
        "Display setC\n",
        "```\n",
        "\n",
        "---\n"
      ],
      "metadata": {
        "id": "vtmuZ4ZV_8hQ"
      }
    },
    {
      "cell_type": "code",
      "source": [
        "setA = ArraySet()\n",
        "setA.insert(1)\n",
        "setA.insert(2)\n",
        "setA.insert(3)\n",
        "setA.insert(4)\n",
        "\n",
        "setB = ArraySet()\n",
        "setB.insert(3)\n",
        "setB.insert(4)\n",
        "setB.insert(5)\n",
        "setB.insert(6)\n",
        "\n",
        "# 두 집합의 대칭 차집합\n",
        "setC = setA.symmetricDifference(setB)\n",
        "\n",
        "print(f'대칭 차집합: {setC}')"
      ],
      "metadata": {
        "id": "RJqDA2Fh__S1"
      },
      "execution_count": null,
      "outputs": []
    },
    {
      "cell_type": "markdown",
      "source": [
        "# 다음 코드는 ArraySet을 확장한 코드이다."
      ],
      "metadata": {
        "id": "sBwjRkoeCXpc"
      }
    },
    {
      "cell_type": "code",
      "source": [
        "class ArraySet:\n",
        "    def __init__( self ):\n",
        "        self.items = []\n",
        "\n",
        "    def size( self ): return len(self.items)\n",
        "    def isEmpty( self ): return self.size() == 0\n",
        "\n",
        "    def contains(self, item) :\n",
        "        return item in self.items\n",
        "\n",
        "        #for i in range(len(self.items)) :\n",
        "        #    if self.items[i] == item :\n",
        "        #        return True\n",
        "        #return False\n",
        "\n",
        "\n",
        "    def insert(self, elem) :\n",
        "        if self.contains(elem) == False :\n",
        "           self.items.append(elem)\n",
        "\n",
        "    def delete(self, elem) :\n",
        "        if self.contains(elem) :\n",
        "            self.items.remove(elem)\n",
        "\n",
        "    def union( self, setB ):                # C = self U  B\n",
        "        newSet = ArraySet()\n",
        "        newSet.items = list(self.items)\n",
        "        for elem in setB.items :\n",
        "            # if elem not in self.items :\n",
        "            if not self.contains(elem) :\n",
        "                newSet.items.append( elem)\n",
        "        return newSet\n",
        "\n",
        "    def intersect( self, setB ):            # C = self ^ B\n",
        "        setC = ArraySet()\n",
        "        for elem in setB.items :\n",
        "            # if elem in self.items :\n",
        "            if self.contains(elem) :\n",
        "                setC.items.append(elem)\n",
        "        return setC\n",
        "\n",
        "    def difference( self, setB ):           # C = self - B\n",
        "        setC = ArraySet()\n",
        "        for elem in self.items:\n",
        "            # if elem not in setB.items:\n",
        "            if not setB.contains(elem) :\n",
        "                setC.items.append(elem)\n",
        "        return setC\n",
        "\n",
        "    def display(self, msg):\n",
        "        print(msg, self.items)\n",
        "\n",
        "    def isProperSubsetOf( self, setB ):\n",
        "        for elem in self.items :\n",
        "           if elem not in setB : return False\n",
        "\n",
        "        if self.size() == setB.size() : return False\n",
        "        else: return True\n",
        "\n",
        "\n",
        "#    def __eq__( self, setB ):\n",
        "#        if self.size() != setB.size() :\n",
        "#            return False\n",
        "#        else :\n",
        "#            return self.isSubsetOf( setB )\n",
        "\n",
        "#    def isSubsetOf( self, setB ):\n",
        "#        for elem in self.items :\n",
        "#           if elem not in setB : return False\n",
        "#       return True\n",
        "\n",
        "\n",
        "#    def __iter__( self ):\n",
        "#        return _SetIterator( self.items )"
      ],
      "metadata": {
        "id": "-51DGNY75vvC"
      },
      "execution_count": null,
      "outputs": []
    },
    {
      "cell_type": "markdown",
      "source": [],
      "metadata": {
        "id": "fnomk9oP6YLv"
      }
    },
    {
      "cell_type": "markdown",
      "source": [
        "### 프로그래밍 연습 문제\n",
        "\n",
        "#### 문제 1: 두 집합의 차집합과 합집합 비교하기\n",
        "1. `ArraySet` 객체를 두 개 생성하세요. 첫 번째 집합에는 {1, 2, 3, 4, 5}를 삽입하고, 두 번째 집합에는 {4, 5, 6, 7}을 삽입하세요.\n",
        "2. 두 집합의 차집합(`setA - setB`)을 구하여 출력하세요.\n",
        "3. 두 집합의 합집합(`setA ∪ setB`)을 구하여 출력하세요.\n",
        "\n",
        "**예시 출력:**\n",
        "```\n",
        "첫 번째 집합 - 두 번째 집합: [1, 2, 3]\n",
        "첫 번째 집합 ∪ 두 번째 집합: [1, 2, 3, 4, 5, 6, 7]\n",
        "```\n",
        "\n",
        "---"
      ],
      "metadata": {
        "id": "VbaAXYS66kk6"
      }
    },
    {
      "cell_type": "code",
      "source": [
        "set1 = ArraySet()\n",
        "set1.insert(1)\n",
        "set1.insert(2)\n",
        "set1.insert(3)\n",
        "set1.insert(4)\n",
        "set1.insert(5)\n",
        "\n",
        "set2 = ArraySet()\n",
        "set2.insert(4)\n",
        "set2.insert(5)\n",
        "set2.insert(6)\n",
        "set2.insert(7)\n",
        "\n",
        "# 차집합\n",
        "difference_set = set1.difference(set2)\n",
        "\n",
        "# 합집합\n",
        "union_set = set1.union(set2)\n",
        "\n",
        "print(f'첫 번째 집합 - 두 번째 집합: {difference_set.items}')\n",
        "print(f'첫 번째 집합 ∪ 두 번째 집합: {union_set.items}')"
      ],
      "metadata": {
        "id": "vH-B2i9A6oJn"
      },
      "execution_count": null,
      "outputs": []
    },
    {
      "cell_type": "markdown",
      "source": [
        "\n",
        "#### 문제 2: 부분 집합 판별하기\n",
        "1. `ArraySet` 객체를 두 개 생성하세요. 첫 번째 집합에는 {1, 2, 3}을 삽입하고, 두 번째 집합에는 {1, 2, 3, 4, 5}를 삽입하세요.\n",
        "2. 첫 번째 집합이 두 번째 집합의 **진부분집합**인지 `isProperSubsetOf()` 메소드를 사용하여 판별하고, 결과를 출력하세요.\n",
        "3. 두 번째 집합이 첫 번째 집합의 **진부분집합**인지 판별하고, 결과를 출력하세요.\n",
        "\n",
        "**예시 출력:**\n",
        "```\n",
        "첫 번째 집합은 두 번째 집합의 진부분집합입니까? True\n",
        "두 번째 집합은 첫 번째 집합의 진부분집합입니까? False\n",
        "```\n",
        "\n",
        "---\n"
      ],
      "metadata": {
        "id": "j-WpooBi6nQK"
      }
    },
    {
      "cell_type": "code",
      "source": [
        "set1 = ArraySet()\n",
        "set1.insert(1)\n",
        "set1.insert(2)\n",
        "set1.insert(3)\n",
        "\n",
        "set2 = ArraySet()\n",
        "set2.insert(1)\n",
        "set2.insert(2)\n",
        "set2.insert(3)\n",
        "set2.insert(4)\n",
        "set2.insert(5)\n",
        "\n",
        "# 첫 번째 집합이 두 번째 집합의 진부분집합인지\n",
        "first = set1.isProperSubsetOf(set2)\n",
        "\n",
        "# 두 번째 집합이 첫 번째 집합의 진부분집합인지\n",
        "second = set2.isProperSubsetOf(set1)\n",
        "\n",
        "print(f'첫 번째 집합은 두 번째 집합의 진부분집합입니까? {first}')\n",
        "print(f'두 번째 집합은 첫 번째 집합의 진부분집합입니까? {second}')"
      ],
      "metadata": {
        "id": "8WaZsDbz6mHL"
      },
      "execution_count": null,
      "outputs": []
    },
    {
      "cell_type": "markdown",
      "source": [
        "#### 문제 3: 교집합을 활용한 공통 요소 찾기\n",
        "1. `ArraySet` 객체를 두 개 생성하세요. 첫 번째 집합에는 {10, 20, 30, 40, 50}을 삽입하고, 두 번째 집합에는 {30, 40, 60, 70}을 삽입하세요.\n",
        "2. 두 집합의 교집합(`setA ∩ setB`)을 구하여 출력하세요.\n",
        "3. 교집합이 비어 있는지 확인하고, 비어 있다면 \"공통 요소가 없습니다.\"라는 메시지를 출력하세요.\n",
        "\n",
        "**예시 출력:**\n",
        "```\n",
        "교집합: [30, 40]\n",
        "공통 요소가 없습니다.\n",
        "```\n"
      ],
      "metadata": {
        "id": "ANrRcABm6owl"
      }
    },
    {
      "cell_type": "code",
      "source": [
        "set1 = ArraySet()\n",
        "set1.insert(10)\n",
        "set1.insert(20)\n",
        "set1.insert(30)\n",
        "set1.insert(40)\n",
        "set1.insert(50)\n",
        "\n",
        "set2 = ArraySet()\n",
        "set2.insert(30)\n",
        "set2.insert(40)\n",
        "set2.insert(60)\n",
        "set2.insert(70)\n",
        "\n",
        "# 교집합\n",
        "intersection_set = set1.intersect(set2)\n",
        "print(f'교집합: {intersection_set.items}')\n",
        "\n",
        "# 교집합이 비어 있는지\n",
        "if intersection_set.isEmpty():\n",
        "    print(\"공통 요소가 없습니다.\")"
      ],
      "metadata": {
        "id": "PZFVFUsr6qG8"
      },
      "execution_count": null,
      "outputs": []
    },
    {
      "cell_type": "markdown",
      "source": [
        "---"
      ],
      "metadata": {
        "id": "rzKO4GykML-n"
      }
    },
    {
      "cell_type": "code",
      "source": [
        "def merge_lists(A, B):\n",
        "    C = []\n",
        "    i, j = 0, 0\n",
        "\n",
        "    while i < len(A) and j < len(B):\n",
        "        if A[i] < B[j]:\n",
        "            C.append(A[i])\n",
        "            i += 1\n",
        "        else:\n",
        "            C.append(B[j])\n",
        "            j += 1\n",
        "\n",
        "    while i < len(A):\n",
        "        C.append(A[i])\n",
        "        i += 1\n",
        "\n",
        "    while j < len(B):\n",
        "        C.append(B[j])\n",
        "        j += 1\n",
        "\n",
        "    return C"
      ],
      "metadata": {
        "id": "pt5JgPfYMMhd"
      },
      "execution_count": null,
      "outputs": []
    },
    {
      "cell_type": "code",
      "source": [
        "A = [1, 3, 4]\n",
        "B = [2, 3, 6, 7]\n",
        "C = merge_lists(A, B)\n",
        "\n",
        "print(C)"
      ],
      "metadata": {
        "id": "dZ-cw8GiMZ2k"
      },
      "execution_count": null,
      "outputs": []
    },
    {
      "cell_type": "code",
      "source": [],
      "metadata": {
        "id": "vG3SZZBhOZ7F"
      },
      "execution_count": null,
      "outputs": []
    }
  ],
  "metadata": {
    "colab": {
      "private_outputs": true,
      "provenance": []
    },
    "kernelspec": {
      "display_name": "Python 3",
      "name": "python3"
    },
    "language_info": {
      "name": "python"
    }
  },
  "nbformat": 4,
  "nbformat_minor": 0
}