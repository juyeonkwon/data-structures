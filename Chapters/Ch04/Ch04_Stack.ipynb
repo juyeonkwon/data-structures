{
 "cells": [
  {
   "cell_type": "code",
   "execution_count": 8,
   "metadata": {
    "id": "s2_uNB4bm6U7"
   },
   "outputs": [],
   "source": [
    "# 코드 4.1: 배열로 구현된 스택(함수버전) (참고 파일: ch04/ArrayStackFn.py)\n",
    "\n",
    "capacity = 10           # 스택 용량: 예) 용량을 10으로 지정\n",
    "array = [None]*capacity  # 요소 배열: [None, .., None] (길이가 capacity)\n",
    "top = -1                 # 상단의 인덱스: 공백상태(-1)로 초기화 함"
   ]
  },
  {
   "cell_type": "code",
   "execution_count": 9,
   "metadata": {
    "id": "mPjk6giPRyUL"
   },
   "outputs": [
    {
     "name": "stdout",
     "output_type": "stream",
     "text": [
      "문자열 출력: ih\n"
     ]
    }
   ],
   "source": [
    "def isEmpty( ) :\n",
    "    if top == -1 : return True\t# 공백이면 True 반환\n",
    "    else : return False\t\t\t# 아니면 False 반환\n",
    "\n",
    "def isFull( ) :\n",
    "   return top == capacity-1\t    # 비교 연산 결과를 바로 반환\n",
    "\n",
    "def push( e ) :\n",
    "    global top\n",
    "    if not isFull() :\t\t    # 포화상태가 아닌 경우\n",
    "        top += 1\t\t\t    # top 증가(global top 선언 필요)\n",
    "        array[top] = e\n",
    "    else :\t\t\t            # 포화상태: overflow\n",
    "        print(\"stack overflow\")\n",
    "        exit()\n",
    "\n",
    "def pop( ) :\n",
    "    global top\n",
    "    if not isEmpty():\t\t    # 공백상태가 아닌 경우\n",
    "        top -= 1\t\t\t    # top 감소(global top 선언 필요)\n",
    "        return array[top+1]\n",
    "    else:\t\t\t            # 공백상태: underflow\n",
    "        print(\"stack underflow\")\n",
    "        exit()\n",
    "\n",
    "def peek( ) :\n",
    "    if not isEmpty():\t\t    # 공백상태가 아닌 경우\n",
    "        return array[top]\n",
    "    else: pass\t\t\t        # underflow 예외는 처리하지 않았음\n",
    "\n",
    "\n",
    "#  스택의 size() 연산\n",
    "def size( ) : return top+1\t    # 현재 요소의 수는 top+1\n",
    "\n",
    "\n",
    "if __name__ == \"__main__\":\n",
    "    msg = input(\"문자열 입력: \")     # 문자열을 입력받음\n",
    "    for c in msg :                  # 문자열의 각 문자 c에 대해\n",
    "        push(c)                   # c를 스택에 삽입\n",
    "\n",
    "    print(\"문자열 출력: \", end='')\n",
    "    while not isEmpty():          # 스택이 공백상태가 아니라면\n",
    "        print(pop(), end='')      # 하나의 요소를 꺼내서 출력\n",
    "    print()"
   ]
  },
  {
   "cell_type": "markdown",
   "metadata": {
    "id": "UFdY0WXRlOEH"
   },
   "source": [
    "### 프로그래밍 연습 문제\n",
    "\n",
    "#### 문제 1: 스택에 요소 추가하기\n",
    "1. 위의 스택 구현을 사용하여 정수 5, 10, 15를 순서대로 스택에 추가(push)하세요.\n",
    "2. 스택이 가득 차면 \"stack overflow\" 메시지가 출력됩니다. 이를 확인하기 위해, 스택의 용량이 3으로 설정되었을 때, 정수 5, 10, 15, 20을 순서대로 추가해보세요.\n",
    "\n",
    "**예시 출력:**\n",
    "```\n",
    "stack overflow\n",
    "```\n",
    "\n",
    "---\n"
   ]
  },
  {
   "cell_type": "code",
   "execution_count": null,
   "metadata": {
    "id": "LuWGFEEclYAp"
   },
   "outputs": [
    {
     "name": "stdout",
     "output_type": "stream",
     "text": [
      "stack overflow\n"
     ]
    },
    {
     "ename": "",
     "evalue": "",
     "output_type": "error",
     "traceback": [
      "\u001b[1;31mThe Kernel crashed while executing code in the current cell or a previous cell. \n",
      "\u001b[1;31mPlease review the code in the cell(s) to identify a possible cause of the failure. \n",
      "\u001b[1;31mClick <a href='https://aka.ms/vscodeJupyterKernelCrash'>here</a> for more info. \n",
      "\u001b[1;31mView Jupyter <a href='command:jupyter.viewOutput'>log</a> for further details."
     ]
    }
   ],
   "source": [
    "push(5)\n",
    "push(10)\n",
    "push(15)\n",
    "push(20)"
   ]
  },
  {
   "cell_type": "markdown",
   "metadata": {
    "id": "KHCi-osKlYW4"
   },
   "source": [
    "\n",
    "#### 문제 2: 스택에서 요소 제거하기\n",
    "1. 스택에 정수 7, 14, 21을 순서대로 추가(push)한 후, 두 번 pop 연산을 수행하세요.\n",
    "2. 최종적으로 남아 있는 스택의 요소를 출력하세요.\n",
    "3. 스택이 비어 있을 때 pop 연산을 수행하면 \"stack underflow\" 메시지가 출력됩니다. 이를 확인하세요.\n",
    "\n",
    "**예시 출력:**\n",
    "```\n",
    "stack underflow\n",
    "```\n",
    "\n",
    "---\n"
   ]
  },
  {
   "cell_type": "code",
   "execution_count": 1,
   "metadata": {
    "id": "xeVXBfswifgR"
   },
   "outputs": [],
   "source": [
    "# 스택 초기화\n",
    "capacity = 3\n",
    "array = [None] * capacity\n",
    "top = -1"
   ]
  },
  {
   "cell_type": "code",
   "execution_count": null,
   "metadata": {
    "id": "9qjb_Y1elcuy"
   },
   "outputs": [
    {
     "name": "stdout",
     "output_type": "stream",
     "text": [
      "최종 스택 상태: [7]\n",
      "stack underflow\n"
     ]
    },
    {
     "ename": "",
     "evalue": "",
     "output_type": "error",
     "traceback": [
      "\u001b[1;31mThe Kernel crashed while executing code in the current cell or a previous cell. \n",
      "\u001b[1;31mPlease review the code in the cell(s) to identify a possible cause of the failure. \n",
      "\u001b[1;31mClick <a href='https://aka.ms/vscodeJupyterKernelCrash'>here</a> for more info. \n",
      "\u001b[1;31mView Jupyter <a href='command:jupyter.viewOutput'>log</a> for further details."
     ]
    }
   ],
   "source": [
    "# 스택에 정수 추가\n",
    "push(7)\n",
    "push(14)\n",
    "push(21)\n",
    "\n",
    "# 두 번 pop 연산 수행\n",
    "pop()\n",
    "pop()\n",
    "\n",
    "# 최종적으로 남아 있는 스택의 요소 출력\n",
    "print(\"최종 스택 상태:\", array[:top+1])\n",
    "\n",
    "# 스택이 비어 있을 때 pop 연산 수행\n",
    "pop()\n",
    "pop()"
   ]
  },
  {
   "cell_type": "markdown",
   "metadata": {
    "id": "VjfZvzD2lc4I"
   },
   "source": [
    "#### 문제 3: 스택의 최상위 요소 확인하기\n",
    "1. 스택에 정수 2, 4, 6을 순서대로 추가한 후, `peek()` 함수를 사용하여 스택의 최상위(top) 요소를 확인하세요.\n",
    "2. 스택에서 pop 연산을 두 번 수행한 후, 다시 `peek()` 함수를 사용하여 최상위 요소를 확인하세요.\n",
    "\n",
    "**예시 출력:**\n",
    "```\n",
    "최상위 요소: 6\n",
    "최상위 요소: 2\n",
    "```\n",
    "\n",
    "---\n",
    "\n"
   ]
  },
  {
   "cell_type": "code",
   "execution_count": 5,
   "metadata": {
    "id": "L8szKw60lew_"
   },
   "outputs": [],
   "source": [
    "push(2)\n",
    "push(4)\n",
    "push(6)"
   ]
  },
  {
   "cell_type": "code",
   "execution_count": null,
   "metadata": {
    "id": "ihE2n3bdeteo"
   },
   "outputs": [
    {
     "name": "stdout",
     "output_type": "stream",
     "text": [
      "최상위 데이터:  6\n"
     ]
    }
   ],
   "source": [
    "print(\"최상위 요소: \", peek())"
   ]
  },
  {
   "cell_type": "code",
   "execution_count": 7,
   "metadata": {},
   "outputs": [
    {
     "name": "stdout",
     "output_type": "stream",
     "text": [
      "최상위 요소:  2\n"
     ]
    }
   ],
   "source": [
    "pop()\n",
    "pop()\n",
    "\n",
    "print(\"최상위 요소: \", peek())"
   ]
  },
  {
   "cell_type": "markdown",
   "metadata": {
    "id": "lcHzgk5Sle6A"
   },
   "source": [
    "#### 문제 4: 스택의 크기 확인하기\n",
    "1. 스택에 정수 10, 20, 30, 40을 순서대로 추가한 후, `size()` 함수를 사용하여 스택에 있는 요소의 개수를 출력하세요.\n",
    "2. pop 연산을 두 번 수행한 후, 다시 `size()` 함수를 사용하여 남아 있는 요소의 개수를 출력하세요.\n",
    "\n",
    "**예시 출력:**\n",
    "```\n",
    "현재 스택 크기: 4\n",
    "현재 스택 크기: 2\n",
    "```"
   ]
  },
  {
   "cell_type": "code",
   "execution_count": 12,
   "metadata": {
    "id": "-PX6gMS_lUQr"
   },
   "outputs": [],
   "source": [
    "# 스택 초기화\n",
    "capacity = 10       # 충분히 크게\n",
    "array = [None] * capacity\n",
    "top = -1"
   ]
  },
  {
   "cell_type": "code",
   "execution_count": 13,
   "metadata": {
    "id": "-Y6wBm3ZlKtg"
   },
   "outputs": [
    {
     "name": "stdout",
     "output_type": "stream",
     "text": [
      "현재 스택 크기: 4\n",
      "현재 스택 크기: 2\n"
     ]
    }
   ],
   "source": [
    "# 스택에 정수 추가\n",
    "push(10)\n",
    "push(20)\n",
    "push(30)\n",
    "push(40)\n",
    "\n",
    "# 현재 스택의 크기 출력\n",
    "print(\"현재 스택 크기:\", size())\n",
    "\n",
    "# pop 연산 두 번 수행\n",
    "pop()\n",
    "pop()\n",
    "\n",
    "# 남아 있는 스택의 요소 개수 출력\n",
    "print(\"현재 스택 크기:\", size())"
   ]
  },
  {
   "cell_type": "markdown",
   "metadata": {
    "id": "YQ94VtBupuPm"
   },
   "source": [
    "#### 코드 4.2: 배열로 구현된 스택 클래스 (참고 파일: ch04/ArrayStack.py)"
   ]
  },
  {
   "cell_type": "code",
   "execution_count": 14,
   "metadata": {
    "id": "ZCKvv677pxKB"
   },
   "outputs": [],
   "source": [
    "class ArrayStack :\n",
    "    def __init__( self, capacity ):\t        # 생성자 정의\n",
    "        self.capacity = capacity\t\t    # 용량(고정)\n",
    "        self.array = [None]*self.capacity\t# 요소들을 저장할 배열\n",
    "        self.top = -1\t\t\t            # 스택 상단의 인덱스\n",
    "\n",
    "    # 코드 1.2b: 스택 클래스의 연산들\n",
    "    def isEmpty( self ) :\n",
    "       return self.top == -1\n",
    "\n",
    "    def isFull( self ) :\n",
    "       return self.top == self.capacity-1\n",
    "\n",
    "    def push( self, item ):\n",
    "        if not self.isFull() :\n",
    "            self.top += 1\n",
    "            self.array[self.top] = item\n",
    "        else: pass              # overflow 예외는 처리하지 않았음\n",
    "\n",
    "    def pop( self ):\n",
    "        if not self.isEmpty():\n",
    "            self.top -= 1\n",
    "            return self.array[self.top+1]\n",
    "        else: pass              # underflow 예외는 처리하지 않았음\n",
    "\n",
    "    def peek( self ):\n",
    "        if not self.isEmpty():\n",
    "            return self.array[self.top]\n",
    "        else: pass              # underflow 예외는 처리하지 않았음\n",
    "\n",
    "    def __str__(self ) :\n",
    "        return str(self.array[0:self.top+1][::-1])\n",
    "\n",
    "    def size( self ) : return self.top+1"
   ]
  },
  {
   "cell_type": "code",
   "execution_count": 15,
   "metadata": {
    "id": "lDK9oHnfpzZh"
   },
   "outputs": [
    {
     "name": "stdout",
     "output_type": "stream",
     "text": [
      " push 5회:  [5, 4, 3, 2, 1]\n",
      " push 5회:  [1, 2, 3, 4, 5, None, None, None, None, None]\n"
     ]
    }
   ],
   "source": [
    "if __name__ == \"__main__\":\n",
    "    s = ArrayStack(10)\n",
    "    for i in range(1,6):\t\t# i = 1, 2, 3, 4, 5\n",
    "        s.push(i)\t\t\t    # push 연산 5회\n",
    "    print(' push 5회: ', s)\t        # 스택 내용 출력\n",
    "    print(' push 5회: ', s.array)\t# 스택 내용 출력"
   ]
  },
  {
   "cell_type": "markdown",
   "metadata": {
    "id": "c_OI-YZ2q9DV"
   },
   "source": [
    "#### 코드 4.3: 배열로 구현된 스택 클래스 (참고 파일: ch04/ArrayStack.py)"
   ]
  },
  {
   "cell_type": "code",
   "execution_count": 4,
   "metadata": {
    "id": "In6P8nFhqG0B"
   },
   "outputs": [
    {
     "name": "stdout",
     "output_type": "stream",
     "text": [
      "문자열 출력: ih\n"
     ]
    }
   ],
   "source": [
    "# from ArrayStack import ArrayStack\n",
    "s = ArrayStack(100)             # 스택 객체를 생성\n",
    "\n",
    "msg = input(\"문자열 입력: \")    # 문자열을 입력받음\n",
    "for c in msg :                  # 문자열의 각 문자 c에 대해\n",
    "    s.push(c)                   # c를 스택에 삽입\n",
    "\n",
    "print(\"문자열 출력: \", end='')\n",
    "while not s.isEmpty():          # 스택이 공백상태가 아니라면\n",
    "    print(s.pop(), end='')      # 하나의 요소를 꺼내서 출력\n",
    "print()"
   ]
  },
  {
   "cell_type": "markdown",
   "metadata": {
    "id": "nP8lAps-qFvw"
   },
   "source": [
    "### 프로그래밍 연습 문제\n",
    "\n",
    "#### 문제 1: 스택에 요소 추가 및 출력\n",
    "1. `ArrayStack` 클래스를 사용하여 용량이 5인 스택을 생성하세요.\n",
    "2. 숫자 1, 2, 3을 순서대로 스택에 추가(push)한 후, 스택의 상태를 출력하세요.\n",
    "3. 스택에 추가된 요소가 제대로 출력되는지 확인하세요.\n",
    "\n",
    "**예시 출력:**\n",
    "```\n",
    "[3, 2, 1]\n",
    "```\n",
    "\n",
    "---"
   ]
  },
  {
   "cell_type": "code",
   "execution_count": 17,
   "metadata": {},
   "outputs": [],
   "source": [
    "# ---------- 스택 초기화 ----------\n",
    "capacity = 5\n",
    "array = [None] * capacity\n",
    "top = -1\n",
    "\n",
    "# ---------- 스택 연산 ----------\n",
    "def isEmpty():\n",
    "    return top == -1\n",
    "\n",
    "def isFull():\n",
    "    return top == capacity - 1\n",
    "\n",
    "def push(e):\n",
    "    global top\n",
    "    if not isFull():\n",
    "        top += 1\n",
    "        array[top] = e\n",
    "    else:\n",
    "        print(\"Stack Overflow\")\n",
    "\n",
    "def pop():\n",
    "    global top\n",
    "    if not isEmpty():\n",
    "        value = array[top]\n",
    "        array[top] = None\n",
    "        top -= 1\n",
    "        return value\n",
    "    else:\n",
    "        print(\"Stack Underflow\")\n",
    "        return None\n",
    "\n",
    "def size():\n",
    "    return top + 1\n",
    "\n",
    "def getStack():\n",
    "    \"\"\"스택 상태를 리스트로 반환 (최상단부터 출력)\"\"\"\n",
    "    return [array[i] for i in range(top, -1, -1)]"
   ]
  },
  {
   "cell_type": "code",
   "execution_count": 18,
   "metadata": {},
   "outputs": [
    {
     "name": "stdout",
     "output_type": "stream",
     "text": [
      "[3, 2, 1]\n"
     ]
    }
   ],
   "source": [
    "push(1)\n",
    "push(2)\n",
    "push(3)\n",
    "\n",
    "print(getStack())"
   ]
  },
  {
   "cell_type": "markdown",
   "metadata": {
    "id": "JnSdyw_RqGG4"
   },
   "source": [
    "#### 문제 2: 스택에서 요소 제거하기\n",
    "1. `ArrayStack` 객체를 용량이 4인 상태로 생성하고, 숫자 10, 20, 30, 40을 순서대로 추가하세요.\n",
    "2. 두 번 `pop` 연산을 수행한 후, 스택의 상태를 출력하세요.\n",
    "3. 최종 스택의 상태를 확인하세요.\n",
    "\n",
    "**예시 출력:**\n",
    "```\n",
    "[20, 10]\n",
    "```\n",
    "\n",
    "---\n"
   ]
  },
  {
   "cell_type": "code",
   "execution_count": 21,
   "metadata": {
    "id": "k0z--s5nqGQm"
   },
   "outputs": [
    {
     "name": "stdout",
     "output_type": "stream",
     "text": [
      "[20, 10]\n"
     ]
    }
   ],
   "source": [
    "stack = ArrayStack(4)\n",
    "\n",
    "# 숫자 10, 20, 30, 40 순서대로 push\n",
    "stack.push(10)\n",
    "stack.push(20)\n",
    "stack.push(30)\n",
    "stack.push(40)\n",
    "\n",
    "# pop 연산 두 번 수행\n",
    "stack.pop()\n",
    "stack.pop()\n",
    "\n",
    "# 최종 스택 상태 출력\n",
    "print([stack.array[i] for i in range(stack.top, -1, -1)])"
   ]
  },
  {
   "cell_type": "markdown",
   "metadata": {
    "id": "KUyVGlt6qGZQ"
   },
   "source": [
    "#### 문제 3: 스택이 비어 있는지 확인하기\n",
    "1. 새로운 `ArrayStack` 객체를 생성하세요.\n",
    "2. 스택이 비어 있는지 `isEmpty()` 메소드를 사용하여 확인하고, 결과를 출력하세요.\n",
    "3. 스택에 숫자 7을 삽입한 후, 다시 `isEmpty()` 메소드를 사용하여 확인하고, 결과를 출력하세요.\n",
    "\n",
    "**예시 출력:**\n",
    "```\n",
    "스택이 비어 있습니까? True\n",
    "스택이 비어 있습니까? False\n",
    "```\n",
    "\n",
    "---"
   ]
  },
  {
   "cell_type": "code",
   "execution_count": 22,
   "metadata": {
    "id": "_3ICQ7CqqGjQ"
   },
   "outputs": [
    {
     "name": "stdout",
     "output_type": "stream",
     "text": [
      "스택이 비어 있습니까? True\n",
      "스택이 비어 있습니까? False\n"
     ]
    }
   ],
   "source": [
    "# 용량 5인 스택 생성\n",
    "stack = ArrayStack(5)\n",
    "\n",
    "# 스택이 비어 있는지 확인\n",
    "print(\"스택이 비어 있습니까?\", stack.isEmpty())\n",
    "\n",
    "# 숫자 7 삽입\n",
    "stack.push(7)\n",
    "\n",
    "# 다시 스택이 비어 있는지 확인\n",
    "print(\"스택이 비어 있습니까?\", stack.isEmpty())"
   ]
  },
  {
   "cell_type": "markdown",
   "metadata": {
    "id": "aoquVlXnqGrS"
   },
   "source": [
    "#### 문제 4: 스택의 최상위 요소 확인하기\n",
    "1. `ArrayStack` 객체를 생성하고, 문자 'A', 'B', 'C'를 순서대로 추가하세요.\n",
    "2. `peek()` 메소드를 사용하여 스택의 최상위 요소를 확인하고 출력하세요.\n",
    "3. 스택에서 요소를 하나 제거한 후, 다시 `peek()` 메소드를 사용하여 최상위 요소를 확인하세요.\n",
    "\n",
    "**예시 출력:**\n",
    "```\n",
    "최상위 요소: C\n",
    "최상위 요소: B\n",
    "```\n",
    "\n",
    "---"
   ]
  },
  {
   "cell_type": "code",
   "execution_count": 23,
   "metadata": {},
   "outputs": [
    {
     "name": "stdout",
     "output_type": "stream",
     "text": [
      "최상위 요소: C\n",
      "최상위 요소: B\n"
     ]
    }
   ],
   "source": [
    "# 용량 5인 스택 생성\n",
    "stack = ArrayStack(5)\n",
    "\n",
    "# 문자 'A', 'B', 'C' 순서대로 push\n",
    "stack.push('A')\n",
    "stack.push('B')\n",
    "stack.push('C')\n",
    "\n",
    "# 최상위 요소 확인\n",
    "print(\"최상위 요소:\", stack.peek())\n",
    "\n",
    "# 스택에서 요소 하나 제거\n",
    "stack.pop()\n",
    "\n",
    "# 다시 최상위 요소 확인\n",
    "print(\"최상위 요소:\", stack.peek())"
   ]
  },
  {
   "cell_type": "markdown",
   "metadata": {
    "id": "wgrdjs5iqQJw"
   },
   "source": [
    "#### 문제 5: 스택이 가득 찬 경우 확인하기\n",
    "1. `ArrayStack` 객체를 용량이 3인 상태로 생성하세요.\n",
    "2. 세 개의 숫자 5, 15, 25를 순서대로 추가한 후, `isFull()` 메소드를 사용하여 스택이 가득 찼는지 확인하세요.\n",
    "3. 네 번째 숫자 35를 추가하려고 시도한 후, 다시 `isFull()` 메소드를 사용하여 확인하고 결과를 출력하세요.\n",
    "\n",
    "**예시 출력:**\n",
    "```\n",
    "스택이 가득 찼습니까? True\n",
    "```\n",
    "\n",
    "---"
   ]
  },
  {
   "cell_type": "code",
   "execution_count": 24,
   "metadata": {
    "id": "K2tFDepYqQR5"
   },
   "outputs": [
    {
     "name": "stdout",
     "output_type": "stream",
     "text": [
      "스택이 가득 찼습니까? True\n",
      "스택이 가득 찼습니까? True\n"
     ]
    }
   ],
   "source": [
    "# 용량 3인 스택 생성\n",
    "stack = ArrayStack(3)\n",
    "\n",
    "# 숫자 5, 15, 25 순서대로 push\n",
    "stack.push(5)\n",
    "stack.push(15)\n",
    "stack.push(25)\n",
    "\n",
    "# 스택이 가득 찼는지 확인\n",
    "print(\"스택이 가득 찼습니까?\", stack.isFull())\n",
    "\n",
    "# 네 번째 숫자 35 추가 시도\n",
    "stack.push(35)  # Overflow 메시지가 출력될 수 있음\n",
    "\n",
    "# 다시 스택 상태 확인\n",
    "print(\"스택이 가득 찼습니까?\", stack.isFull())"
   ]
  },
  {
   "cell_type": "markdown",
   "metadata": {
    "id": "juJ-7mWrqQZp"
   },
   "source": [
    "#### 문제 6: 스택의 크기 확인하기\n",
    "1. `ArrayStack` 객체를 생성하고, 문자열 \"apple\", \"banana\", \"cherry\"를 순서대로 추가하세요.\n",
    "2. `size()` 메소드를 사용하여 현재 스택에 있는 요소의 개수를 출력하세요.\n",
    "3. 요소를 하나 제거한 후, 다시 `size()` 메소드를 사용하여 남아 있는 요소의 개수를 출력하세요.\n",
    "\n",
    "**예시 출력:**\n",
    "```\n",
    "현재 스택 크기: 3\n",
    "현재 스택 크기: 2\n",
    "```"
   ]
  },
  {
   "cell_type": "code",
   "execution_count": 25,
   "metadata": {
    "id": "Pw27kLxyqQlO"
   },
   "outputs": [
    {
     "name": "stdout",
     "output_type": "stream",
     "text": [
      "현재 스택 크기: 3\n",
      "현재 스택 크기: 2\n"
     ]
    }
   ],
   "source": [
    "# 용량 5인 스택 생성\n",
    "stack = ArrayStack(5)\n",
    "\n",
    "# 문자열 \"apple\", \"banana\", \"cherry\" 순서대로 push\n",
    "stack.push(\"apple\")\n",
    "stack.push(\"banana\")\n",
    "stack.push(\"cherry\")\n",
    "\n",
    "# 현재 스택 크기 확인\n",
    "print(\"현재 스택 크기:\", stack.size())\n",
    "\n",
    "# 요소 하나 제거\n",
    "stack.pop()\n",
    "\n",
    "# 남아 있는 요소 개수 확인\n",
    "print(\"현재 스택 크기:\", stack.size())"
   ]
  },
  {
   "cell_type": "markdown",
   "metadata": {
    "id": "G19b9TS1mtr2"
   },
   "source": [
    "# 스택을 활용한 괄호검사 알고리즘 시뮬레이션\n",
    "\n"
   ]
  },
  {
   "cell_type": "code",
   "execution_count": 27,
   "metadata": {
    "id": "YFO2YaCYm4vZ"
   },
   "outputs": [],
   "source": [
    "# 용량 23인 스택 생성\n",
    "s = ArrayStack(23)\n",
    "\n",
    "# 괄호 삽입\n",
    "s.push(\"{\")\n",
    "s.push(\"[\")\n",
    "s.push(\"(\")\n",
    "\n",
    "# pop 순서 확인\n",
    "r = s.pop()\n",
    "if \"(\" != r:\n",
    "    print(\"Error 1\")\n",
    "\n",
    "r = s.pop()\n",
    "if \"[\" != r:\n",
    "    print(\"Error 2\")\n",
    "\n",
    "r = s.pop()\n",
    "if \"{\" != r:\n",
    "    print(\"Error 3\")"
   ]
  },
  {
   "cell_type": "markdown",
   "metadata": {
    "id": "frgWdPbrSnHT"
   },
   "source": [
    "# 코드 4.4: 스택을 이용한 괄호검사 알고리즘 (참고 파일: ch04/CheckBrackets.py)"
   ]
  },
  {
   "cell_type": "code",
   "execution_count": 28,
   "metadata": {
    "id": "jxivNiT9SnPS"
   },
   "outputs": [],
   "source": [
    "def checkBrackets(statement):\n",
    "    stack = ArrayStack(100)\n",
    "    for ch in statement:   # \"{ A[ (i+1) ] = 0; } \"\n",
    "        # if ch in ('{', '[', '('):\n",
    "        # if ch in '{[(':\n",
    "        if ch=='{' or ch=='[' or ch=='(' :\n",
    "            stack.push(ch)\n",
    "        # elif ch in ('}', ']', ')'):\n",
    "        # elif ch in '}])':\n",
    "        elif ch=='}' or ch==']' or ch==')' :\n",
    "            if stack.isEmpty() :\n",
    "                return False\n",
    "            else :\n",
    "                left = stack.pop()\n",
    "                if (ch == \"}\" and left != \"{\") or \\\n",
    "                   (ch == \"]\" and left != \"[\") or \\\n",
    "                   (ch == \")\" and left != \"(\") :\n",
    "                    return False\n",
    "\n",
    "    return stack.isEmpty()"
   ]
  },
  {
   "cell_type": "code",
   "execution_count": 29,
   "metadata": {
    "id": "xFIf7mYISrJb"
   },
   "outputs": [
    {
     "name": "stdout",
     "output_type": "stream",
     "text": [
      "{ A[ (i+1) ] = 0; }   --->  True\n",
      "if( (i==0) && (j==0)  --->  False\n",
      "A[ ( i+1 ] ) = 0;     --->  False\n"
     ]
    }
   ],
   "source": [
    "# 테스트 프로그램\n",
    "s1 = \"{ A[ (i+1) ] = 0; } \"\n",
    "s2 = \"if( (i==0) && (j==0)\"\n",
    "s3 = \"A[ ( i+1 ] ) = 0;   \"\n",
    "print(s1, \" ---> \", checkBrackets(s1))\n",
    "print(s2, \" ---> \", checkBrackets(s2))\n",
    "print(s3, \" ---> \", checkBrackets(s3))"
   ]
  },
  {
   "cell_type": "markdown",
   "metadata": {
    "id": "VR4808cr5i9W"
   },
   "source": [
    "---\n",
    "\n",
    "### 문제 1: 문자열에서 괄호 오류 위치 찾기\n",
    "프로그램을 수정하여 괄호가 맞지 않을 경우 해당 오류의 위치(인덱스)를 반환하도록 하세요. 예를 들어, 입력 문자열이 `{[)]}` 인 경우, 오류 위치인 2를 반환하도록 구현하세요. 괄호가 모두 유효한 경우에는 -1을 반환하세요.\n",
    "\n",
    "**슈도코드:**\n",
    "1. 빈 스택을 초기화합니다.\n",
    "2. 각 문자에 대해:\n",
    "   - 여는 괄호 `{`, `[`, `(`를 만나면 해당 인덱스와 괄호를 스택에 저장합니다.\n",
    "   - 닫는 괄호 `}`, `]`, `)`를 만나면:\n",
    "     - 스택이 비었으면 오류 위치를 반환합니다.\n",
    "     - 스택에서 여는 괄호를 꺼내 비교합니다.\n",
    "       - 일치하지 않으면 해당 인덱스를 반환합니다.\n",
    "3. 반복이 끝난 후, 스택에 남은 여는 괄호가 있으면 그 위치를 반환합니다.\n",
    "4. 오류가 없으면 -1을 반환합니다.\n",
    "\n"
   ]
  },
  {
   "cell_type": "code",
   "execution_count": 30,
   "metadata": {
    "id": "84A2blay5pYQ"
   },
   "outputs": [],
   "source": [
    "def find_bracket_error(s):\n",
    "    # 용량은 문자열 길이만큼 충분히 확보\n",
    "    stack = ArrayStack(len(s))\n",
    "\n",
    "    # 괄호 매핑\n",
    "    opening = \"{[(\"\n",
    "    closing = \"}])\"\n",
    "    match = {')': '(', ']': '[', '}': '{'}\n",
    "\n",
    "    for idx, char in enumerate(s):\n",
    "        if char in opening:\n",
    "            # 여는 괄호와 위치를 튜플로 push\n",
    "            stack.push((char, idx))\n",
    "        elif char in closing:\n",
    "            if stack.isEmpty():\n",
    "                return idx  # 스택이 비었는데 닫는 괄호 → 오류\n",
    "            top_char, top_idx = stack.pop()\n",
    "            if match[char] != top_char:\n",
    "                return idx  # 괄호 불일치 → 오류 위치 반환\n",
    "\n",
    "    # 반복 끝난 후 스택에 남아 있는 여는 괄호가 있으면 오류\n",
    "    if not stack.isEmpty():\n",
    "        _, top_idx = stack.pop()\n",
    "        return top_idx\n",
    "\n",
    "    # 오류 없음\n",
    "    return -1"
   ]
  },
  {
   "cell_type": "code",
   "execution_count": 31,
   "metadata": {},
   "outputs": [
    {
     "name": "stdout",
     "output_type": "stream",
     "text": [
      "오류 위치: 2\n",
      "오류 위치: -1\n"
     ]
    }
   ],
   "source": [
    "test_str = \"{[)]}\"\n",
    "error_idx = find_bracket_error(test_str)\n",
    "print(\"오류 위치:\", error_idx)  # 기대 출력: 2\n",
    "\n",
    "test_str2 = \"{[()]}\"  # 올바른 괄호\n",
    "print(\"오류 위치:\", find_bracket_error(test_str2))  # 기대 출력: -1"
   ]
  },
  {
   "cell_type": "markdown",
   "metadata": {
    "id": "YikH71F_5pgq"
   },
   "source": [
    "\n",
    "### 문제 2: 중첩 괄호 수준 확인\n",
    "입력 문자열에서 중첩된 괄호의 최대 깊이를 계산하는 기능을 추가하세요. 예를 들어, 입력이 `\"{[()()]}\"`인 경우 최대 깊이는 3이어야 합니다. 이 기능을 추가하여 최대 중첩 수준을 반환하는 프로그램으로 확장하세요.\n",
    "\n",
    "**슈도코드:**\n",
    "1. 빈 스택과 `current_depth`, `max_depth` 변수를 초기화합니다.\n",
    "2. 각 문자에 대해:\n",
    "   - 여는 괄호 `{`, `[`, `(`를 만나면 `current_depth`를 증가시키고, `max_depth`와 비교하여 더 크면 갱신합니다.\n",
    "   - 닫는 괄호 `}`, `]`, `)`를 만나면 `current_depth`를 감소시킵니다.\n",
    "3. 모든 반복이 끝나면 `max_depth`를 반환합니다.\n",
    "\n",
    "\n",
    "---"
   ]
  },
  {
   "cell_type": "code",
   "execution_count": 32,
   "metadata": {
    "id": "iiXPw4MG6EUN"
   },
   "outputs": [],
   "source": [
    "def find_bracket_error_and_max_depth(s):\n",
    "    \"\"\"\n",
    "    괄호 오류 위치와 최대 중첩 깊이를 반환.\n",
    "    - 오류 위치: 괄호가 맞지 않으면 해당 인덱스\n",
    "    - 오류 없음: -1 반환\n",
    "    - 최대 깊이: 문자열 전체에서 중첩된 괄호의 최대 깊이\n",
    "    \"\"\"\n",
    "    stack = ArrayStack(len(s))\n",
    "    opening = \"{[(\"\n",
    "    closing = \"}])\"\n",
    "    match = {')': '(', ']': '[', '}': '{'}\n",
    "\n",
    "    current_depth = 0\n",
    "    max_depth = 0\n",
    "\n",
    "    for idx, char in enumerate(s):\n",
    "        if char in opening:\n",
    "            stack.push((char, idx))\n",
    "            current_depth += 1\n",
    "            if current_depth > max_depth:\n",
    "                max_depth = current_depth\n",
    "        elif char in closing:\n",
    "            if stack.isEmpty():\n",
    "                return idx, max_depth  # 스택 비었는데 닫는 괄호 → 오류\n",
    "            top_char, top_idx = stack.pop()\n",
    "            if match[char] != top_char:\n",
    "                return idx, max_depth  # 괄호 불일치 → 오류 위치 반환\n",
    "            current_depth -= 1\n",
    "\n",
    "    # 반복 끝난 후 스택에 남은 여는 괄호가 있으면 오류\n",
    "    if not stack.isEmpty():\n",
    "        _, top_idx = stack.pop()\n",
    "        return top_idx, max_depth\n",
    "\n",
    "    return -1, max_depth  # 오류 없음"
   ]
  },
  {
   "cell_type": "code",
   "execution_count": 33,
   "metadata": {},
   "outputs": [
    {
     "name": "stdout",
     "output_type": "stream",
     "text": [
      "오류 위치: -1\n",
      "최대 중첩 깊이: 3\n",
      "오류 위치: -1\n",
      "최대 중첩 깊이: 3\n",
      "오류 위치: -1\n",
      "최대 중첩 깊이: 3\n",
      "오류 위치: 2\n",
      "최대 중첩 깊이: 2\n"
     ]
    }
   ],
   "source": [
    "test_str = \"{[()()]}\"\n",
    "error_idx, max_depth = find_bracket_error_and_max_depth(test_str)\n",
    "print(\"오류 위치:\", error_idx)  # 기대: -1\n",
    "print(\"최대 중첩 깊이:\", max_depth)  # 기대: 3\n",
    "\n",
    "test_str2 = \"{[()]}\"  # 올바른 괄호\n",
    "error_idx2, max_depth2 = find_bracket_error_and_max_depth(test_str2)\n",
    "print(\"오류 위치:\", error_idx2)  # 기대: -1\n",
    "print(\"최대 중첩 깊이:\", max_depth2)  # 기대: 3\n",
    "\n",
    "test_str3 = \"{[()()]}\"  # 올바른 예\n",
    "error_idx3, max_depth3 = find_bracket_error_and_max_depth(test_str3)\n",
    "print(\"오류 위치:\", error_idx3)  # 기대: -1\n",
    "print(\"최대 중첩 깊이:\", max_depth3)  # 기대: 3\n",
    "\n",
    "test_str4 = \"{[)]}\"  # 오류 존재\n",
    "error_idx4, max_depth4 = find_bracket_error_and_max_depth(test_str4)\n",
    "print(\"오류 위치:\", error_idx4)  # 기대: 2\n",
    "print(\"최대 중첩 깊이:\", max_depth4)  # 기대: 2"
   ]
  },
  {
   "cell_type": "markdown",
   "metadata": {
    "id": "PAxXr8ZiTgXJ"
   },
   "source": [
    "# 코드 4.5: 후위수식 계산 알고리즘 (참고 파일: ch04/EvalPostfix.py)"
   ]
  },
  {
   "cell_type": "code",
   "execution_count": 34,
   "metadata": {
    "id": "tnU57S54TjGf"
   },
   "outputs": [],
   "source": [
    "# from ArrayStack import ArrayStack\n",
    "def evalPostfix( expr ):\n",
    "    s = ArrayStack(100)\n",
    "    for token in expr : #expr1 = [ '8', '2', '/', '3', '-', '3', '2', '*', '+']\n",
    "        if token in \"+-*/\" :\n",
    "            val2 = s.pop()\n",
    "            val1 = s.pop()\n",
    "            if   (token == '+'): s.push(val1 + val2)\n",
    "            elif (token == '-'): s.push(val1 - val2)\n",
    "            elif (token == '*'): s.push(val1 * val2)\n",
    "            elif (token == '/'): s.push(val1 / val2)\n",
    "        else :\n",
    "            s.push( float(token) )\n",
    "    return s.pop()"
   ]
  },
  {
   "cell_type": "code",
   "execution_count": 35,
   "metadata": {
    "id": "ydBDbqCgTwVl"
   },
   "outputs": [
    {
     "name": "stdout",
     "output_type": "stream",
     "text": [
      "스택의 응용2: 후위표기식 계산\n",
      "\n",
      "['8', '+2', '/', '3', '-', '3', '2', '*', '+']  -->  7.0\n",
      "['1', '2', '/', '4', '*', '1', '4', '/', '*']  -->  0.5\n",
      "['1', '2', '/', '4', '*', '1', '4', '/', '+']  -->  2.25\n"
     ]
    }
   ],
   "source": [
    "if __name__ == \"__main__\":\n",
    "    print('스택의 응용2: 후위표기식 계산\\n')\n",
    "\n",
    "    str1 =' 8 +2 / 3 - 3 2 * +'\n",
    "    expr1 = str1.split()\n",
    "\n",
    "    str3 =' 1 2 / 4 * 1 4 / +'\n",
    "    expr3 = str3.split()\n",
    "    #expr1 = [ '8', '2', '/', '3', '-', '3', '2', '*', '+']\n",
    "    expr2 = [ '1', '2', '/', '4', '*', '1', '4', '/', '*']\n",
    "\n",
    "\n",
    "    print(expr1, ' --> ', evalPostfix(expr1))\n",
    "    print(expr2, ' --> ', evalPostfix(expr2))\n",
    "    print(expr3, ' --> ', evalPostfix(expr3))\n"
   ]
  },
  {
   "cell_type": "markdown",
   "metadata": {
    "id": "QXoFzeId6kPJ"
   },
   "source": [
    "### 문제 1: 후위 표기식에 괄호를 포함한 연산자 우선순위 적용\n",
    "\n",
    "**문제 설명:**\n",
    "현재 코드는 후위 표기식을 평가할 수 있지만, 괄호를 포함한 경우에도 정확하게 연산자 우선순위를 적용하도록 수정해야 합니다. 즉, 괄호가 포함된 후위 표기식을 입력받아 이를 올바르게 평가하도록 프로그램을 구현하세요.\n",
    "\n",
    "**슈도코드:**\n",
    "1. 빈 스택 `s`를 생성합니다.\n",
    "2. 각 토큰을 `expr`에서 하나씩 확인합니다:\n",
    "   - 토큰이 숫자면 스택에 숫자를 추가합니다.\n",
    "   - 토큰이 연산자 `+`, `-`, `*`, `/`이면 스택에서 두 값을 꺼내 계산하고, 그 결과를 다시 스택에 추가합니다.\n",
    "3. 모든 토큰을 처리한 후, 스택에 남은 값을 반환합니다.\n"
   ]
  },
  {
   "cell_type": "code",
   "execution_count": 36,
   "metadata": {
    "id": "3rsVaK-z6rE2"
   },
   "outputs": [],
   "source": [
    "def evaluate_postfix(expr):\n",
    "    \"\"\"\n",
    "    후위 표기식 평가 함수\n",
    "    expr: 문자열 또는 토큰 리스트, 숫자와 연산자만 포함\n",
    "    반환: 계산 결과\n",
    "    \"\"\"\n",
    "    s = ArrayStack(len(expr))  # 스택 초기화\n",
    "    operators = \"+-*/\"\n",
    "\n",
    "    for token in expr:\n",
    "        if token.isdigit():  # 숫자면 스택에 push\n",
    "            s.push(int(token))\n",
    "        elif token in operators:\n",
    "            if s.size() < 2:\n",
    "                raise ValueError(\"연산자 부족\")\n",
    "            b = s.pop()\n",
    "            a = s.pop()\n",
    "            if token == '+':\n",
    "                s.push(a + b)\n",
    "            elif token == '-':\n",
    "                s.push(a - b)\n",
    "            elif token == '*':\n",
    "                s.push(a * b)\n",
    "            elif token == '/':\n",
    "                s.push(a / b)  # 실수 나눗셈\n",
    "        else:\n",
    "            # 괄호는 후위 표기식에서는 무시 가능\n",
    "            continue\n",
    "\n",
    "    if s.size() != 1:\n",
    "        raise ValueError(\"잘못된 후위 표기식\")\n",
    "    return s.pop()"
   ]
  },
  {
   "cell_type": "code",
   "execution_count": 37,
   "metadata": {},
   "outputs": [
    {
     "name": "stdout",
     "output_type": "stream",
     "text": [
      "계산 결과: 14\n"
     ]
    }
   ],
   "source": [
    "postfix_expr = ['3', '4', '+', '2', '*']  # (3 + 4) * 2\n",
    "result = evaluate_postfix(postfix_expr)\n",
    "\n",
    "print(\"계산 결과:\", result)  # 기대 출력: 14"
   ]
  },
  {
   "cell_type": "markdown",
   "metadata": {
    "id": "86pymdhjTzqa"
   },
   "source": [
    "# 코드 4.6: 연산자의 우선순위 계산 함수"
   ]
  },
  {
   "cell_type": "code",
   "execution_count": 38,
   "metadata": {
    "id": "viyVvSNNT4Na"
   },
   "outputs": [],
   "source": [
    "# from ArrayStack import ArrayStack\n",
    "# from EvalPostfix import evalPostfix\n",
    "\n",
    "def precedence (op):\n",
    "    if   (op=='(' or op==')') : return 0\n",
    "    elif (op=='+' or op=='-') : return 1\n",
    "    elif (op=='*' or op=='/') : return 2\n",
    "    else : return -1\n",
    "\n",
    "# 코드 4.7: 중위 표기 수식의 후위식 변환 (참고 파일: ch04/Infix2Postfix.py)\n",
    "def Infix2Postfix( expr ):\n",
    "    s = ArrayStack(100)\n",
    "    output = []\n",
    "\n",
    "    for term in expr : #  [ '8', '/', '2', '-', '3', '+', '(', '3', '*', '2', ')']\n",
    "        if term in '(' :\n",
    "            s.push('(')\n",
    "\n",
    "        elif term in ')' :\n",
    "            while not s.isEmpty() :\n",
    "                op = s.pop()\n",
    "                if op=='(' :\n",
    "                    break\n",
    "                else :\n",
    "                    output.append(op)\n",
    "\n",
    "        elif term in \"+-*/\" :\n",
    "            while not s.isEmpty() :\n",
    "                op = s.peek()\n",
    "                if( precedence(term) <= precedence(op)):\n",
    "                    output.append(op)\n",
    "                    s.pop()\n",
    "                else: break\n",
    "            s.push(term)\n",
    "\n",
    "        else :                  # 피연산자\n",
    "            output.append(term)\n",
    "\n",
    "    while not s.isEmpty() :\n",
    "        output.append(s.pop())\n",
    "\n",
    "    return output\n"
   ]
  },
  {
   "cell_type": "code",
   "execution_count": 39,
   "metadata": {
    "id": "uNHCj3AbUJ3P"
   },
   "outputs": [
    {
     "name": "stdout",
     "output_type": "stream",
     "text": [
      "스택의 응용3: 중위표기식 후위표기 변환\n",
      "\n",
      "  중위표기:  ['8', '/', '2', '-', '3', '+', '(', '3', '*', '2', ')']\n",
      "  후위표기:  ['8', '2', '/', '3', '-', '3', '2', '*', '+']\n",
      "  계산결과:  7.0\n",
      "\n",
      "  중위표기:  ['1', '/', '2', '*', '4', '*', '(', '1', '/', '4', ')']\n",
      "  후위표기:  ['1', '2', '/', '4', '*', '1', '4', '/', '*']\n",
      "  계산결과:  0.5\n"
     ]
    }
   ],
   "source": [
    "# 코드 4.8: 계산기 테스트 프로그램     참고 파일: ch04/Infix2Postfix.py\n",
    "if __name__ == \"__main__\":\n",
    "    print('스택의 응용3: 중위표기식 후위표기 변환\\n')\n",
    "\n",
    "    infix1 = [ '8', '/', '2', '-', '3', '+', '(', '3', '*', '2', ')']\n",
    "    infix2 = [ '1', '/', '2', '*', '4', '*', '(', '1', '/', '4', ')']\n",
    "\n",
    "    postfix1 = Infix2Postfix(infix1)\n",
    "    postfix2 = Infix2Postfix(infix2)\n",
    "\n",
    "    result1 = evalPostfix(postfix1)\n",
    "    result2 = evalPostfix(postfix2)\n",
    "\n",
    "    print('  중위표기: ', infix1)\n",
    "    print('  후위표기: ', postfix1)\n",
    "    print('  계산결과: ', result1, end='\\n\\n')\n",
    "\n",
    "    print('  중위표기: ', infix2)\n",
    "    print('  후위표기: ', postfix2)\n",
    "    print('  계산결과: ', result2)"
   ]
  },
  {
   "cell_type": "markdown",
   "metadata": {
    "id": "ft9ah3LbWqnN"
   },
   "source": [
    "### 문제 1: 지수 연산자(^) 추가 및 우선순위 조정\n",
    "문제 설명: 현재 프로그램은 덧셈, 뺄셈, 곱셈, 나눗셈 연산자만 처리할 수 있습니다.  \n",
    "이 문제에서는 지수 연산자(^)를 추가하고, 기존의 연산자 우선순위 규칙에 따라 지수 연산자가 가장 높은 우선순위를 갖도록 수정하세요.\n",
    "\n",
    "슈도코드:\n",
    "\n",
    " 1. precedence 함수에 지수 연산자의 우선순위를 가장 높은 값으로 추가합니다.\n",
    " 2. Infix2Postfix 함수에서 지수 연산자를 처리할 수 있도록 연산자 조건을 수정합니다.\n",
    " 3. 최종적으로 후위 표기식을 반환합니다\n"
   ]
  },
  {
   "cell_type": "code",
   "execution_count": 40,
   "metadata": {
    "id": "hrnymyVUW2hD"
   },
   "outputs": [],
   "source": [
    "def precedence(op):\n",
    "    \"\"\"\n",
    "    연산자 우선순위 반환\n",
    "    ^ : 3, *,/ : 2, +,- :1\n",
    "    \"\"\"\n",
    "    if op == '^':\n",
    "        return 3\n",
    "    elif op in ('*', '/'):\n",
    "        return 2\n",
    "    elif op in ('+', '-'):\n",
    "        return 1\n",
    "    else:\n",
    "        return 0  # 괄호나 기타 문자는 0\n",
    "\n",
    "\n",
    "def infix_to_postfix(expr):\n",
    "    \"\"\"\n",
    "    중위 표기식 -> 후위 표기식 변환\n",
    "    expr: 문자열\n",
    "    반환: 후위 표기식 리스트\n",
    "    \"\"\"\n",
    "    s = ArrayStack(len(expr))\n",
    "    result = []\n",
    "    for char in expr:\n",
    "        if char.isdigit():  # 숫자이면 바로 출력\n",
    "            result.append(char)\n",
    "        elif char == '(':\n",
    "            s.push(char)\n",
    "        elif char == ')':\n",
    "            while not s.isEmpty() and s.peek() != '(':\n",
    "                result.append(s.pop())\n",
    "            if not s.isEmpty() and s.peek() == '(':\n",
    "                s.pop()  # '(' 제거\n",
    "        else:  # 연산자\n",
    "            while (not s.isEmpty() and precedence(s.peek()) >= precedence(char)):\n",
    "                result.append(s.pop())\n",
    "            s.push(char)\n",
    "\n",
    "    # 스택에 남은 연산자 모두 출력\n",
    "    while not s.isEmpty():\n",
    "        result.append(s.pop())\n",
    "\n",
    "    return result"
   ]
  },
  {
   "cell_type": "code",
   "execution_count": null,
   "metadata": {},
   "outputs": [
    {
     "name": "stdout",
     "output_type": "stream",
     "text": [
      "후위 표기식: 342*15-2^3^/+\n"
     ]
    }
   ],
   "source": [
    "infix_expr = \"3+4*2/(1-5)^2^3\"  # 지수 포함 예제\n",
    "postfix = infix_to_postfix(infix_expr)\n",
    "\n",
    "print(\"후위 표기식:\", ''.join(postfix))  # 기대: 342*15-23^^/+ "
   ]
  },
  {
   "cell_type": "markdown",
   "metadata": {
    "id": "znY-f34rUKyD"
   },
   "source": [
    "# 코드 4.7: 미로의 깊이우선탐색 (참고 파일: ch04/MazeStack.py)"
   ]
  },
  {
   "cell_type": "code",
   "execution_count": 42,
   "metadata": {
    "id": "1CGMvQkUUUpc"
   },
   "outputs": [],
   "source": [
    "# 코드 4.7: 미로의 깊이우선탐색 (참고 파일: ch04/MazeStack.py)\n",
    "# from ArrayStack import ArrayStack\n",
    "\n",
    "map =[[ '1', '1', '1', '1', '1', '1' ],\n",
    "\t  [ 'e', '0', '0', '0', '0', '1' ],\n",
    "\t  [ '1', '0', '1', '0', '1', '1' ],\n",
    "\t  [ '1', '1', '1', '0', '0', 'x' ],\n",
    "\t  [ '1', '1', '1', '0', '1', '1' ],\n",
    "\t  [ '1', '1', '1', '1', '1', '1' ]]\n",
    "\n",
    "MAZE_SIZE = 6"
   ]
  },
  {
   "cell_type": "code",
   "execution_count": 43,
   "metadata": {
    "id": "V2NZvzxdUn7d"
   },
   "outputs": [],
   "source": [
    "# 코드 4.7: 갈 수 있는 위치인지를 판단하는 알고리즘 (참고 파일: ch04/MazeStack.py)\n",
    "def isValidPos(x, y) :\t\t# (x,y)가 갈 수 있는 방인지 검사하는 함수\n",
    "    if 0 <= x < MAZE_SIZE and 0 <= y < MAZE_SIZE :\n",
    "        if map[y][x] == '0' or map[y][x] == 'x':\n",
    "            return True\n",
    "    return False"
   ]
  },
  {
   "cell_type": "code",
   "execution_count": 44,
   "metadata": {
    "id": "tENaTXqfUpaC"
   },
   "outputs": [],
   "source": [
    "def DFS() :\t\t\t# 깊이우선탐색 함수\n",
    "    print('DFS: ')\n",
    "    stack = ArrayStack(100)\t# 사용할 덱 객체를 준비\n",
    "    stack.push((0,1))\t\t# 후단에 시작위치 삽입. (0,1)은 튜플\n",
    "\n",
    "    while not stack.isEmpty(): \t# 공백이 아닐 동안\n",
    "        here = stack.pop()      # 후단에서 항목을 꺼냄(pop)\n",
    "        print(here, end='->')\n",
    "        (x,y) = here\n",
    "\n",
    "        if (map[y][x] == 'x') :\t# 출구이면 성공. True 반환\n",
    "            return True\n",
    "        else :\n",
    "            map[y][x] = '.'\t# 현재위치를 지나왔다고 ’.’표시\n",
    "            if isValidPos(x, y - 1): stack.push((x, y - 1)) # 상\n",
    "            if isValidPos(x + 1, y): stack.push((x + 1, y)) # 우\n",
    "            if isValidPos(x, y + 1): stack.push((x, y + 1)) # 하\n",
    "            if isValidPos(x - 1, y): stack.push((x - 1, y)) # 좌\n",
    "        print(' 현재 스택: ', stack)\n",
    "    return False\n"
   ]
  },
  {
   "cell_type": "code",
   "execution_count": 45,
   "metadata": {
    "id": "vzzxtyxXUrMh"
   },
   "outputs": [
    {
     "name": "stdout",
     "output_type": "stream",
     "text": [
      "DFS: \n",
      "(0, 1)-> 현재 스택:  [(1, 1)]\n",
      "(1, 1)-> 현재 스택:  [(1, 2), (2, 1)]\n",
      "(1, 2)-> 현재 스택:  [(2, 1)]\n",
      "(2, 1)-> 현재 스택:  [(3, 1)]\n",
      "(3, 1)-> 현재 스택:  [(3, 2), (4, 1)]\n",
      "(3, 2)-> 현재 스택:  [(3, 3), (4, 1)]\n",
      "(3, 3)-> 현재 스택:  [(3, 4), (4, 3), (4, 1)]\n",
      "(3, 4)-> 현재 스택:  [(4, 3), (4, 1)]\n",
      "(4, 3)-> 현재 스택:  [(5, 3), (4, 1)]\n",
      "(5, 3)-> --> 미로탐색 성공\n"
     ]
    }
   ],
   "source": [
    "result = DFS()\n",
    "if result : print(' --> 미로탐색 성공')\n",
    "else : print(' --> 미로탐색 실패')"
   ]
  },
  {
   "cell_type": "markdown",
   "metadata": {
    "id": "nisD3rGn7XGM"
   },
   "source": [
    "### 문제 1: 경로 추적하여 미로 탈출 경로 출력하기\n",
    "\n",
    "**문제 설명:**\n",
    "미로에서 출구까지 도달할 수 있는 경우, 지나온 경로를 출력하는 프로그램을 작성하세요. `DFS` 함수가 출구를 찾으면, 탐색 중 지나온 모든 좌표를 출력하여 경로를 시각화하도록 합니다.\n",
    "\n",
    "**슈도코드:**\n",
    "1. 시작 위치에서 스택에 좌표를 추가하여 탐색을 시작합니다.\n",
    "2. 출구에 도달할 때까지 각 위치를 탐색하면서, 지나온 위치들을 경로 리스트에 저장합니다.\n",
    "3. 출구에 도달하면 `경로 리스트`를 반환합니다.\n",
    "4. 도달하지 못한 경우 실패 메시지를 출력합니다."
   ]
  },
  {
   "cell_type": "code",
   "execution_count": 46,
   "metadata": {
    "id": "YKlpl-U1-Eks"
   },
   "outputs": [],
   "source": [
    "# 스택 클래스: 기존 ArrayStack 사용\n",
    "# push, pop, peek, isEmpty\n",
    "\n",
    "# 미로 예시 (0: 길, 1: 벽)\n",
    "maze = [\n",
    "    [0, 1, 0, 0, 0],\n",
    "    [0, 1, 0, 1, 0],\n",
    "    [0, 0, 0, 1, 0],\n",
    "    [1, 1, 0, 0, 0],\n",
    "]\n",
    "\n",
    "start = (0, 0)   # 시작 좌표\n",
    "end = (3, 4)     # 출구 좌표\n",
    "\n",
    "# 이동 방향: 상, 하, 좌, 우\n",
    "directions = [(-1,0),(1,0),(0,-1),(0,1)]\n",
    "\n",
    "\n",
    "def dfs_maze(maze, start, end):\n",
    "    rows = len(maze)\n",
    "    cols = len(maze[0])\n",
    "    visited = [[False]*cols for _ in range(rows)]\n",
    "    stack = ArrayStack(rows*cols)\n",
    "    \n",
    "    # 경로 기록용 리스트\n",
    "    path = []\n",
    "\n",
    "    # 스택에 (좌표, 현재 경로) 저장\n",
    "    stack.push((start, [start]))\n",
    "\n",
    "    while not stack.isEmpty():\n",
    "        (x, y), current_path = stack.pop()\n",
    "        \n",
    "        if visited[x][y]:\n",
    "            continue\n",
    "        visited[x][y] = True\n",
    "\n",
    "        # 경로 갱신\n",
    "        path = current_path\n",
    "\n",
    "        # 출구 도착\n",
    "        if (x, y) == end:\n",
    "            return path\n",
    "\n",
    "        # 이동 가능한 방향 탐색\n",
    "        for dx, dy in directions:\n",
    "            nx, ny = x + dx, y + dy\n",
    "            if 0 <= nx < rows and 0 <= ny < cols:\n",
    "                if maze[nx][ny] == 0 and not visited[nx][ny]:\n",
    "                    stack.push(((nx, ny), current_path + [(nx, ny)]))\n",
    "    \n",
    "    # 출구 도달 불가\n",
    "    return None"
   ]
  },
  {
   "cell_type": "code",
   "execution_count": 47,
   "metadata": {},
   "outputs": [
    {
     "name": "stdout",
     "output_type": "stream",
     "text": [
      "탈출 경로:\n",
      "(0, 0)\n",
      "(1, 0)\n",
      "(2, 0)\n",
      "(2, 1)\n",
      "(2, 2)\n",
      "(3, 2)\n",
      "(3, 3)\n",
      "(3, 4)\n"
     ]
    }
   ],
   "source": [
    "result_path = dfs_maze(maze, start, end)\n",
    "if result_path:\n",
    "    print(\"탈출 경로:\")\n",
    "    for coord in result_path:\n",
    "        print(coord)\n",
    "else:\n",
    "    print(\"출구에 도달할 수 없습니다.\")"
   ]
  },
  {
   "cell_type": "markdown",
   "metadata": {
    "id": "HbG5kKGx-aTX"
   },
   "source": [
    "### 문제 2: 섬의 개수 찾기\n",
    "문제 설명: 2차원 격자 지도에서 땅(1)과 물(0)이 섞여 있는 영역이 주어집니다.  \n",
    "연결된 땅들은 하나의 섬을 형성하며, 이웃한 땅은 수평 또는 수직으로 인접할 때만 연결된 것으로 간주합니다.  \n",
    "주어진 지도에서 섬의 개수를 구하는 프로그램을 작성하세요.\n",
    "\n",
    "예시 출력:\n",
    "\n",
    "섬의 개수: 3"
   ]
  },
  {
   "cell_type": "code",
   "execution_count": 48,
   "metadata": {
    "id": "uRgBfbVyYFKh"
   },
   "outputs": [
    {
     "name": "stdout",
     "output_type": "stream",
     "text": [
      "섬의 개수: 3\n"
     ]
    }
   ],
   "source": [
    "# 입력 예시\n",
    "grid = [\n",
    "    ['1', '1', '0', '0', '0'],\n",
    "    ['1', '1', '0', '1', '1'],\n",
    "    ['0', '0', '0', '1', '1'],\n",
    "    ['0', '1', '0', '0', '0'],\n",
    "    ['1', '1', '0', '0', '0']\n",
    "]\n",
    "\n",
    "rows = len(grid)\n",
    "cols = len(grid[0])\n",
    "\n",
    "# 상하좌우 이동\n",
    "directions = [(-1,0),(1,0),(0,-1),(0,1)]\n",
    "\n",
    "def dfs(x, y):\n",
    "    # 범위 체크\n",
    "    if x < 0 or x >= rows or y < 0 or y >= cols:\n",
    "        return\n",
    "    if grid[x][y] != '1':\n",
    "        return\n",
    "\n",
    "    # 방문 처리: '1' -> '0'\n",
    "    grid[x][y] = '0'\n",
    "\n",
    "    # 상하좌우 탐색\n",
    "    for dx, dy in directions:\n",
    "        dfs(x + dx, y + dy)\n",
    "\n",
    "# 섬 개수 카운트\n",
    "count = 0\n",
    "for i in range(rows):\n",
    "    for j in range(cols):\n",
    "        if grid[i][j] == '1':\n",
    "            dfs(i, j)\n",
    "            count += 1\n",
    "\n",
    "print(\"섬의 개수:\", count)"
   ]
  },
  {
   "cell_type": "markdown",
   "metadata": {
    "id": "L5Dx7D5tYha5"
   },
   "source": [
    "#### 문제 해결 방법\n",
    "이 문제는 **깊이 우선 탐색(DFS)** 을 사용하여 격자에서 연결된 땅을 찾아 탐색하는 방식으로 해결할 수 있습니다.  \n",
    "DFS는 한 지점에서 출발하여 연결된 모든 지점을 방문하고, 방문한 지점은 다시 탐색하지 않도록 표시합니다.  \n",
    "이를 통해 각 섬을 개별적으로 탐색하며, 섬의 개수를 셀 수 있습니다.\n",
    "\n",
    "#### 슈도코드\n",
    "1. countIslands 함수를 정의하고, 섬의 개수를 저장할 변수를 초기화합니다.  \n",
    "2. 각 격자 위치 (i, j)를 탐색합니다:  \n",
    "3. 현재 위치가 땅(1)이면 DFS를 통해 연결된 모든 땅을 탐색하고 방문 표시('v'로 변경)합니다.  \n",
    "4. 섬이 발견되면 섬의 개수를 1 증가시킵니다.  \n",
    "5. 모든 격자를 탐색한 후, 최종 섬의 개수를 반환합니다.  \n"
   ]
  },
  {
   "cell_type": "code",
   "execution_count": 49,
   "metadata": {
    "id": "liYxS0t3YsUD"
   },
   "outputs": [
    {
     "name": "stdout",
     "output_type": "stream",
     "text": [
      "섬의 개수: 3\n"
     ]
    }
   ],
   "source": [
    "def countIslands(grid):\n",
    "    rows = len(grid)\n",
    "    cols = len(grid[0])\n",
    "    \n",
    "    # 상하좌우 이동\n",
    "    directions = [(-1,0),(1,0),(0,-1),(0,1)]\n",
    "    \n",
    "    def dfs(x, y):\n",
    "        # 범위 체크\n",
    "        if x < 0 or x >= rows or y < 0 or y >= cols:\n",
    "            return\n",
    "        if grid[x][y] != '1':\n",
    "            return\n",
    "        \n",
    "        # 방문 표시\n",
    "        grid[x][y] = 'v'\n",
    "        \n",
    "        # 상하좌우 탐색\n",
    "        for dx, dy in directions:\n",
    "            dfs(x + dx, y + dy)\n",
    "    \n",
    "    count = 0\n",
    "    for i in range(rows):\n",
    "        for j in range(cols):\n",
    "            if grid[i][j] == '1':\n",
    "                dfs(i, j)\n",
    "                count += 1\n",
    "    \n",
    "    return count\n",
    "\n",
    "\n",
    "# 테스트 입력\n",
    "grid = [\n",
    "    ['1', '1', '0', '0', '0'],\n",
    "    ['1', '1', '0', '1', '1'],\n",
    "    ['0', '0', '0', '1', '1'],\n",
    "    ['0', '1', '0', '0', '0'],\n",
    "    ['1', '1', '0', '0', '0']\n",
    "]\n",
    "\n",
    "print(\"섬의 개수:\", countIslands(grid))\n"
   ]
  }
 ],
 "metadata": {
  "colab": {
   "private_outputs": true,
   "provenance": [
    {
     "file_id": "1mCHSPgUtQlmoulrAx9364oDtw25bI4Q7",
     "timestamp": 1731232685877
    }
   ]
  },
  "kernelspec": {
   "display_name": "base",
   "language": "python",
   "name": "python3"
  },
  "language_info": {
   "codemirror_mode": {
    "name": "ipython",
    "version": 3
   },
   "file_extension": ".py",
   "mimetype": "text/x-python",
   "name": "python",
   "nbconvert_exporter": "python",
   "pygments_lexer": "ipython3",
   "version": "3.10.16"
  }
 },
 "nbformat": 4,
 "nbformat_minor": 0
}
