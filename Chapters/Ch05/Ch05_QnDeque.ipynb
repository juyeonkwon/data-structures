{
  "cells": [
    {
      "cell_type": "markdown",
      "metadata": {
        "id": "rXP_ZUMeiIlX"
      },
      "source": [
        "# 파이썬의 `Queue` 모듈\n",
        "\n",
        " 파이썬의 `Queue` 모듈은 스레드 간 안전하게 사용할 수 있는 큐 자료 구조를 제공하여, 여러 프로세스 또는 스레드가 데이터를 안전하게 주고받을 수 있게 합니다. `Queue` 모듈은 주로 **FIFO(First In First Out) Queue**와 **LIFO(Last In First Out) Queue**를 제공합니다. 각 큐는 다음과 같은 특징을 가지고 있습니다:\n",
        "\n",
        "1. **Queue (FIFO)**:\n",
        "   - FIFO 방식으로 동작하며, 먼저 삽입된 요소가 먼저 제거됩니다.\n",
        "   - `.put(item)`을 사용해 요소를 큐에 추가하고, `.get()`을 사용해 큐에서 요소를 제거합니다.\n",
        "\n",
        "2. **LifoQueue (스택)**:\n",
        "   - LIFO 방식으로 동작하며, 나중에 삽입된 요소가 먼저 제거됩니다.\n",
        "   - `.put(item)`을 사용해 요소를 스택에 추가하고, `.get()`을 사용해 스택에서 요소를 제거합니다.\n",
        "   \n",
        "3. **PriorityQueue (우선순위 큐)**:\n",
        "   - 우선순위에 따라 요소를 정렬하며, 낮은 우선순위를 가진 요소가 먼저 제거됩니다.\n",
        "   - 요소 삽입 시 `(우선순위, 값)` 형태로 추가하며, 우선순위 기준으로 자동 정렬됩니다.\n",
        "\n",
        "### 주요 메서드\n",
        "- **`put(item)`**: 큐에 요소를 추가합니다.\n",
        "- **`get()`**: 큐에서 요소를 제거하고 반환합니다.\n",
        "- **`empty()`**: 큐가 비어 있는지 확인합니다.\n",
        "- **`full()`**: 큐가 가득 찼는지 확인합니다."
      ]
    },
    {
      "cell_type": "markdown",
      "metadata": {
        "id": "0qrN3JknisJi"
      },
      "source": [
        "아래는 `queue` 모듈을 사용하여 `Queue`(FIFO)와 `LifoQueue`(스택)의 기능을 테스트하는 간단한 예제 코드입니다. `put()`을 통해 요소를 삽입하고 `get()`을 통해 요소를 제거합니다.\n",
        "\n",
        "먼저, `queue` 모듈을 사용하여 큐 객체를 생성하고, 각 큐에 대해 동작을 테스트하는 코드를 작성한 뒤, 연습 문제도 제공합니다."
      ]
    },
    {
      "cell_type": "code",
      "execution_count": 1,
      "metadata": {
        "id": "NsU3PAKyiHb1"
      },
      "outputs": [
        {
          "name": "stdout",
          "output_type": "stream",
          "text": [
            "FIFO Queue 요소 제거 순서:\n",
            "1\n",
            "2\n",
            "3\n"
          ]
        }
      ],
      "source": [
        "import queue\n",
        "\n",
        "fifo_queue = queue.Queue()\n",
        "\n",
        "# 요소 삽입\n",
        "fifo_queue.put(1)\n",
        "fifo_queue.put(2)\n",
        "fifo_queue.put(3)\n",
        "\n",
        "# 요소 제거\n",
        "print(\"FIFO Queue 요소 제거 순서:\")\n",
        "while not fifo_queue.empty():\n",
        "    print(fifo_queue.get())"
      ]
    },
    {
      "cell_type": "code",
      "execution_count": 2,
      "metadata": {
        "id": "xz5IwDtseyko"
      },
      "outputs": [
        {
          "name": "stdout",
          "output_type": "stream",
          "text": [
            "1 2 3 4 5 6 7 8 9 "
          ]
        }
      ],
      "source": [
        "myQ = queue.Queue(10)\n",
        "\n",
        "for v in range(1,10):\n",
        "    myQ.put(v)\n",
        "\n",
        "for _ in range(1,10):\n",
        "    r = myQ.get()\n",
        "    print(r, end=\" \")"
      ]
    },
    {
      "cell_type": "code",
      "execution_count": 3,
      "metadata": {
        "id": "nxYDjNsUeVJV"
      },
      "outputs": [
        {
          "name": "stdout",
          "output_type": "stream",
          "text": [
            "\n",
            "LIFO Queue (Stack) 요소 제거 순서:\n",
            "3\n",
            "2\n",
            "1\n"
          ]
        }
      ],
      "source": [
        "lifo_queue = queue.LifoQueue()\n",
        "\n",
        "lifo_queue.put(1)\n",
        "lifo_queue.put(2)\n",
        "lifo_queue.put(3)\n",
        "\n",
        "print(\"\\nLIFO Queue (Stack) 요소 제거 순서:\")\n",
        "while not lifo_queue.empty():\n",
        "    print(lifo_queue.get())"
      ]
    },
    {
      "cell_type": "markdown",
      "metadata": {
        "id": "w9LpQIWdiecs"
      },
      "source": [
        " ### 문제\n",
        "1. **문제 1**: `Queue`(FIFO)와 `LifoQueue`(스택)를 각각 사용하여 사용자로부터 5개의 정수를 입력받고, 입력된 순서대로 각 큐에서 `get()`을 사용하여 출력하세요. 두 큐의 출력 순서가 어떻게 다른지 확인해보세요."
      ]
    },
    {
      "cell_type": "code",
      "execution_count": 5,
      "metadata": {
        "id": "7G9EseHMifrW"
      },
      "outputs": [
        {
          "name": "stdout",
          "output_type": "stream",
          "text": [
            "정수 5개를 입력하세요:\n",
            "\n",
            "FIFO Queue 요소 제거 순서:\n",
            "1 2 3 4 5 \n",
            "LIFO Queue 요소 제거 순서:\n",
            "5 4 3 2 1 "
          ]
        }
      ],
      "source": [
        "fifo_queue = queue.Queue()\n",
        "lifo_queue = queue.LifoQueue()\n",
        "\n",
        "# 사용자로부터 5개의 정수 입력받아 두 큐에 저장\n",
        "print(\"정수 5개를 입력하세요:\")\n",
        "for _ in range(5):\n",
        "    num = int(input(\"정수 입력: \"))\n",
        "    fifo_queue.put(num)\n",
        "    lifo_queue.put(num)\n",
        "\n",
        "# FIFO Queue 출력\n",
        "print(\"\\nFIFO Queue 요소 제거 순서:\")\n",
        "while not fifo_queue.empty():\n",
        "    print(fifo_queue.get(), end=\" \")  # 입력 순서대로 출력\n",
        "\n",
        "# LifoQueue 출력\n",
        "print(\"\\nLIFO Queue 요소 제거 순서:\")\n",
        "while not lifo_queue.empty():\n",
        "    print(lifo_queue.get(), end=\" \")  # 반대 순서로 출력"
      ]
    },
    {
      "cell_type": "markdown",
      "metadata": {
        "id": "XZVeXMnbieiZ"
      },
      "source": [
        "\n",
        "2. **문제 2**: `Queue` 클래스를 사용하여 다음 상황을 구현하세요: 대기열에 `A`, `B`, `C`, `D` 네 명의 고객이 있으며, 각 고객이 대기열에 들어가고 순서대로 호출됩니다. 각 고객의 이름을 큐에 `put()`으로 삽입하고, `get()`으로 대기열에서 제거하여 호출 순서를 출력하세요.\n"
      ]
    },
    {
      "cell_type": "code",
      "execution_count": 6,
      "metadata": {
        "id": "I2go9BnVigFn"
      },
      "outputs": [
        {
          "name": "stdout",
          "output_type": "stream",
          "text": [
            "고객 호출 순서:\n",
            "A B C D "
          ]
        }
      ],
      "source": [
        "customer_queue = queue.Queue()\n",
        "\n",
        "# 고객 이름을 대기열에 추가\n",
        "customers = [\"A\", \"B\", \"C\", \"D\"]\n",
        "for customer in customers:\n",
        "    customer_queue.put(customer)\n",
        "\n",
        "# 대기열에서 고객을 호출하며 제거\n",
        "print(\"고객 호출 순서:\")\n",
        "while not customer_queue.empty():\n",
        "    print(customer_queue.get(), end=\" \")"
      ]
    },
    {
      "cell_type": "markdown",
      "metadata": {
        "id": "Z8n3nBTYievH"
      },
      "source": [
        "\n",
        "3. **문제 3**: `LifoQueue`를 사용하여 간단한 계산기 기능을 만드세요. 사용자가 입력한 연산(예: `5`, `3`, `+`, `2`, `*`)을 순서대로 `put()`으로 스택에 저장하고, 각 연산을 처리할 때 `get()`을 사용해 후입선출(LIFO) 방식으로 스택에서 값을 꺼내 연산하여 결과를 출력하세요."
      ]
    },
    {
      "cell_type": "code",
      "execution_count": 7,
      "metadata": {
        "id": "o1iDdHEpihDt"
      },
      "outputs": [
        {
          "name": "stdout",
          "output_type": "stream",
          "text": [
            "계산 결과: 16\n"
          ]
        }
      ],
      "source": [
        "import queue\n",
        "\n",
        "# LifoQueue 생성\n",
        "calc_stack = queue.LifoQueue()\n",
        "\n",
        "# 사용자 입력받기\n",
        "expression = input(\"수식을 입력하세요 (예: 5 3 + 2 *): \").split()\n",
        "\n",
        "# 연산자를 처리하는 함수\n",
        "def perform_operation(op, a, b):\n",
        "    if op == \"+\":\n",
        "        return a + b\n",
        "    elif op == \"-\":\n",
        "        return a - b\n",
        "    elif op == \"*\":\n",
        "        return a * b\n",
        "    elif op == \"/\":\n",
        "        return a / b\n",
        "    else:\n",
        "        raise ValueError(f\"알 수 없는 연산자: {op}\")\n",
        "\n",
        "# 입력된 값을 스택에 저장\n",
        "for token in expression:\n",
        "    if token.isdigit():  # 숫자는 스택에 추가\n",
        "        calc_stack.put(int(token))\n",
        "    else:  # 연산자 처리\n",
        "        b = calc_stack.get()  # 후입선출로 가장 최근 값을 꺼냄\n",
        "        a = calc_stack.get()\n",
        "        result = perform_operation(token, a, b)\n",
        "        calc_stack.put(result)  # 결과를 다시 스택에 저장\n",
        "\n",
        "# 최종 결과 출력\n",
        "print(\"계산 결과:\", calc_stack.get())"
      ]
    },
    {
      "cell_type": "markdown",
      "metadata": {
        "id": "DTXE-Sz3nvcZ"
      },
      "source": [
        "# 파이썬 리스트를 활용한 큐 구현"
      ]
    },
    {
      "cell_type": "code",
      "execution_count": 8,
      "metadata": {
        "id": "7F1zULRunnic"
      },
      "outputs": [],
      "source": [
        "class SimpleQueue:\n",
        "    def __init__(self):\n",
        "        self.queue = []\n",
        "\n",
        "    def euqueue(self, item):\n",
        "        self.queue.append(item)\n",
        "\n",
        "    def dequeue(self):\n",
        "        if self.isEmpty():\n",
        "            print(\"Queue is empty\")\n",
        "        else:\n",
        "            r = self.queue.pop(0)\n",
        "            return r\n",
        "\n",
        "    def isEmpty(self):\n",
        "        return  len(self.queue) == 0\n",
        "\n",
        "    def peek(self):\n",
        "        if self.isEmpty():\n",
        "            print(\"Queue is empty\")\n",
        "            return None\n",
        "        return self.queue[0]"
      ]
    },
    {
      "cell_type": "code",
      "execution_count": 9,
      "metadata": {
        "id": "QrnjHrjxd-Ax"
      },
      "outputs": [
        {
          "name": "stdout",
          "output_type": "stream",
          "text": [
            "Queue is empty\n",
            "None\n"
          ]
        }
      ],
      "source": [
        "q = SimpleQueue()\n",
        "r= q.peek()\n",
        "print(r)"
      ]
    },
    {
      "cell_type": "code",
      "execution_count": 10,
      "metadata": {
        "id": "fZ6SMaVwbP01"
      },
      "outputs": [],
      "source": [
        "# 일반 큐 클래스\n",
        "class Queue:\n",
        "    def __init__(self, capacity=8):\n",
        "        self.capacity = capacity         # 용량(고정)\n",
        "        self.array = [None] * capacity   # 요소들을 저장할 배열\n",
        "        self.front = -1                  # 전단의 인덱스 (초기값 -1)\n",
        "        self.rear = -1                   # 후단의 인덱스 (초기값 -1)\n",
        "\n",
        "    def isEmpty(self):\n",
        "        return self.front == -1\n",
        "\n",
        "    def isFull(self):\n",
        "        return self.rear == self.capacity - 1\n",
        "\n",
        "    def enqueue(self, item):\n",
        "        if not self.isFull():\n",
        "            if self.isEmpty():\n",
        "                self.front = 0\n",
        "            self.rear += 1\n",
        "            self.array[self.rear] = item\n",
        "\n",
        "    def dequeue(self):\n",
        "        if not self.isEmpty():\n",
        "            item = self.array[self.front]\n",
        "            self.array[self.front] = None\n",
        "            if self.front == self.rear:  # 큐가 비어 있는 상태로 전환\n",
        "                self.front = -1\n",
        "                self.rear = -1\n",
        "            else:\n",
        "                self.front += 1\n",
        "            return item\n",
        "\n",
        "    def peek(self):\n",
        "        if not self.isEmpty():\n",
        "            return self.array[self.front]\n",
        "\n",
        "    def size(self):\n",
        "        if self.isEmpty():\n",
        "            return 0\n",
        "        return self.rear - self.front + 1\n",
        "\n",
        "    def __str__(self):\n",
        "        if self.isEmpty():\n",
        "            return \"[]\"\n",
        "        return str(self.array[self.front:self.rear + 1])"
      ]
    },
    {
      "cell_type": "markdown",
      "metadata": {
        "id": "Pb_DEEEfumQy"
      },
      "source": [
        "문제 1. **큐 초기화와 데이터 삽입**\n",
        "   - **문제:** 위 코드의 `Queue` 클래스를 사용하여 길이가 5인 큐를 생성하고, 1부터 5까지의 숫자를 차례로 삽입하시오. 큐의 상태를 출력하시오.\n",
        "   - **예상 출력:**  \n",
        "     ```\n",
        "     [1, 2, 3, 4, 5]\n",
        "     ```\n"
      ]
    },
    {
      "cell_type": "code",
      "execution_count": 11,
      "metadata": {
        "id": "m4lbU6MNu6bh"
      },
      "outputs": [
        {
          "name": "stdout",
          "output_type": "stream",
          "text": [
            "[1, 2, 3, 4, 5]\n"
          ]
        }
      ],
      "source": [
        "q = Queue(5)\n",
        "\n",
        "for i in range(1, 6):\n",
        "    q.enqueue(i)\n",
        "\n",
        "print(q)"
      ]
    },
    {
      "cell_type": "markdown",
      "metadata": {
        "id": "t9uXEVfuu6ih"
      },
      "source": [
        "문제 2. **데이터 삭제와 큐 상태 확인**\n",
        "   - **문제:** 위 코드의 `Queue` 클래스를 사용하여 큐에 1부터 5까지의 숫자를 삽입한 후, 두 번의 `dequeue()` 연산을 수행하시오. 그 후, 큐의 현재 상태와 `size()` 메서드를 사용하여 큐의 크기를 출력하시오.\n",
        "   - **예상 출력:**  \n",
        "     ```\n",
        "     큐 상태: [3, 4, 5]\n",
        "     큐 크기: 3\n",
        "     ```\n"
      ]
    },
    {
      "cell_type": "code",
      "execution_count": 12,
      "metadata": {
        "id": "7ZuXeJPqu7T-"
      },
      "outputs": [
        {
          "name": "stdout",
          "output_type": "stream",
          "text": [
            "큐 상태: [3, 4, 5]\n",
            "큐 크기: 3\n"
          ]
        }
      ],
      "source": [
        "q = Queue(5)\n",
        "\n",
        "for i in range(1, 6):\n",
        "    q.enqueue(i)\n",
        "\n",
        "q.dequeue()\n",
        "q.dequeue()\n",
        "\n",
        "print(\"큐 상태:\", q)\n",
        "print(\"큐 크기:\", q.size())"
      ]
    },
    {
      "cell_type": "markdown",
      "metadata": {
        "id": "pjP4xopFvAza"
      },
      "source": [
        "문제 3. **큐의 `peek` 메서드 활용**\n",
        "   - **문제:** 큐에 1, 2, 3을 삽입한 후, `peek()` 메서드를 사용하여 현재 전단(front)에 위치한 요소를 출력하시오. 그 후, 큐의 상태를 확인하시오.\n",
        "   - **예상 출력:**  \n",
        "     ```\n",
        "     현재 전단의 값: 1\n",
        "     큐 상태: [1, 2, 3]\n",
        "     ```\n"
      ]
    },
    {
      "cell_type": "code",
      "execution_count": 13,
      "metadata": {
        "id": "dEHxR9E5vBLd"
      },
      "outputs": [
        {
          "name": "stdout",
          "output_type": "stream",
          "text": [
            "현재 전단의 값: 1\n",
            "큐 상태: [1, 2, 3]\n"
          ]
        }
      ],
      "source": [
        "q = Queue(5)\n",
        "\n",
        "q.enqueue(1)\n",
        "q.enqueue(2)\n",
        "q.enqueue(3)\n",
        "\n",
        "front_value = q.peek()\n",
        "print(\"현재 전단의 값:\", front_value)\n",
        "\n",
        "print(\"큐 상태:\", q)"
      ]
    },
    {
      "cell_type": "markdown",
      "metadata": {
        "id": "y--Kxb4KvFXd"
      },
      "source": [
        "문제 4. **큐가 비었는지 확인**\n",
        "   - **문제:** 비어 있는 큐를 생성한 후, `isEmpty()` 메서드를 사용하여 큐가 비어 있는지 확인하시오. 그 후, 숫자 10을 삽입한 뒤 다시 `isEmpty()` 메서드를 사용하여 상태를 확인하시오.\n",
        "   - **예상 출력:**  \n",
        "     ```\n",
        "     큐가 비었는가? True\n",
        "     큐가 비었는가? False\n",
        "     ```\n"
      ]
    },
    {
      "cell_type": "code",
      "execution_count": 14,
      "metadata": {
        "id": "odEFRizsvHDo"
      },
      "outputs": [
        {
          "name": "stdout",
          "output_type": "stream",
          "text": [
            "큐가 비었는가? True\n",
            "큐가 비었는가? False\n"
          ]
        }
      ],
      "source": [
        "q = Queue(5)\n",
        "\n",
        "print(\"큐가 비었는가?\", q.isEmpty())\n",
        "\n",
        "q.enqueue(10)\n",
        "\n",
        "# 다시 큐가 비어 있는지 확인\n",
        "print(\"큐가 비었는가?\", q.isEmpty())"
      ]
    },
    {
      "cell_type": "markdown",
      "metadata": {
        "id": "eRbIbC2XvHlB"
      },
      "source": [
        "문제 5. . **`enqueue` 메서드 확장: 데이터 중복 방지**\n",
        "   - **문제:** 기존 `Queue` 클래스의 `enqueue()` 메서드를 확장하여, **중복 데이터 삽입을 방지**하는 기능을 추가하시오.  \n",
        "     - 이미 큐에 존재하는 요소를 삽입하려고 하면 삽입되지 않아야 하며, 적절한 메시지를 출력해야 합니다.\n",
        "   - **조건:**\n",
        "     1. 큐의 길이는 5로 설정합니다.\n",
        "     2. 다음 데이터를 순서대로 삽입합니다: 10, 20, 30, 10, 40, 20.\n",
        "     3. 중복 데이터를 삽입하려고 할 때 적절한 메시지를 출력합니다.\n",
        "   - **예상 출력:**  \n",
        "     ```\n",
        "     [10, 20, 30, 40]\n",
        "     중복 데이터: 10 삽입 실패\n",
        "     중복 데이터: 20 삽입 실패\n",
        "     ```\n"
      ]
    },
    {
      "cell_type": "code",
      "execution_count": 15,
      "metadata": {
        "id": "ZUGlaRUlvwsr"
      },
      "outputs": [
        {
          "name": "stdout",
          "output_type": "stream",
          "text": [
            "중복 데이터: 10 삽입 실패\n",
            "중복 데이터: 20 삽입 실패\n",
            "[10, 20, 30, 40]\n"
          ]
        }
      ],
      "source": [
        "class Queue:\n",
        "    def __init__(self, capacity=8):\n",
        "        self.capacity = capacity         # 용량(고정)\n",
        "        self.array = [None] * capacity   # 요소들을 저장할 배열\n",
        "        self.front = -1                  # 전단의 인덱스 (초기값 -1)\n",
        "        self.rear = -1                   # 후단의 인덱스 (초기값 -1)\n",
        "\n",
        "    def isEmpty(self):\n",
        "        return self.front == -1\n",
        "\n",
        "    def isFull(self):\n",
        "        return self.rear == self.capacity - 1\n",
        "\n",
        "    def enqueue(self, item):\n",
        "        if not self.isFull():\n",
        "            # 중복 방지 기능 추가\n",
        "            if item in self.array[self.front:self.rear + 1]:\n",
        "                print(f\"중복 데이터: {item} 삽입 실패\")\n",
        "                return\n",
        "\n",
        "            if self.isEmpty():\n",
        "                self.front = 0\n",
        "            self.rear += 1\n",
        "            self.array[self.rear] = item\n",
        "\n",
        "    def dequeue(self):\n",
        "        if not self.isEmpty():\n",
        "            item = self.array[self.front]\n",
        "            self.array[self.front] = None\n",
        "            if self.front == self.rear:  # 큐가 비어 있는 상태로 전환\n",
        "                self.front = -1\n",
        "                self.rear = -1\n",
        "            else:\n",
        "                self.front += 1\n",
        "            return item\n",
        "\n",
        "    def peek(self):\n",
        "        if not self.isEmpty():\n",
        "            return self.array[self.front]\n",
        "\n",
        "    def size(self):\n",
        "        if self.isEmpty():\n",
        "            return 0\n",
        "        return self.rear - self.front + 1\n",
        "\n",
        "    def __str__(self):\n",
        "        if self.isEmpty():\n",
        "            return \"[]\"\n",
        "        return str([x for x in self.array[self.front:self.rear + 1] if x is not None])\n",
        "\n",
        "\n",
        "# Queue 생성\n",
        "q = Queue(5)\n",
        "\n",
        "# 데이터 삽입\n",
        "data = [10, 20, 30, 10, 40, 20]\n",
        "for item in data:\n",
        "    q.enqueue(item)\n",
        "\n",
        "# 최종 큐 상태 출력\n",
        "print(q)"
      ]
    },
    {
      "cell_type": "markdown",
      "metadata": {
        "id": "wi1ez17vvw2E"
      },
      "source": [
        "문제 6. **`dequeue` 메서드 확장: 큐 비어있을 때 기본값 반환**\n",
        "   - **문제:** 기존 `Queue` 클래스의 `dequeue()` 메서드를 확장하여, **큐가 비어 있을 경우 기본값을 반환**하도록 수정하시오.  \n",
        "     - 기본값은 `None`을 반환하되, 기본값을 설정할 수 있는 매개변수를 추가합니다. 예: `dequeue(default_value=\"No Data\")`.\n",
        "   - **조건:**\n",
        "     1. 큐의 길이는 3으로 설정합니다.\n",
        "     2. 데이터를 1개 삽입한 후 2번 `dequeue()`를 호출하여 출력합니다.  \n",
        "        - 첫 번째 `dequeue()`는 큐에서 값을 제거합니다.\n",
        "        - 두 번째 `dequeue()`는 기본값을 반환해야 합니다.\n",
        "   - **예상 출력:**  \n",
        "     ```\n",
        "     첫 번째 dequeue: 10\n",
        "     두 번째 dequeue: No Data\n"
      ]
    },
    {
      "cell_type": "code",
      "execution_count": 16,
      "metadata": {
        "id": "mpaR6v6WSW2X"
      },
      "outputs": [
        {
          "name": "stdout",
          "output_type": "stream",
          "text": [
            "첫 번째 dequeue: 10\n",
            "두 번째 dequeue: No Data\n"
          ]
        }
      ],
      "source": [
        "class Queue:\n",
        "    def __init__(self, capacity=8):\n",
        "        self.capacity = capacity         # 용량(고정)\n",
        "        self.array = [None] * capacity   # 요소들을 저장할 배열\n",
        "        self.front = -1                  # 전단의 인덱스 (초기값 -1)\n",
        "        self.rear = -1                   # 후단의 인덱스 (초기값 -1)\n",
        "\n",
        "    def isEmpty(self):\n",
        "        return self.front == -1\n",
        "\n",
        "    def isFull(self):\n",
        "        return self.rear == self.capacity - 1\n",
        "\n",
        "    def enqueue(self, item):\n",
        "        if not self.isFull():\n",
        "            if self.isEmpty():\n",
        "                self.front = 0\n",
        "            self.rear += 1\n",
        "            self.array[self.rear] = item\n",
        "\n",
        "    def dequeue(self, default_value=None):\n",
        "        if not self.isEmpty():\n",
        "            item = self.array[self.front]\n",
        "            self.array[self.front] = None\n",
        "            if self.front == self.rear:  # 큐가 비어 있는 상태로 전환\n",
        "                self.front = -1\n",
        "                self.rear = -1\n",
        "            else:\n",
        "                self.front += 1\n",
        "            return item\n",
        "        else:\n",
        "            return default_value  # 큐가 비어 있을 때 기본값 반환\n",
        "\n",
        "    def peek(self):\n",
        "        if not self.isEmpty():\n",
        "            return self.array[self.front]\n",
        "\n",
        "    def size(self):\n",
        "        if self.isEmpty():\n",
        "            return 0\n",
        "        return self.rear - self.front + 1\n",
        "\n",
        "    def __str__(self):\n",
        "        if self.isEmpty():\n",
        "            return \"[]\"\n",
        "        return str([x for x in self.array[self.front:self.rear + 1] if x is not None])\n",
        "\n",
        "\n",
        "# Queue 생성\n",
        "q = Queue(3)\n",
        "\n",
        "# 데이터 삽입\n",
        "q.enqueue(10)\n",
        "\n",
        "# 첫 번째 dequeue\n",
        "print(\"첫 번째 dequeue:\", q.dequeue())  # 10\n",
        "\n",
        "# 두 번째 dequeue (큐가 비어 있으므로 기본값 반환)\n",
        "print(\"두 번째 dequeue:\", q.dequeue(default_value=\"No Data\"))  # No Data"
      ]
    },
    {
      "cell_type": "markdown",
      "metadata": {
        "id": "5-QSszlefTKC"
      },
      "source": [
        "# CircularQueue"
      ]
    },
    {
      "cell_type": "code",
      "execution_count": 20,
      "metadata": {
        "id": "nFXq6CJEd0Fn"
      },
      "outputs": [],
      "source": [
        "# 코드 5.1: 배열로 구현된 원형 큐 클래스\n",
        "class CircularQueue :\n",
        "    def __init__( self, capacity = 8 ) :\n",
        "        self.capacity = capacity        # 용량(고정)\n",
        "        self.array = [None] * capacity  # 요소들을 저장할 배열\n",
        "        self.front = 0                  # 전단의 인덱스\n",
        "        self.rear = 0                   # 후단의 인덱스\n",
        "\n",
        "    def isEmpty( self ) :\n",
        "        return self.front == self.rear\n",
        "\n",
        "    def isFull( self ) :\n",
        "        return self.front == (self.rear+1)%self.capacity\n",
        "\n",
        "    def enqueue( self, item ):\n",
        "        if not self.isFull():\n",
        "            self.rear = (self.rear + 1) % self.capacity\n",
        "            self.array[self.rear] = item\n",
        "\n",
        "    def dequeue( self ):\n",
        "        if not self.isEmpty():\n",
        "            self.front = (self.front + 1) % self.capacity\n",
        "            return self.array[self.front]\n",
        "\n",
        "    def peek( self ):\n",
        "        if not self.isEmpty():\n",
        "            return self.array[(self.front + 1) % self.capacity]\n",
        "\n",
        "\n",
        "    # 코드 5.2: 큐의 전체 요소의 수 계산\n",
        "    def size( self ) :\n",
        "        return (self.rear - self.front + self.capacity) % self.capacity\n",
        "\n",
        "    # 코드 5.3: 문자열 변환을 위한 str 연산자 중복\n",
        "    def __str__(self):\n",
        "        if self.front < self.rear :\n",
        "            return str(self.array[self.front+1:self.rear+1])\n",
        "        else :\n",
        "            return str(self.array[self.front+1:self.capacity] + \\\n",
        "                        self.array[0:self.rear+1] )\n"
      ]
    },
    {
      "cell_type": "code",
      "execution_count": 21,
      "metadata": {
        "id": "dU22hf4Gd12O"
      },
      "outputs": [],
      "source": [
        "# 코드 5.4: 원형 큐: 테스트 프로그램\n",
        "if __name__ == \"__main__\":\n",
        "    q = CircularQueue(8)\n",
        "    q.enqueue('A')\n",
        "    q.enqueue('B')\n",
        "    q.enqueue('C')\n",
        "    q.enqueue('D')\n",
        "    q.enqueue('E')\n",
        "    q.enqueue('F')"
      ]
    },
    {
      "cell_type": "code",
      "execution_count": 22,
      "metadata": {
        "id": "PPyeiMLcNvKR"
      },
      "outputs": [
        {
          "name": "stdout",
          "output_type": "stream",
          "text": [
            "A B C D E F 삽입:  ['A', 'B', 'C', 'D', 'E', 'F']\n"
          ]
        }
      ],
      "source": [
        "print('A B C D E F 삽입: ', q)"
      ]
    },
    {
      "cell_type": "code",
      "execution_count": 23,
      "metadata": {
        "id": "LBbAM9vLN1fu"
      },
      "outputs": [
        {
          "name": "stdout",
          "output_type": "stream",
          "text": [
            "삭제 --> A\n",
            "삭제 --> B\n",
            "삭제 --> C\n",
            "      3번의 삭제:  ['D', 'E', 'F']\n",
            "      G H I 삽입:  ['D', 'E', 'F', 'G', 'H', 'I']\n"
          ]
        }
      ],
      "source": [
        "print('삭제 -->', q.dequeue())\n",
        "print('삭제 -->', q.dequeue())\n",
        "print('삭제 -->', q.dequeue())\n",
        "print('      3번의 삭제: ', q)\n",
        "q.enqueue('G')\n",
        "q.enqueue('H')\n",
        "q.enqueue('I')\n",
        "print('      G H I 삽입: ', q)"
      ]
    },
    {
      "cell_type": "markdown",
      "metadata": {
        "id": "6BoChupZQIk0"
      },
      "source": [
        "### 1. **원형 큐의 기본 동작**\n",
        "**문제:**  \n",
        "위 코드를 기반으로, `CircularQueue` 클래스를 사용해 다음과 같은 작업을 수행하는 프로그램을 작성하세요.  \n",
        "1. 큐의 용량을 5로 설정합니다.  \n",
        "2. `1, 2, 3`을 차례대로 `enqueue` 합니다.  \n",
        "3. 큐의 `peek` 값을 출력합니다.  \n",
        "4. 두 개의 요소를 `dequeue` 합니다.  \n",
        "5. 큐의 `size`를 출력합니다.  \n",
        "\n",
        "---"
      ]
    },
    {
      "cell_type": "code",
      "execution_count": 24,
      "metadata": {
        "id": "v7IenPbkgtFL"
      },
      "outputs": [
        {
          "name": "stdout",
          "output_type": "stream",
          "text": [
            "[1]\n",
            "[1, 2]\n",
            "[1, 2, 3]\n",
            "Peek 값: 1\n",
            "Dequeue 값: 1\n",
            "[2, 3]\n",
            "Dequeue 값: 2\n",
            "[3]\n",
            "현재 큐 크기: 1\n"
          ]
        }
      ],
      "source": [
        "q = CircularQueue(5)\n",
        "\n",
        "# 1, 2, 3 삽입\n",
        "q.enqueue(1)\n",
        "print(q)\n",
        "q.enqueue(2)\n",
        "print(q)\n",
        "q.enqueue(3)\n",
        "print(q)\n",
        "\n",
        "# 큐의 peek 값 출력\n",
        "print(\"Peek 값:\", q.peek())\n",
        "\n",
        "# 두 개의 요소 제거\n",
        "r = q.dequeue()\n",
        "print(\"Dequeue 값:\", r)\n",
        "print(q)\n",
        "r = q.dequeue()\n",
        "print(\"Dequeue 값:\", r)\n",
        "print(q)\n",
        "\n",
        "print(\"현재 큐 크기:\", q.size())"
      ]
    },
    {
      "cell_type": "markdown",
      "metadata": {
        "id": "fbMZ430UgtVk"
      },
      "source": [
        "### 2. **원형 큐의 상태 검사**\n",
        "**문제:**  \n",
        "주어진 `CircularQueue` 클래스를 사용해 큐가 `isFull` 상태인지, 또는 `isEmpty` 상태인지 검사하는 프로그램을 작성하세요.  \n",
        "- 용량 4의 큐를 생성합니다.  \n",
        "- `1, 2, 3`을 차례대로 `enqueue`한 후 `isFull`을 확인합니다.  \n",
        "- 두 개의 요소를 `dequeue`한 뒤, `isEmpty`를 확인합니다.  \n",
        "\n",
        "---\n"
      ]
    },
    {
      "cell_type": "code",
      "execution_count": 25,
      "metadata": {
        "id": "Yq4mF4C9gz4x"
      },
      "outputs": [
        {
          "name": "stdout",
          "output_type": "stream",
          "text": [
            "isFull 상태: True\n",
            "isEmpty 상태: False\n"
          ]
        }
      ],
      "source": [
        "q = CircularQueue(4)\n",
        "\n",
        "q.enqueue(1)\n",
        "q.enqueue(2)\n",
        "q.enqueue(3)\n",
        "\n",
        "print(\"isFull 상태:\", q.isFull())\n",
        "\n",
        "q.dequeue()\n",
        "q.dequeue()\n",
        "\n",
        "print(\"isEmpty 상태:\", q.isEmpty())"
      ]
    },
    {
      "cell_type": "markdown",
      "metadata": {
        "id": "f-bEsrukg0RY"
      },
      "source": [
        "\n",
        "### 3. **큐의 순환 인덱스 검증**\n",
        "**문제:**  \n",
        "`CircularQueue`에서 전단과 후단이 배열의 끝에서 다시 시작하는 상황을 확인하는 테스트를 작성하세요.  \n",
        "1. 큐의 용량을 4로 설정합니다.  \n",
        "2. `1, 2, 3`을 `enqueue`한 뒤, 두 개를 `dequeue` 합니다.  \n",
        "3. `4, 5`를 다시 `enqueue`합니다.  \n",
        "4. 큐의 `__str__` 메서드를 호출해 현재 상태를 출력하세요.  \n",
        "\n",
        "---\n"
      ]
    },
    {
      "cell_type": "code",
      "execution_count": 26,
      "metadata": {
        "id": "8x1xhfFig2LK"
      },
      "outputs": [
        {
          "name": "stdout",
          "output_type": "stream",
          "text": [
            "현재 큐 상태: [3, 4, 5]\n"
          ]
        }
      ],
      "source": [
        "q = CircularQueue(4)\n",
        "\n",
        "q.enqueue(1)\n",
        "q.enqueue(2)\n",
        "q.enqueue(3)\n",
        "\n",
        "q.dequeue()\n",
        "q.dequeue()\n",
        "\n",
        "q.enqueue(4)\n",
        "q.enqueue(5)\n",
        "\n",
        "print(\"현재 큐 상태:\", q)"
      ]
    },
    {
      "cell_type": "markdown",
      "metadata": {
        "id": "MU0Ig-ovg2hx"
      },
      "source": [
        "\n",
        "### 4. **큐에 사용자 입력 추가**\n",
        "**문제:**  \n",
        "사용자 입력을 받아 데이터를 큐에 추가하거나 제거하는 프로그램을 작성하세요.  \n",
        "- 큐의 용량은 6으로 설정합니다.  \n",
        "- 사용자가 `\"enqueue <value>\"`를 입력하면 해당 값을 큐에 추가합니다.  \n",
        "- 사용자가 `\"dequeue\"`를 입력하면 큐에서 데이터를 제거하고 출력합니다.  \n",
        "- 사용자가 `\"exit\"`를 입력하면 프로그램을 종료합니다.  \n",
        "- 잘못된 입력일 경우 오류 메시지를 출력하세요.  \n",
        "\n",
        "---\n",
        "\n"
      ]
    },
    {
      "cell_type": "code",
      "execution_count": 31,
      "metadata": {
        "id": "gkhfC4Kqg5yl"
      },
      "outputs": [
        {
          "name": "stdout",
          "output_type": "stream",
          "text": [
            "'10'가 큐에 추가되었습니다.\n",
            "현재 큐 상태: [10]\n",
            "'사과'가 큐에 추가되었습니다.\n",
            "현재 큐 상태: [10, 사과]\n",
            "'hello'가 큐에 추가되었습니다.\n",
            "현재 큐 상태: [10, 사과, hello]\n",
            "프로그램 종료.\n"
          ]
        }
      ],
      "source": [
        "# -------------------------------\n",
        "# CircularQueue 클래스 정의\n",
        "# -------------------------------\n",
        "class CircularQueue:\n",
        "    def __init__(self, capacity):\n",
        "        self.capacity = capacity            # 큐 용량\n",
        "        self.queue = [None] * capacity      # 고정 배열 생성\n",
        "        self.front = 0                      # 맨 앞 인덱스\n",
        "        self.rear = 0                       # 맨 뒤 인덱스\n",
        "        self.size = 0                       # 현재 큐 크기\n",
        "\n",
        "    def isFull(self):\n",
        "        return self.size == self.capacity   # 큐가 가득 찼는지\n",
        "\n",
        "    def isEmpty(self):\n",
        "        return self.size == 0               # 큐가 비었는지\n",
        "\n",
        "    def enqueue(self, value):\n",
        "        if self.isFull():\n",
        "            raise Exception(\"큐가 가득 찼습니다.\")\n",
        "        self.queue[self.rear] = value\n",
        "        self.rear = (self.rear + 1) % self.capacity\n",
        "        self.size += 1\n",
        "\n",
        "    def dequeue(self):\n",
        "        if self.isEmpty():\n",
        "            raise Exception(\"큐가 비어 있습니다.\")\n",
        "        value = self.queue[self.front]\n",
        "        self.queue[self.front] = None\n",
        "        self.front = (self.front + 1) % self.capacity\n",
        "        self.size -= 1\n",
        "        return value\n",
        "\n",
        "    def __str__(self):\n",
        "        if self.isEmpty():\n",
        "            return \"[]\"\n",
        "        items = []\n",
        "        i = self.front\n",
        "        for _ in range(self.size):\n",
        "            items.append(str(self.queue[i]))\n",
        "            i = (i + 1) % self.capacity\n",
        "        return \"[\" + \", \".join(items) + \"]\"\n",
        "\n",
        "\n",
        "# -------------------------------\n",
        "# 사용자 입력 처리\n",
        "# -------------------------------\n",
        "q = CircularQueue(6)  # 큐 용량 6\n",
        "\n",
        "while True:\n",
        "    command = input(\"명령을 입력하세요 (enqueue <value>, dequeue, exit): \").strip()\n",
        "\n",
        "    if command.startswith(\"enqueue\"):\n",
        "        parts = command.split(maxsplit=1)\n",
        "        if len(parts) < 2:\n",
        "            print(\"올바른 형식: enqueue <value>\")\n",
        "            continue\n",
        "        value = parts[1]\n",
        "        if not q.isFull():\n",
        "            q.enqueue(value)\n",
        "            print(f\"'{value}'가 큐에 추가되었습니다.\")\n",
        "        else:\n",
        "            print(\"큐가 가득 찼습니다.\")\n",
        "\n",
        "    elif command == \"dequeue\":\n",
        "        if not q.isEmpty():\n",
        "            removed = q.dequeue()\n",
        "            print(f\"'{removed}'가 제거되었습니다.\")\n",
        "        else:\n",
        "            print(\"큐가 비어 있습니다.\")\n",
        "\n",
        "    elif command == \"exit\":\n",
        "        print(\"프로그램 종료.\")\n",
        "        break\n",
        "\n",
        "    else:\n",
        "        print(\"잘못된 명령입니다.\")\n",
        "\n",
        "    # 현재 큐 상태 출력\n",
        "    print(\"현재 큐 상태:\", q)\n"
      ]
    },
    {
      "cell_type": "markdown",
      "metadata": {
        "id": "gxjF8eWOg57f"
      },
      "source": [
        "### 5. **원형 큐 확장**\n",
        "**문제:**  \n",
        "`CircularQueue` 클래스에 새로운 메서드 `extend(new_capacity)`를 추가하세요.  \n",
        "1. 이 메서드는 큐의 용량을 `new_capacity`로 확장해야 합니다.  \n",
        "2. 기존의 요소는 새로운 배열로 옮겨야 하며, 요소 순서는 유지되어야 합니다.  \n",
        "3. 새로운 메서드를 테스트하기 위해 다음 시나리오를 작성하세요:  \n",
        "   - 초기 용량 4의 큐에 `1, 2, 3`을 `enqueue`합니다.  \n",
        "   - 용량을 8로 확장한 뒤, `4, 5, 6`을 추가합니다.  \n",
        "   - 확장 후 큐의 모든 요소를 출력하세요.  "
      ]
    },
    {
      "cell_type": "code",
      "execution_count": 29,
      "metadata": {
        "id": "6g4HsxxDQaRD"
      },
      "outputs": [],
      "source": [
        "class CircularQueue:\n",
        "    def __init__(self, capacity=8):\n",
        "        self.capacity = capacity        # 용량(고정)\n",
        "        self.array = [None] * capacity  # 요소들을 저장할 배열\n",
        "        self.front = 0                  # 전단의 인덱스\n",
        "        self.rear = 0                   # 후단의 인덱스\n",
        "\n",
        "    def isEmpty(self):\n",
        "        return self.front == self.rear\n",
        "\n",
        "    def isFull(self):\n",
        "        return self.front == (self.rear + 1) % self.capacity\n",
        "\n",
        "    def enqueue(self, item):\n",
        "        if not self.isFull():\n",
        "            self.rear = (self.rear + 1) % self.capacity\n",
        "            self.array[self.rear] = item\n",
        "\n",
        "    def dequeue(self):\n",
        "        if not self.isEmpty():\n",
        "            self.front = (self.front + 1) % self.capacity\n",
        "            return self.array[self.front]\n",
        "\n",
        "    def peek(self):\n",
        "        if not self.isEmpty():\n",
        "            return self.array[(self.front + 1) % self.capacity]\n",
        "\n",
        "    def size(self):\n",
        "        return (self.rear - self.front + self.capacity) % self.capacity\n",
        "\n",
        "    def __str__(self):\n",
        "        if self.front < self.rear:\n",
        "            return str(self.array[self.front + 1:self.rear + 1])\n",
        "        else:\n",
        "            return str(self.array[self.front + 1:self.capacity] + self.array[0:self.rear + 1])\n",
        "\n",
        "    # 새로운 extend 메서드\n",
        "    def extend(self, new_capacity):\n",
        "        if new_capacity <= self.capacity:\n",
        "            print(\"새 용량은 현재 용량보다 커야 합니다.\")\n",
        "            return\n",
        "\n",
        "        new_array = [None] * new_capacity\n",
        "        size = self.size()\n",
        "\n",
        "        # 기존 요소를 새 배열에 복사\n",
        "        for i in range(size):\n",
        "            new_array[i] = self.array[(self.front + 1 + i) % self.capacity]\n",
        "\n",
        "        # 업데이트된 상태로 교체\n",
        "        self.array = new_array\n",
        "        self.capacity = new_capacity\n",
        "        self.front = 0\n",
        "        self.rear = size - 1"
      ]
    },
    {
      "cell_type": "code",
      "execution_count": 30,
      "metadata": {
        "id": "KFiaYF4FUpTU"
      },
      "outputs": [
        {
          "name": "stdout",
          "output_type": "stream",
          "text": [
            "초기 상태: [1, 2, 3]\n",
            "용량 확장 후 상태: [2, 3]\n",
            "4, 5, 6 추가 후 상태: [2, 3, 4, 5, 6]\n"
          ]
        }
      ],
      "source": [
        "q = CircularQueue(4)\n",
        "\n",
        "q.enqueue(1)\n",
        "q.enqueue(2)\n",
        "q.enqueue(3)\n",
        "print(\"초기 상태:\", q)\n",
        "\n",
        "q.extend(8)\n",
        "print(\"용량 확장 후 상태:\", q)\n",
        "\n",
        "q.enqueue(4)\n",
        "q.enqueue(5)\n",
        "q.enqueue(6)\n",
        "print(\"4, 5, 6 추가 후 상태:\", q)"
      ]
    },
    {
      "cell_type": "markdown",
      "metadata": {
        "id": "aYWQPn7DWaN5"
      },
      "source": [
        "# 원형큐를 활용, BFS 방식의 Maze 구현"
      ]
    },
    {
      "cell_type": "code",
      "execution_count": 37,
      "metadata": {
        "id": "ElBTBaiSWbQV"
      },
      "outputs": [],
      "source": [
        "# -------------------------------\n",
        "# CircularQueue 클래스 정의\n",
        "# -------------------------------\n",
        "class CircularQueue:\n",
        "    def __init__(self, capacity=100):\n",
        "        self.capacity = capacity\n",
        "        self.queue = [None] * capacity\n",
        "        self.front = 0\n",
        "        self.rear = 0\n",
        "        self.size = 0\n",
        "\n",
        "    def isFull(self):\n",
        "        return self.size == self.capacity\n",
        "\n",
        "    def isEmpty(self):\n",
        "        return self.size == 0\n",
        "\n",
        "    def enqueue(self, value):\n",
        "        if self.isFull():\n",
        "            raise Exception(\"큐가 가득 찼습니다.\")\n",
        "        self.queue[self.rear] = value\n",
        "        self.rear = (self.rear + 1) % self.capacity\n",
        "        self.size += 1\n",
        "\n",
        "    def dequeue(self):\n",
        "        if self.isEmpty():\n",
        "            raise Exception(\"큐가 비어 있습니다.\")\n",
        "        value = self.queue[self.front]\n",
        "        self.queue[self.front] = None\n",
        "        self.front = (self.front + 1) % self.capacity\n",
        "        self.size -= 1\n",
        "        return value\n",
        "\n",
        "    def __str__(self):\n",
        "        if self.isEmpty():\n",
        "            return \"[]\"\n",
        "        items = []\n",
        "        i = self.front\n",
        "        for _ in range(self.size):\n",
        "            items.append(str(self.queue[i]))\n",
        "            i = (i + 1) % self.capacity\n",
        "        return \"[\" + \", \".join(items) + \"]\"\n",
        "\n",
        "\n",
        "# -------------------------------\n",
        "# 미로 정의\n",
        "# -------------------------------\n",
        "MAZE_SIZE = 6\n",
        "maze_map = [\n",
        "    ['1', '1', '1', '1', '1', '1'],\n",
        "    ['e', '0', '1', '0', '0', '1'],\n",
        "    ['1', '0', '0', '0', '1', '1'],\n",
        "    ['1', '0', '1', '0', '1', '1'],\n",
        "    ['1', '0', '1', '0', '0', 'x'],\n",
        "    ['1', '1', '1', '1', '1', '1']\n",
        "]\n",
        "\n",
        "# -------------------------------\n",
        "# 이동 가능 여부 확인\n",
        "# -------------------------------\n",
        "def isValidPos(x, y):\n",
        "    if 0 <= x < MAZE_SIZE and 0 <= y < MAZE_SIZE:\n",
        "        if maze_map[y][x] == '0' or maze_map[y][x] == 'x':\n",
        "            return True\n",
        "    return False\n",
        "\n",
        "# -------------------------------\n",
        "# BFS 미로 탐색\n",
        "# -------------------------------\n",
        "def BFS():\n",
        "    que = CircularQueue()\n",
        "    \n",
        "    # 시작점 찾기\n",
        "    for y in range(MAZE_SIZE):\n",
        "        for x in range(MAZE_SIZE):\n",
        "            if maze_map[y][x] == 'e':\n",
        "                start = (x, y)\n",
        "                que.enqueue(start)\n",
        "                break\n",
        "\n",
        "    print('BFS: ', end='')\n",
        "\n",
        "    while not que.isEmpty():\n",
        "        here = que.dequeue()\n",
        "        x, y = here\n",
        "        print(here, end='->')\n",
        "\n",
        "        if maze_map[y][x] == 'x':\n",
        "            return True  # 출구 도착\n",
        "\n",
        "        # 방문 처리\n",
        "        if maze_map[y][x] != 'e':\n",
        "            maze_map[y][x] = '.'\n",
        "\n",
        "        # 상, 우, 하, 좌\n",
        "        directions = [ (0,-1), (1,0), (0,1), (-1,0) ]\n",
        "        for dx, dy in directions:\n",
        "            nx, ny = x + dx, y + dy\n",
        "            if isValidPos(nx, ny):\n",
        "                que.enqueue((nx, ny))\n",
        "\n",
        "        # 현재 큐 상태 출력\n",
        "        print(' 현재 큐:', que)\n",
        "\n",
        "    return False"
      ]
    },
    {
      "cell_type": "code",
      "execution_count": 38,
      "metadata": {},
      "outputs": [
        {
          "name": "stdout",
          "output_type": "stream",
          "text": [
            "BFS: (0, 1)-> 현재 큐: [(1, 1)]\n",
            "(1, 1)-> 현재 큐: [(1, 2)]\n",
            "(1, 2)-> 현재 큐: [(2, 2), (1, 3)]\n",
            "(2, 2)-> 현재 큐: [(1, 3), (3, 2)]\n",
            "(1, 3)-> 현재 큐: [(3, 2), (1, 4)]\n",
            "(3, 2)-> 현재 큐: [(1, 4), (3, 1), (3, 3)]\n",
            "(1, 4)-> 현재 큐: [(3, 1), (3, 3)]\n",
            "(3, 1)-> 현재 큐: [(3, 3), (4, 1)]\n",
            "(3, 3)-> 현재 큐: [(4, 1), (3, 4)]\n",
            "(4, 1)-> 현재 큐: [(3, 4)]\n",
            "(3, 4)-> 현재 큐: [(4, 4)]\n",
            "(4, 4)-> 현재 큐: [(5, 4)]\n",
            "(5, 4)-> --> 미로탐색 성공\n"
          ]
        }
      ],
      "source": [
        "result = BFS()\n",
        "if result:\n",
        "    print(' --> 미로탐색 성공')\n",
        "else:\n",
        "    print(' --> 미로탐색 실패')"
      ]
    },
    {
      "cell_type": "markdown",
      "metadata": {
        "id": "s7e1C3hSxDeG"
      },
      "source": [
        "### 문제 1: 새로운 미로 생성 및 탐색\n",
        "\n",
        "- **문제:** 사용자 정의 크기의 새로운 미로를 생성하고, BFS 또는 DFS 알고리즘을 사용하여 미로를 탐색하시오.\n",
        "\n",
        "#### **구현 조건:**\n",
        "1. **미로 생성:**\n",
        "   - 사용자로부터 미로의 크기 \\( N \\times M \\) (행, 열)을 입력받아 초기 미로를 생성합니다.\n",
        "   - 미로는 벽(`1`)과 길(`0`)로 이루어지며, 입구는 (0, 1), 출구는 (N-1, M-2)로 고정합니다.\n",
        "   - 미로의 나머지 부분은 랜덤으로 `1`(벽)과 `0`(길)을 채웁니다.\n",
        "   - 입구와 출구는 반드시 길(`0`)이어야 합니다.\n",
        "\n",
        "2. **미로 탐색:**\n",
        "   - 생성한 미로를 탐색하는 `BFS()` 또는 `DFS()` 함수를 작성합니다.\n",
        "   - 탐색 경로를 출력하며, 탐색한 경로는 `.`으로 표시합니다.\n",
        "   - 출구(`x`)를 찾으면 \"출구를 찾았습니다!\"를 출력합니다. 출구를 찾지 못하면 \"출구가 없습니다.\"를 출력합니다.\n",
        "\n",
        "3. **입력 예시:**\n",
        "   - 미로 크기: \\( 5 \\times 5 \\)\n",
        "\n",
        "#### **출력 예시:**\n",
        "- **미로 초기 상태:**\n",
        "  ```\n",
        "  map = [\n",
        "      ['1', '0', '1', '1', '1'],\n",
        "      ['1', '0', '0', '1', '1'],\n",
        "      ['1', '1', '0', '1', '1'],\n",
        "      ['1', '0', '0', '0', '1'],\n",
        "      ['1', '1', '1', '0', '0']\n",
        "  ]\n",
        "  ```\n",
        "\n",
        "- **탐색 경로 (BFS):**\n",
        "  ```\n",
        "  BFS: (0, 1)->(1, 1)->(2, 1)->(2, 2)->(3, 2)->(3, 3)->(4, 3)->(4, 4)\n",
        "  출구를 찾았습니다!\n",
        "  ```\n",
        "\n",
        "---\n",
        "\n",
        "#### **추가 조건 (도전 과제):**\n",
        "1. **미로 출력 함수 구현:**  \n",
        "   - 탐색 전후 미로의 상태를 `printMaze()` 함수로 출력합니다.  \n",
        "   - 예: 탐색 후 미로 상태:  \n",
        "     ```\n",
        "     1 . 1 1 1\n",
        "     1 . . 1 1\n",
        "     1 1 . 1 1\n",
        "     1 0 . . 1\n",
        "     1 1 1 . x\n",
        "     ```\n",
        "\n",
        "2. **벽 밀도 조절:**  \n",
        "   - 사용자로부터 벽(`1`)의 밀도(%)를 입력받아 랜덤 생성 시 적용합니다. 예: 30%의 확률로 벽 생성.\n",
        "\n",
        "이 문제는 미로를 직접 생성하고 탐색 알고리즘을 적용해 보며, 미로 생성의 알고리즘적 사고와 탐색 방법의 실전 적용을 연습할 수 있도록 설계되었습니다."
      ]
    },
    {
      "cell_type": "code",
      "execution_count": 39,
      "metadata": {
        "id": "Zqd4_GfqU-zQ"
      },
      "outputs": [
        {
          "name": "stdout",
          "output_type": "stream",
          "text": [
            "\n",
            "생성된 미로:\n",
            "0 0 1\n",
            "0 1 1\n",
            "0 x 1\n",
            "BFS:\n",
            "(0, 1)->(0, 0)->(0, 2)->(1, 0)->(1, 2)->\n",
            "출구를 찾았습니다!\n",
            "\n",
            "탐색 후 미로:\n",
            ". . 1\n",
            ". 1 1\n",
            ". x 1\n"
          ]
        }
      ],
      "source": [
        "import random\n",
        "\n",
        "class CircularQueue:\n",
        "    def __init__(self, capacity=8):\n",
        "        self.capacity = capacity\n",
        "        self.array = [None] * capacity\n",
        "        self.front = 0\n",
        "        self.rear = 0\n",
        "\n",
        "    def isEmpty(self):\n",
        "        return self.front == self.rear\n",
        "\n",
        "    def isFull(self):\n",
        "        return self.front == (self.rear + 1) % self.capacity\n",
        "\n",
        "    def enqueue(self, item):\n",
        "        if not self.isFull():\n",
        "            self.rear = (self.rear + 1) % self.capacity\n",
        "            self.array[self.rear] = item\n",
        "\n",
        "    def dequeue(self):\n",
        "        if not self.isEmpty():\n",
        "            self.front = (self.front + 1) % self.capacity\n",
        "            return self.array[self.front]\n",
        "\n",
        "    def __str__(self):\n",
        "        if self.front < self.rear:\n",
        "            return str(self.array[self.front + 1:self.rear + 1])\n",
        "        else:\n",
        "            return str(self.array[self.front + 1:self.capacity] + self.array[0:self.rear + 1])\n",
        "\n",
        "\n",
        "# 미로 출력 함수\n",
        "def printMaze(maze):\n",
        "    for row in maze:\n",
        "        print(\" \".join(row))\n",
        "\n",
        "\n",
        "# 미로 생성 함수\n",
        "def generateMaze(rows, cols, wall_density=30):\n",
        "    maze = [['1' if random.randint(1, 100) <= wall_density else '0' for _ in range(cols)] for _ in range(rows)]\n",
        "    maze[0][1] = '0'  # 입구\n",
        "    maze[rows - 1][cols - 2] = 'x'  # 출구\n",
        "    return maze\n",
        "\n",
        "\n",
        "# 갈 수 있는 위치인지 확인\n",
        "def isValidPos(x, y, maze, rows, cols):\n",
        "    return 0 <= x < cols and 0 <= y < rows and (maze[y][x] == '0' or maze[y][x] == 'x')\n",
        "\n",
        "\n",
        "# BFS 탐색\n",
        "def BFS(maze, rows, cols):\n",
        "    que = CircularQueue(rows * cols)\n",
        "    que.enqueue((0, 1))\n",
        "    print(\"BFS:\")\n",
        "\n",
        "    while not que.isEmpty():\n",
        "        here = que.dequeue()\n",
        "        print(here, end=\"->\")\n",
        "        x, y = here\n",
        "\n",
        "        if maze[y][x] == 'x':  # 출구를 찾으면 종료\n",
        "            print(\"\\n출구를 찾았습니다!\")\n",
        "            return True\n",
        "\n",
        "        # 방문한 경로 표시\n",
        "        maze[y][x] = '.'\n",
        "\n",
        "        # 상, 우, 하, 좌 탐색\n",
        "        if isValidPos(x, y - 1, maze, rows, cols): que.enqueue((x, y - 1))  # 상\n",
        "        if isValidPos(x + 1, y, maze, rows, cols): que.enqueue((x + 1, y))  # 우\n",
        "        if isValidPos(x, y + 1, maze, rows, cols): que.enqueue((x, y + 1))  # 하\n",
        "        if isValidPos(x - 1, y, maze, rows, cols): que.enqueue((x - 1, y))  # 좌\n",
        "\n",
        "    print(\"\\n출구가 없습니다.\")\n",
        "    return False\n",
        "\n",
        "\n",
        "# 테스트 실행\n",
        "if __name__ == \"__main__\":\n",
        "    # 사용자 입력\n",
        "    rows = int(input(\"행 수: \"))\n",
        "    cols = int(input(\"열 수: \"))\n",
        "    wall_density = int(input(\"벽 밀도(1-100): \"))\n",
        "\n",
        "    # 미로 생성\n",
        "    maze = generateMaze(rows, cols, wall_density)\n",
        "    print(\"\\n생성된 미로:\")\n",
        "    printMaze(maze)\n",
        "\n",
        "    # BFS 탐색\n",
        "    result = BFS(maze, rows, cols)\n",
        "\n",
        "    # 탐색 후 미로 출력\n",
        "    print(\"\\n탐색 후 미로:\")\n",
        "    printMaze(maze)"
      ]
    },
    {
      "cell_type": "markdown",
      "metadata": {
        "id": "Bco4wTUPuC8L"
      },
      "source": [
        "# 원형 덱의 구현"
      ]
    },
    {
      "cell_type": "code",
      "execution_count": 40,
      "metadata": {
        "id": "2FJ7_TQYhSiF"
      },
      "outputs": [],
      "source": [
        "class CircularDeque(CircularQueue) :\n",
        "    def __init__( self, capacity=10 ) :\n",
        "        super().__init__(capacity)\n",
        "\n",
        "    # 코드 2.4b: 원형 덱: 동작이 동일한 연산들\n",
        "    def addRear( self, item ):\n",
        "       self.enqueue(item )\n",
        "\n",
        "    def deleteFront( self ):\n",
        "       return self.dequeue()\n",
        "\n",
        "    def getFront( self ):\n",
        "       return self.peek()\n",
        "\n",
        "    # 새로 구현이 필요한 연산들\n",
        "    def addFront( self, item ):\n",
        "        if not self.isFull():\n",
        "            self.array[self.front] = item\n",
        "            self.front = (self.front - 1 + self.capacity) % self.capacity\n",
        "        else: pass\n",
        "\n",
        "    def deleteRear( self ):\n",
        "        if not self.isEmpty():\n",
        "            item = self.array[self.rear];\n",
        "            self.rear = (self.rear - 1 + self.capacity) % self.capacity\n",
        "            return item\n",
        "        else: pass\n",
        "\n",
        "    def getRear( self ):\n",
        "        if not self.isEmpty():\n",
        "            return self.array[self.rear]\n",
        "        else: pass"
      ]
    },
    {
      "cell_type": "code",
      "execution_count": 41,
      "metadata": {
        "id": "x9hqhGSfhUNi"
      },
      "outputs": [
        {
          "name": "stdout",
          "output_type": "stream",
          "text": [
            "홀수->전단, 짝수->후단: [7, 5, 3, 1, 0, 2, 4, 6, 8]\n",
            " 전단삭제x2 후단삭제x3: [3, 1, 0, 2]\n",
            "   전단삽입 9,10,...13: [13, 12, 11, 10, 9, 3, 1, 0, 2]\n"
          ]
        }
      ],
      "source": [
        "# 코드 5.9: 원형 덱: 테스트 프로그램\n",
        "if __name__ == \"__main__\":\n",
        "    dq = CircularDeque()\n",
        "\n",
        "    for i in range(9):\n",
        "        if i%2==0 : dq.addRear(i)\n",
        "        else : dq.addFront(i)\n",
        "    print(\"홀수->전단, 짝수->후단:\", dq)\n",
        "\n",
        "    for i in range(2): dq.deleteFront()\n",
        "    for i in range(3): dq.deleteRear()\n",
        "    print(\" 전단삭제x2 후단삭제x3:\", dq)\n",
        "\n",
        "    for i in range(9,14): dq.addFront(i)\n",
        "    print(\"   전단삽입 9,10,...13:\", dq)"
      ]
    },
    {
      "cell_type": "markdown",
      "metadata": {
        "id": "GZjpbzMzxk7y"
      },
      "source": [
        "### 문제 1. **펠린드롬 검사 (Palindrome Checker)**\n",
        "- **문제 설명:**\n",
        "  - 주어진 문자열이 앞뒤로 같은지 검사하시오.\n",
        "- **원형 덱 활용 이유:**\n",
        "  - 문자열을 덱에 삽입한 뒤, 양쪽 끝에서 문자를 하나씩 비교하면서 펠린드롬 여부를 검사합니다.\n",
        "  - 양방향 접근이 가능한 원형 덱은 이 문제를 직관적으로 해결합니다.\n"
      ]
    },
    {
      "cell_type": "code",
      "execution_count": 42,
      "metadata": {
        "id": "xwEgt_BZx0Nm"
      },
      "outputs": [],
      "source": [
        "class CircularQueue:\n",
        "    def __init__(self, capacity=8):\n",
        "        self.capacity = capacity\n",
        "        self.array = [None] * capacity\n",
        "        self.front = 0\n",
        "        self.rear = 0\n",
        "\n",
        "    def isEmpty(self):\n",
        "        return self.front == self.rear\n",
        "\n",
        "    def isFull(self):\n",
        "        return self.front == (self.rear + 1) % self.capacity\n",
        "\n",
        "    def enqueue(self, item):\n",
        "        if not self.isFull():\n",
        "            self.rear = (self.rear + 1) % self.capacity\n",
        "            self.array[self.rear] = item\n",
        "\n",
        "    def dequeue(self):\n",
        "        if not self.isEmpty():\n",
        "            self.front = (self.front + 1) % self.capacity\n",
        "            return self.array[self.front]\n",
        "\n",
        "    def peek(self):\n",
        "        if not self.isEmpty():\n",
        "            return self.array[(self.front + 1) % self.capacity]\n",
        "\n",
        "    def size(self):\n",
        "        return (self.rear - self.front + self.capacity) % self.capacity\n",
        "\n",
        "    def __str__(self):\n",
        "        if self.front < self.rear:\n",
        "            return str(self.array[self.front + 1:self.rear + 1])\n",
        "        else:\n",
        "            return str(self.array[self.front + 1:self.capacity] + self.array[0:self.rear + 1])\n",
        "\n",
        "\n",
        "class CircularDeque(CircularQueue):\n",
        "    def __init__(self, capacity=10):\n",
        "        super().__init__(capacity)\n",
        "\n",
        "    def addRear(self, item):\n",
        "        self.enqueue(item)\n",
        "\n",
        "    def deleteFront(self):\n",
        "        return self.dequeue()\n",
        "\n",
        "    def getFront(self):\n",
        "        return self.peek()\n",
        "\n",
        "    def addFront(self, item):\n",
        "        if not self.isFull():\n",
        "            self.front = (self.front - 1 + self.capacity) % self.capacity\n",
        "            self.array[self.front] = item\n",
        "\n",
        "    def deleteRear(self):\n",
        "        if not self.isEmpty():\n",
        "            item = self.array[self.rear]\n",
        "            self.rear = (self.rear - 1 + self.capacity) % self.capacity\n",
        "            return item\n",
        "\n",
        "    def getRear(self):\n",
        "        if not self.isEmpty():\n",
        "            return self.array[self.rear]"
      ]
    },
    {
      "cell_type": "code",
      "execution_count": 43,
      "metadata": {
        "id": "efvRKMLaXJ5G"
      },
      "outputs": [
        {
          "name": "stdout",
          "output_type": "stream",
          "text": [
            "펠린드롬 아님\n"
          ]
        }
      ],
      "source": [
        "# 펠린드롬 검사 함수\n",
        "def isPalindrome(string):\n",
        "    dq = CircularDeque(len(string) + 1)\n",
        "\n",
        "    # 문자열을 덱에 삽입\n",
        "    for char in string:\n",
        "        dq.addRear(char)\n",
        "\n",
        "    # 양쪽 끝에서 문자 비교\n",
        "    while dq.size() > 1:\n",
        "        if dq.deleteFront() != dq.deleteRear():\n",
        "            return False\n",
        "\n",
        "    return True\n",
        "\n",
        "if __name__ == \"__main__\":\n",
        "    test_str = input(\"문자열: \")\n",
        "    if isPalindrome(test_str):\n",
        "        print(\"펠린드롬\")\n",
        "    else:\n",
        "        print(\"펠린드롬 아님\")"
      ]
    },
    {
      "cell_type": "markdown",
      "metadata": {
        "id": "SCVPg7Qyxz3W"
      },
      "source": [
        "### 문제 2. **자연수 회전 문제**\n",
        "- **문제 설명:**\n",
        "  - 정수 배열에서 특정 길이만큼 오른쪽 또는 왼쪽으로 회전한 결과를 계산하시오.\n",
        "- **원형 덱 활용 이유:**\n",
        "  - 원형 덱을 사용하면 배열을 회전할 필요 없이 덱의 앞쪽 또는 뒤쪽에서 삽입과 삭제를 수행하여 \\( O(k) \\) 시간 복잡도로 문제를 해결할 수 있습니다.\n"
      ]
    },
    {
      "cell_type": "code",
      "execution_count": 44,
      "metadata": {
        "id": "fMOVhT7sXSnp"
      },
      "outputs": [],
      "source": [
        "class CircularDeque(CircularQueue):\n",
        "    def __init__(self, capacity=10):\n",
        "        super().__init__(capacity)\n",
        "\n",
        "    def addRear(self, item):\n",
        "        self.enqueue(item)\n",
        "\n",
        "    def deleteFront(self):\n",
        "        return self.dequeue()\n",
        "\n",
        "    def getFront(self):\n",
        "        return self.peek()\n",
        "\n",
        "    def addFront(self, item):\n",
        "        if not self.isFull():\n",
        "            self.front = (self.front - 1 + self.capacity) % self.capacity\n",
        "            self.array[self.front] = item\n",
        "\n",
        "    def deleteRear(self):\n",
        "        if not self.isEmpty():\n",
        "            item = self.array[self.rear]\n",
        "            self.rear = (self.rear - 1 + self.capacity) % self.capacity\n",
        "            return item\n",
        "\n",
        "    def getRear(self):\n",
        "        if not self.isEmpty():\n",
        "            return self.array[self.rear]\n",
        "\n",
        "\n",
        "def rotateArray(arr, k, direction=\"right\"):\n",
        "    n = len(arr)\n",
        "    dq = CircularDeque(n + 1)\n",
        "\n",
        "    for num in arr:\n",
        "        dq.addRear(num)\n",
        "\n",
        "    if direction == \"right\":\n",
        "        for _ in range(k):\n",
        "            dq.addFront(dq.deleteRear())\n",
        "    elif direction == \"left\":\n",
        "        for _ in range(k):\n",
        "            dq.addRear(dq.deleteFront())\n",
        "    else:\n",
        "        raise ValueError(\"Direction must be 'right' or 'left'\")\n",
        "\n",
        "    rotated = []\n",
        "    while not dq.isEmpty():\n",
        "        rotated.append(dq.deleteFront())\n",
        "\n",
        "    return rotated"
      ]
    },
    {
      "cell_type": "code",
      "execution_count": 45,
      "metadata": {
        "id": "yKU97F3IX05C"
      },
      "outputs": [
        {
          "name": "stdout",
          "output_type": "stream",
          "text": [
            "회전 결과: [4, 5, None, 1, 2]\n"
          ]
        }
      ],
      "source": [
        "if __name__ == \"__main__\":\n",
        "    arr = [1, 2, 3, 4, 5]\n",
        "    k = int(input(\"회전할 위치 (k): \"))\n",
        "    direction = input(\"회전 방향 (right/left): \").strip().lower()\n",
        "\n",
        "    result = rotateArray(arr, k, direction)\n",
        "    print(f\"회전 결과: {result}\")"
      ]
    },
    {
      "cell_type": "markdown",
      "metadata": {
        "id": "frD-bBxJWm0i"
      },
      "source": [
        "# 우선순위 큐 구현"
      ]
    },
    {
      "cell_type": "code",
      "execution_count": null,
      "metadata": {
        "id": "nMarCPD_Wm-G"
      },
      "outputs": [],
      "source": [
        "class PriorityQueue :\n",
        "    def __init__( self, capacity = 10 ) :\n",
        "        self.capacity = capacity        # 용량(고정)\n",
        "        self.array = [None] * capacity  # 요소들을 저장할 배열\n",
        "        self.size = 0                   # 후단의 인덱스\n",
        "\n",
        "    def isEmpty( self ) :\n",
        "        return self.size == 0\n",
        "\n",
        "    def isFull( self ) :\n",
        "        return self.size == self.capacity\n",
        "\n",
        "    def enqueue( self, e ):\n",
        "        if not self.isFull():\n",
        "            self.array[self.size] = e\n",
        "            self.size += 1\n",
        "\n",
        "    def findMaxIndex( self ):\n",
        "        if self.isEmpty(): return -1\n",
        "        highest = 0\n",
        "        for i in range(1, self.size) :\n",
        "            if self.array[i] > self.array[highest] :\n",
        "                highest = i\n",
        "        return highest\n",
        "\n",
        "    def dequeue( self ):\n",
        "        highest = self.findMaxIndex()\n",
        "        if highest != -1 :\n",
        "            self.size -= 1\n",
        "            self.array[highest], self.array[self.size] = self.array[self.size], self.array[highest]\n",
        "            return self.array[self.size]\n",
        "\n",
        "    def peek( self ):\n",
        "        highest = self.findMaxIndex()\n",
        "        if highest != -1 :\n",
        "            return self.array[height]\n",
        "\n",
        "    def __str__(self):\n",
        "        return str(self.array[0:self.size])\n"
      ]
    },
    {
      "cell_type": "code",
      "execution_count": 47,
      "metadata": {
        "id": "yp3ysjBkqhUp"
      },
      "outputs": [
        {
          "name": "stdout",
          "output_type": "stream",
          "text": [
            "PQueue: [34, 18, 27, 45, 15]\n",
            "Max Priority =  45\n",
            "Max Priority =  34\n",
            "Max Priority =  27\n",
            "Max Priority =  18\n",
            "Max Priority =  15\n"
          ]
        }
      ],
      "source": [
        "# 코드 5.10: 원형 덱: 테스트 프로그램\n",
        "if __name__ == \"__main__\":\n",
        "    q = PriorityQueue()\n",
        "    q.enqueue( 34 )\n",
        "    q.enqueue( 18 )\n",
        "    q.enqueue( 27 )\n",
        "    q.enqueue( 45 )\n",
        "    q.enqueue( 15 )\n",
        "\n",
        "    print(\"PQueue:\", q)\n",
        "    while not q.isEmpty() :\n",
        "        print(\"Max Priority = \", q.dequeue() )"
      ]
    },
    {
      "cell_type": "markdown",
      "metadata": {
        "id": "Z3DHGu87WyoA"
      },
      "source": [
        "# 우선순위 큐를 통한 Maze 구현"
      ]
    },
    {
      "cell_type": "code",
      "execution_count": 49,
      "metadata": {
        "id": "Pyq9nP23Wyt4"
      },
      "outputs": [
        {
          "name": "stdout",
          "output_type": "stream",
          "text": [
            "PQueue: \n",
            "(0, 1)->우선순위큐:  [(1, 1, -5.0)]\n",
            "(1, 1)->우선순위큐:  [(1, 2, -4.47213595499958)]\n",
            "(1, 2)->우선순위큐:  [(1, 3, -4.123105625617661), (2, 2, -3.605551275463989)]\n",
            "(2, 2)->우선순위큐:  [(1, 3, -4.123105625617661), (3, 2, -2.8284271247461903)]\n",
            "(3, 2)->우선순위큐:  [(1, 3, -4.123105625617661), (3, 1, -3.605551275463989), (3, 3, -2.23606797749979)]\n",
            "(3, 3)->우선순위큐:  [(1, 3, -4.123105625617661), (3, 1, -3.605551275463989), (3, 4, -2.0)]\n",
            "(3, 4)->우선순위큐:  [(1, 3, -4.123105625617661), (3, 1, -3.605551275463989), (4, 4, -1.0)]\n",
            "(4, 4)->우선순위큐:  [(1, 3, -4.123105625617661), (3, 1, -3.605551275463989), (5, 4, -0.0)]\n",
            "(5, 4)-> --> 미로탐색 성공\n"
          ]
        }
      ],
      "source": [
        "#from PriorityQueue import PriorityQueue\n",
        "\n",
        "def isValidPos(x, y) :\t\t# (x,y)가 갈 수 있는 방인지 검사하는 함수\n",
        "    if 0 <= x < MAZE_SIZE and 0 <= y < MAZE_SIZE :\n",
        "        if map[y][x] == '0' or map[y][x] == 'x':\n",
        "            return True\n",
        "    return False\n",
        "\n",
        "import math\n",
        "(ox,oy) = (5, 4)\n",
        "def dist(x,y) :\n",
        "    (dx, dy) = (ox-x, oy-y)\n",
        "    return -math.sqrt(dx*dx + dy*dy)\n",
        "\n",
        "# 코드 5.11: 전략적 미로 탐색 함수       참고파일: ch05/MazePQueue.py\n",
        "def MySmartSearch() :\n",
        "    q = PriorityQueue()\n",
        "    q.enqueue((0,1,dist(0,1)))\n",
        "    print('PQueue: ')\n",
        "\n",
        "    while not q.isEmpty():\n",
        "        here = q.dequeue()\n",
        "        print(here[0:2], end='->')\n",
        "        x,y,_ = here;\n",
        "        if (map[y][x] == 'x') : return True\n",
        "        else :\n",
        "            map[y][x] = '.'\n",
        "            if isValidPos(x, y - 1) : q.enqueue((x, y - 1, dist(x, y - 1)))\n",
        "            if isValidPos(x, y + 1) : q.enqueue((x, y + 1, dist(x, y + 1)))\n",
        "            if isValidPos(x - 1, y) : q.enqueue((x - 1, y, dist(x - 1, y)))\n",
        "            if isValidPos(x + 1, y) : q.enqueue((x + 1, y, dist(x + 1, y)))\n",
        "\n",
        "        print('우선순위큐: ', q)\n",
        "\n",
        "    return False\n",
        "\n",
        "\n",
        "map = [ [ '1', '1', '1', '1', '1', '1' ],\n",
        "\t    [ 'e', '0', '1', '0', '0', '1' ],\n",
        "\t    [ '1', '0', '0', '0', '1', '1' ],\n",
        "\t    [ '1', '0', '1', '0', '1', '1' ],\n",
        "\t    [ '1', '0', '1', '0', '0', 'x' ],\n",
        "\t    [ '1', '1', '1', '1', '1', '1' ]]\n",
        "MAZE_SIZE = 6\n",
        "\n",
        "result = MySmartSearch()\n",
        "if result : print(' --> 미로탐색 성공')\n",
        "else : print(' --> 미로탐색 실패')"
      ]
    },
    {
      "cell_type": "markdown",
      "metadata": {
        "id": "hWimfYoOhRMT"
      },
      "source": [
        "### 종합 문제: 요청 데이터 처리 시뮬레이션(반드시 해결해야 함...)\n",
        "\n",
        "---\n",
        "\n",
        "#### **문제 설명:**\n",
        "사용자 요청 데이터를 처리하는 프로그램을 작성하시오. 요청은 **스택**, **큐**, **우선순위 큐**를 사용하여 각각 처리됩니다. 각 요청은 다음 형식으로 입력됩니다:\n",
        "\n",
        "- `(요청ID, 요청우선순위, 처리시간)`\n",
        "  - **요청ID:** 요청을 구분하기 위한 문자열 (예: `R1`, `R2`, ...).\n",
        "  - **요청우선순위:** 숫자로 표현된 요청의 중요도 (작은 숫자가 높은 우선순위).\n",
        "  - **처리시간:** 요청을 처리하는 데 걸리는 시간(초 단위).\n",
        "\n",
        "---\n",
        "\n",
        "#### **구현 조건:**\n",
        "\n",
        "1. **입력 데이터:**\n",
        "   요청 데이터를 리스트로 제공하며, 각 요청은 `(ID, 우선순위, 처리시간)` 형식으로 구성됩니다. 예:\n",
        "   ```\n",
        "   요청 데이터 = [\n",
        "       ('R1', 3, 5),\n",
        "       ('R2', 1, 2),\n",
        "       ('R3', 2, 1),\n",
        "       ('R4', 1, 4)\n",
        "   ]\n",
        "   ```\n",
        "\n",
        "2. **처리 방식:**\n",
        "   - **스택:** 요청 데이터를 후입선출(LIFO) 방식으로 처리합니다.\n",
        "   - **큐:** 요청 데이터를 선입선출(FIFO) 방식으로 처리합니다.\n",
        "   - **우선순위 큐:** 요청 데이터를 우선순위(작은 숫자가 높은 우선순위)에 따라 처리합니다.\n",
        "\n",
        "3. **출력 형식:**  \n",
        "   각 요청이 처리되는 순서와 처리 시작 및 종료 시간을 출력합니다.\n",
        "\n",
        "---\n",
        "\n",
        "#### **출력 예시:**\n",
        "\n",
        "1. **스택 처리 결과:**  \n",
        "   ```\n",
        "   스택 처리 순서:\n",
        "   R4 처리 시작: 0초, 종료: 4초\n",
        "   R3 처리 시작: 4초, 종료: 5초\n",
        "   R2 처리 시작: 5초, 종료: 7초\n",
        "   R1 처리 시작: 7초, 종료: 12초\n",
        "   ```\n",
        "\n",
        "2. **큐 처리 결과:**  \n",
        "   ```\n",
        "   큐 처리 순서:\n",
        "   R1 처리 시작: 0초, 종료: 5초\n",
        "   R2 처리 시작: 5초, 종료: 7초\n",
        "   R3 처리 시작: 7초, 종료: 8초\n",
        "   R4 처리 시작: 8초, 종료: 12초\n",
        "   ```\n",
        "\n",
        "3. **우선순위 큐 처리 결과:**  \n",
        "   ```\n",
        "   우선순위 큐 처리 순서:\n",
        "   R2 처리 시작: 0초, 종료: 2초\n",
        "   R4 처리 시작: 2초, 종료: 6초\n",
        "   R3 처리 시작: 6초, 종료: 7초\n",
        "   R1 처리 시작: 7초, 종료: 12초\n",
        "   ```\n",
        "\n",
        "---\n",
        "\n",
        "#### **문제 해결 목표:**\n",
        "1. **자료구조 선택 이해:** 스택, 큐, 우선순위 큐의 데이터 처리 순서를 비교하고 각각의 특성을 이해합니다.\n",
        "2. **시뮬레이션 구현:** 각 자료구조의 처리 방식을 코드로 구현하며 실제 시뮬레이션을 수행합니다.\n",
        "3. **효율성 분석:** 각 처리 방식이 다양한 시나리오에서 어떻게 동작하는지 분석합니다.\n",
        "\n",
        "---\n",
        "\n",
        "#### **힌트:**  \n",
        "- **큐 및 우선순위 큐 구현:** 위에서 제공된 `CircularQueue` 및 우선순위 큐 기반 코드를 활용합니다.\n",
        "- **시간 계산:** 현재 시간 변수를 유지하며, 각 요청의 처리시간을 더해가며 종료 시간을 계산합니다."
      ]
    },
    {
      "cell_type": "code",
      "execution_count": 53,
      "metadata": {
        "id": "61idvxYVD8dV"
      },
      "outputs": [],
      "source": [
        "class PriorityQueue:\n",
        "    def __init__(self, capacity=10):\n",
        "        self.capacity = capacity\n",
        "        self.array = [None] * capacity\n",
        "        self.size = 0\n",
        "\n",
        "    def isEmpty(self):\n",
        "        return self.size == 0\n",
        "\n",
        "    def isFull(self):\n",
        "        return self.size == self.capacity\n",
        "\n",
        "    def enqueue(self, e):\n",
        "        if not self.isFull():\n",
        "            self.array[self.size] = e\n",
        "            self.size += 1\n",
        "\n",
        "    def findMaxIndex(self):\n",
        "        if self.isEmpty():\n",
        "            return -1\n",
        "        highest = 0\n",
        "        for i in range(1, self.size):\n",
        "            if self.array[i][1] < self.array[highest][1]:  # 우선순위 비교\n",
        "                highest = i\n",
        "        return highest\n",
        "\n",
        "    def dequeue(self):\n",
        "        highest = self.findMaxIndex()\n",
        "        if highest != -1:\n",
        "            self.size -= 1\n",
        "            self.array[highest], self.array[self.size] = self.array[self.size], self.array[highest]\n",
        "            return self.array[self.size]\n",
        "        return None  # 비어 있을 경우 명시적으로 None 반환\n",
        "\n",
        "    def __str__(self):\n",
        "        return str(self.array[:self.size])"
      ]
    },
    {
      "cell_type": "code",
      "execution_count": 54,
      "metadata": {
        "id": "WnkaqfU4Ygau"
      },
      "outputs": [],
      "source": [
        "def process_requests(data, mode):\n",
        "    print(f\"\\n{mode.capitalize()} 처리 순서:\")\n",
        "\n",
        "    # 선택\n",
        "    if mode == \"stack\":\n",
        "        container = []\n",
        "        for item in data:\n",
        "            container.append(item)\n",
        "\n",
        "    elif mode == \"queue\":\n",
        "        container = []\n",
        "        for item in data:\n",
        "            container.append(item)\n",
        "\n",
        "    elif mode == \"priority\":\n",
        "        container = PriorityQueue(len(data))\n",
        "        for item in data:\n",
        "            container.enqueue(item)\n",
        "    else:\n",
        "        raise ValueError(\"Invalid mode. Use 'stack', 'queue', or 'priority'.\")\n",
        "\n",
        "    current = 0\n",
        "    while container:\n",
        "        if mode == \"stack\":\n",
        "            request = container.pop()  # Stack: LIFO\n",
        "        elif mode == \"queue\":\n",
        "            request = container.pop(0)  # Queue: FIFO\n",
        "        elif mode == \"priority\":\n",
        "            request = container.dequeue()  # Priority Queue\n",
        "            if request is None:  # 큐가 비었으면 루프 종료\n",
        "                break\n",
        "        else:\n",
        "            break\n",
        "\n",
        "        request_id, priority, process = request\n",
        "        print(f\"{request_id} 처리 시작: {current}초, 종료: {current + process}초\")\n",
        "        current += process"
      ]
    },
    {
      "cell_type": "code",
      "execution_count": 55,
      "metadata": {
        "id": "SmOFKskbYi_o"
      },
      "outputs": [
        {
          "name": "stdout",
          "output_type": "stream",
          "text": [
            "\n",
            "Stack 처리 순서:\n",
            "R4 처리 시작: 0초, 종료: 4초\n",
            "R3 처리 시작: 4초, 종료: 5초\n",
            "R2 처리 시작: 5초, 종료: 7초\n",
            "R1 처리 시작: 7초, 종료: 12초\n",
            "\n",
            "Queue 처리 순서:\n",
            "R1 처리 시작: 0초, 종료: 5초\n",
            "R2 처리 시작: 5초, 종료: 7초\n",
            "R3 처리 시작: 7초, 종료: 8초\n",
            "R4 처리 시작: 8초, 종료: 12초\n",
            "\n",
            "Priority 처리 순서:\n",
            "R2 처리 시작: 0초, 종료: 2초\n",
            "R4 처리 시작: 2초, 종료: 6초\n",
            "R3 처리 시작: 6초, 종료: 7초\n",
            "R1 처리 시작: 7초, 종료: 12초\n"
          ]
        }
      ],
      "source": [
        "requests = [('R1', 3, 5), ('R2', 1, 2), ('R3', 2, 1), ('R4', 1, 4)]\n",
        "\n",
        "process_requests(requests, mode=\"stack\")\n",
        "process_requests(requests, mode=\"queue\")\n",
        "process_requests(requests, mode=\"priority\")"
      ]
    }
  ],
  "metadata": {
    "colab": {
      "private_outputs": true,
      "provenance": []
    },
    "kernelspec": {
      "display_name": "base",
      "language": "python",
      "name": "python3"
    },
    "language_info": {
      "codemirror_mode": {
        "name": "ipython",
        "version": 3
      },
      "file_extension": ".py",
      "mimetype": "text/x-python",
      "name": "python",
      "nbconvert_exporter": "python",
      "pygments_lexer": "ipython3",
      "version": "3.10.16"
    }
  },
  "nbformat": 4,
  "nbformat_minor": 0
}
