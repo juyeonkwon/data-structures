{
  "cells": [
    {
      "cell_type": "markdown",
      "metadata": {
        "id": "P663LhE-59Ug"
      },
      "source": [
        "# Linked List 구현"
      ]
    },
    {
      "cell_type": "markdown",
      "metadata": {
        "id": "Pahq3Dzj6GPz"
      },
      "source": [
        "## 노드 구현"
      ]
    },
    {
      "cell_type": "code",
      "execution_count": 1,
      "metadata": {
        "id": "Ckk_ExO_5jdm"
      },
      "outputs": [],
      "source": [
        "# Node 구현\n",
        "class Node:\n",
        "    def __init__ (self, elem, next=None):\n",
        "        self.data = elem\n",
        "        self.link = next"
      ]
    },
    {
      "cell_type": "code",
      "execution_count": 2,
      "metadata": {
        "id": "AZzbJ_uHWBgE"
      },
      "outputs": [
        {
          "name": "stdout",
          "output_type": "stream",
          "text": [
            "1\n",
            "10\n",
            "20\n",
            "30\n",
            "1\n",
            "10\n",
            "20\n"
          ]
        }
      ],
      "source": [
        "head = Node(1,Node(10,Node(20,Node(30))))\n",
        "print(head.data)\n",
        "print(head.link.data)\n",
        "print(head.link.link.data)\n",
        "print(head.link.link.link.data)\n",
        "\n",
        "cur = head\n",
        "while cur.link :\n",
        "    print(cur.data)\n",
        "    cur= cur.link"
      ]
    },
    {
      "cell_type": "markdown",
      "metadata": {
        "id": "DYIWJ7w954Qk"
      },
      "source": [
        "### 코드 설명\n",
        "\n",
        "위의 코드는 **단일 연결 리스트(Singly Linked List)** 의 기본 구성 요소인 **노드(Node)** 를 정의한 클래스입니다.\n",
        "\n",
        "#### **구성 요소:**\n",
        "1. **`data`**: 노드가 저장할 실제 데이터.\n",
        "   - 생성자에서 `elem`으로 초기화됩니다.\n",
        "   - 예: 정수, 문자열, 객체 등 다양한 값을 저장할 수 있습니다.\n",
        "\n",
        "2. **`link`**: 다음 노드에 대한 참조를 저장.\n",
        "   - `next`라는 매개변수로 초기화되며, 기본값은 `None`입니다.\n",
        "   - 노드가 다른 노드와 연결되도록 도와주는 역할을 합니다.\n",
        "\n",
        "#### **특징:**\n",
        "- 이 클래스는 연결 리스트의 각 노드를 정의하며, 여러 개의 `Node` 객체를 연결하여 연결 리스트를 구성할 수 있습니다.\n",
        "- 단일 연결 리스트는 한 방향으로만 탐색할 수 있습니다.\n",
        "\n",
        "---\n"
      ]
    },
    {
      "cell_type": "markdown",
      "metadata": {
        "id": "SlcYG_AR6esM"
      },
      "source": [
        "\n",
        "### 활용 예시 1. **단일 연결 리스트 생성**\n",
        "   - 여러 개의 노드를 연결하여 단일 연결 리스트를 생성하고 출력합니다.\n",
        "\n"
      ]
    },
    {
      "cell_type": "code",
      "execution_count": 3,
      "metadata": {
        "id": "NwbzkzLZ6rjY"
      },
      "outputs": [],
      "source": [
        "# Node 클래스 정의\n",
        "class Node:\n",
        "    def __init__(self, elem, next=None):\n",
        "        self.data = elem\n",
        "        self.link = next"
      ]
    },
    {
      "cell_type": "code",
      "execution_count": 4,
      "metadata": {
        "id": "iKFSIOjSt4_K"
      },
      "outputs": [
        {
          "name": "stdout",
          "output_type": "stream",
          "text": [
            "1 -> 10 -> 20 -> 30 -> 40\n"
          ]
        }
      ],
      "source": [
        "head = Node(1)  # 첫 번째 노드\n",
        "cur = head\n",
        "for value in [10, 20, 30, 40]:  # 추가할 값들\n",
        "    cur.link = Node(value)\n",
        "    cur = cur.link\n",
        "\n",
        "cur = head\n",
        "while cur:\n",
        "    print(cur.data, end=\" -> \" if cur.link else \"\\n\")\n",
        "    cur = cur.link"
      ]
    },
    {
      "cell_type": "markdown",
      "metadata": {
        "id": "tFE3aJ8v6kYf"
      },
      "source": [
        "### 활용 예시 2. **노드 삽입 함수 구현**\n",
        "   - 주어진 연결 리스트의 특정 위치에 새로운 노드를 삽입합니다."
      ]
    },
    {
      "cell_type": "code",
      "execution_count": 5,
      "metadata": {
        "id": "ZY0E3zjV66G3"
      },
      "outputs": [],
      "source": [
        "def insert_node(head, index, value):\n",
        "    if index == 0:\n",
        "        return Node(value, head)\n",
        "\n",
        "    cur = head\n",
        "    count = 0\n",
        "    while cur and count < index - 1:\n",
        "        cur = cur.link\n",
        "        count += 1\n",
        "\n",
        "    if cur is None:\n",
        "        raise IndexError(\"Index out of bounds\")\n",
        "\n",
        "    new_node = Node(value, cur.link)\n",
        "    cur.link = new_node\n",
        "    return head"
      ]
    },
    {
      "cell_type": "code",
      "execution_count": 6,
      "metadata": {
        "id": "bV5Br_bGvzTH"
      },
      "outputs": [
        {
          "name": "stdout",
          "output_type": "stream",
          "text": [
            "10 -> 15 -> 20 -> 30 -> None\n"
          ]
        }
      ],
      "source": [
        "# 연결 리스트에 노드 삽입\n",
        "head = Node(10, Node(20, Node(30)))\n",
        "head = insert_node(head, 1, 15)  # 1번 위치에 15 삽입\n",
        "\n",
        "# 출력\n",
        "current = head\n",
        "while current:\n",
        "    print(current.data, end=\" -> \")\n",
        "    current = current.link\n",
        "print(\"None\")"
      ]
    },
    {
      "cell_type": "markdown",
      "metadata": {
        "id": "fQ5RnSSY6oOY"
      },
      "source": [
        "### 활용 예시 3. **노드 삭제 함수 구현**\n",
        "   - 특정 데이터를 가진 노드를 삭제합니다.\n",
        "\n"
      ]
    },
    {
      "cell_type": "code",
      "execution_count": 7,
      "metadata": {
        "id": "UCw4tk-Y6fJA"
      },
      "outputs": [],
      "source": [
        "def delete_node(head, value):\n",
        "    if not head:\n",
        "        return None\n",
        "\n",
        "    if head.data == value:\n",
        "        return head.link\n",
        "\n",
        "    cur = head\n",
        "    while cur.link:\n",
        "        if cur.link.data == value:\n",
        "            cur.link = cur.link.link\n",
        "            return head\n",
        "        cur = cur.link\n",
        "\n",
        "    return head"
      ]
    },
    {
      "cell_type": "code",
      "execution_count": 8,
      "metadata": {
        "id": "xHGRdGU67GKv"
      },
      "outputs": [
        {
          "name": "stdout",
          "output_type": "stream",
          "text": [
            "10 -> 30 -> 40 -> None\n"
          ]
        }
      ],
      "source": [
        "# 연결 리스트에서 노드 삭제\n",
        "head = Node(10, Node(20, Node(30, Node(40))))\n",
        "head = delete_node(head, 20)  # 값 20을 가진 노드 삭제\n",
        "\n",
        "# 출력\n",
        "current = head\n",
        "while current:\n",
        "    print(current.data, end=\" -> \")\n",
        "    current = current.link\n",
        "print(\"None\")"
      ]
    },
    {
      "cell_type": "markdown",
      "metadata": {
        "id": "c_F5rlJlSzyI"
      },
      "source": [
        "### 활용 예시 4. **스택에 노드 추가 함수 구현**\n",
        "   - 스택에 노드를 추가하는 함수를 구현"
      ]
    },
    {
      "cell_type": "code",
      "execution_count": 9,
      "metadata": {
        "id": "Gnb9FK1xTClP"
      },
      "outputs": [
        {
          "name": "stdout",
          "output_type": "stream",
          "text": [
            "40->30->20->10->None\n"
          ]
        }
      ],
      "source": [
        "# 스택 Push 함수\n",
        "def push(top, value):\n",
        "    return Node(value, top)\n",
        "\n",
        "# 스택에 노드 추가\n",
        "top = None  # 초기 스택은 비어 있음\n",
        "top = push(top, 10)\n",
        "top = push(top, 20)\n",
        "top = push(top, 30)\n",
        "top = push(top, 40)\n",
        "\n",
        "# 출력\n",
        "cur = top\n",
        "while cur:\n",
        "    print(cur.data, end=\"->\")\n",
        "    cur = cur.link\n",
        "print(\"None\")"
      ]
    },
    {
      "cell_type": "markdown",
      "metadata": {
        "id": "LRgslyNoUUdo"
      },
      "source": [
        "활용 예시 5. 스택의 pop 함수 구현"
      ]
    },
    {
      "cell_type": "code",
      "execution_count": 10,
      "metadata": {
        "id": "BZs8SNXojeru"
      },
      "outputs": [
        {
          "name": "stdout",
          "output_type": "stream",
          "text": [
            "Popped: 40\n",
            "30->20->10->None\n",
            "Remaining count: 3\n"
          ]
        }
      ],
      "source": [
        "def pop(top):\n",
        "    if not top:\n",
        "        return None, None\n",
        "    value = top.data\n",
        "    top = top.link\n",
        "    return value, top\n",
        "\n",
        "# 스택 생성\n",
        "top = Node(40, Node(30, Node(20, Node(10))))\n",
        "\n",
        "# Pop 연산\n",
        "print(\"Popped:\", top.data)\n",
        "top = top.link\n",
        "\n",
        "# 나머지 스택 출력\n",
        "cur = top\n",
        "count = 0\n",
        "while cur:\n",
        "    count += 1\n",
        "    print(cur.data, end=\"->\")\n",
        "    cur = cur.link\n",
        "print(\"None\")\n",
        "print(\"Remaining count:\", count)"
      ]
    },
    {
      "cell_type": "markdown",
      "metadata": {
        "id": "tMFDU2R7-vy1"
      },
      "source": [
        "# Linked Stack의 구현"
      ]
    },
    {
      "cell_type": "code",
      "execution_count": 11,
      "metadata": {
        "id": "SeoEIiWQ-yp4"
      },
      "outputs": [],
      "source": [
        "# 코드 6.1: 단순연결노드 클래스\n",
        "class Node:\n",
        "    def __init__ (self, elem, link=None):\n",
        "        self.data = elem\n",
        "        self.link = link\n",
        "\n",
        "# 코드 6.2: 연결된 스택 클래스\n",
        "class LinkedStack :\n",
        "    def __init__( self ):\n",
        "        self.top = None\n",
        "\n",
        "    def isEmpty( self ):\n",
        "        return self.top == None\n",
        "\n",
        "    def push( self, item ):\n",
        "        self.top = Node(item, self.top)\n",
        "\n",
        "    def peek( self ):\n",
        "        if not self.isEmpty():\n",
        "            return self.top.data\n",
        "\n",
        "    def pop( self ):\n",
        "        if not self.isEmpty():\n",
        "            data = self.top.data\n",
        "            self.top = self.top.link\n",
        "            return data\n",
        "\n",
        "    # 코드 6.3: 연결된 스택의 전체 요소의 수 계산\n",
        "    def size( self ):\n",
        "        node = self.top\n",
        "        count = 0\n",
        "        while not node == None :\n",
        "            node = node.link\n",
        "            count += 1\n",
        "\n",
        "    # 코드 6.4: 문자열 변환을 위한 str 연산자 중복\n",
        "    def __str__(self):\n",
        "        arr = []\n",
        "        node = self.top\n",
        "        while not node == None :\n",
        "            arr.append(node.data)\n",
        "            node = node.link\n",
        "        return str(arr)"
      ]
    },
    {
      "cell_type": "code",
      "execution_count": 12,
      "metadata": {
        "id": "W5nLpwNL-zma"
      },
      "outputs": [
        {
          "name": "stdout",
          "output_type": "stream",
          "text": [
            "스택:  []\n",
            "스택:  ['i', 'h']\n",
            "문자열 출력: ih\n",
            "스택:  []\n"
          ]
        }
      ],
      "source": [
        "if __name__ == \"__main__\":\n",
        "    s = LinkedStack()             # 스택 객체를 생성\n",
        "\n",
        "    print(\"스택: \", s)\n",
        "    msg = input(\"문자열 입력: \")    # 문자열을 입력받음\n",
        "    for c in msg :                  # 문자열의 각 문자 c에 대해\n",
        "        s.push(c)                   # c를 스택에 삽입\n",
        "\n",
        "    print(\"스택: \", s)\n",
        "\n",
        "    print(\"문자열 출력: \", end='')\n",
        "    while not s.isEmpty():          # 스택이 공백상태가 아니라면\n",
        "        print(s.pop(), end='')      # 하나의 요소를 꺼내서 출력\n",
        "    print()\n",
        "    print(\"스택: \", s)"
      ]
    },
    {
      "cell_type": "markdown",
      "metadata": {
        "id": "TGdQ1hqB7GjW"
      },
      "source": [
        "# Linked List 구현"
      ]
    },
    {
      "cell_type": "code",
      "execution_count": 13,
      "metadata": {
        "id": "MzmALdmTnRcx"
      },
      "outputs": [
        {
          "name": "stdout",
          "output_type": "stream",
          "text": [
            "1\n",
            "10\n",
            "20\n",
            "30\n",
            "1->10->20->30->40->"
          ]
        }
      ],
      "source": [
        "# Node 구현\n",
        "class Node:\n",
        "    def __init__ (self, elem, next=None):\n",
        "        self.data = elem\n",
        "        self.link = next\n",
        "\n",
        "head = Node(1,Node(10,Node(20,Node(30))))\n",
        "print(head.data)\n",
        "print(head.link.data)\n",
        "print(head.link.link.data)\n",
        "print(head.link.link.link.data)\n",
        "# print(head.link.link.link.link.data)\n",
        "\n",
        "# 맨 끝까지 가서, 마지막 노드를 cur가 가리키게 만드는 ..\n",
        "cur = head\n",
        "while cur.link :  # cur.link 가 None 이 아닌동한 실행\n",
        "    print(cur.data, end=\"->\")\n",
        "    cur= cur.link\n",
        "\n",
        "cur.link = Node(40,None) # 데이터 삽입\n",
        "# 전체 노드를 프린트\n",
        "while cur :\n",
        "    print(cur.data, end=\"->\")\n",
        "    cur= cur.link"
      ]
    },
    {
      "cell_type": "code",
      "execution_count": 14,
      "metadata": {
        "id": "M6DbM9YyBaag"
      },
      "outputs": [
        {
          "name": "stdout",
          "output_type": "stream",
          "text": [
            "Original list:\n",
            "1->10->20->30->40->None\n",
            "Node at position 2: 10\n",
            "\n",
            "Inserting 15 at position 2:\n",
            "1->10->15->20->30->40->None\n",
            "\n",
            "Deleting node at position 3:\n",
            "1->10->15->30->40->None\n"
          ]
        }
      ],
      "source": [
        "# Node 구현\n",
        "class Node:\n",
        "    def __init__ (self, elem, next=None):\n",
        "        self.data = elem\n",
        "        self.link = next\n",
        "\n",
        "# 특정 위치의 노드를 찾는 함수\n",
        "def find_node(head, position):\n",
        "    cur = head\n",
        "    index = 1\n",
        "    while cur:\n",
        "        if index == position:\n",
        "            return cur\n",
        "        cur = cur.link\n",
        "        index += 1\n",
        "    return None  # 위치가 범위를 벗어나면 None 반환\n",
        "\n",
        "\n",
        "# 특정 위치에 노드를 삽입하는 함수\n",
        "def insert_node(head, position, elem):\n",
        "    if position == 0:  # 맨 앞에 삽입\n",
        "        new_node = Node(elem, head)\n",
        "        return new_node\n",
        "\n",
        "    cur = head\n",
        "    index = 0\n",
        "    while cur:\n",
        "        if index == position - 1:  # 삽입 위치의 이전 노드를 찾음\n",
        "            new_node = Node(elem, cur.link)\n",
        "            cur.link = new_node\n",
        "            return head\n",
        "        cur = cur.link\n",
        "        index += 1\n",
        "\n",
        "    print(\"Invalid position!\")  # 위치가 범위를 벗어났을 때\n",
        "    return head\n",
        "\n",
        "# 특정 위치의 노드를 삭제하는 함수\n",
        "def delete_node(head, position):\n",
        "    if position == 0:  # 맨 앞 노드 삭제\n",
        "        if head:\n",
        "            return head.link\n",
        "        else:\n",
        "            return None  # 빈 리스트\n",
        "\n",
        "    cur = head\n",
        "    index = 0\n",
        "    while cur.link:\n",
        "        if index == position - 1:  # 삭제 위치의 이전 노드를 찾음\n",
        "            cur.link = cur.link.link\n",
        "            return head\n",
        "        cur = cur.link\n",
        "        index += 1\n",
        "\n",
        "    print(\"Invalid position!\")  # 위치가 범위를 벗어났을 때\n",
        "    return head\n",
        "\n",
        "# 리스트 초기화\n",
        "head = Node(1, Node(10, Node(20, Node(30,Node(40)))))\n",
        "\n",
        "# 전체 리스트 출력 함수\n",
        "def print_list(head):\n",
        "    cur = head\n",
        "    while cur:\n",
        "        print(cur.data, end=\"->\")\n",
        "        cur = cur.link\n",
        "    print(\"None\")\n",
        "\n",
        "# 리스트 출력\n",
        "print(\"Original list:\")\n",
        "print_list(head)\n",
        "\n",
        "# 특정 위치의 노드 찾기\n",
        "pos = 2\n",
        "found_node = find_node(head, pos)\n",
        "if found_node:\n",
        "    print(f\"Node at position {pos}: {found_node.data}\")\n",
        "else:\n",
        "    print(f\"No node found at position {pos}\")\n",
        "\n",
        "# 노드 삽입\n",
        "print(\"\\nInserting 15 at position 2:\")\n",
        "head = insert_node(head, 2, 15)\n",
        "print_list(head)\n",
        "\n",
        "# 노드 삭제\n",
        "print(\"\\nDeleting node at position 3:\")\n",
        "head = delete_node(head, 3)\n",
        "print_list(head)\n"
      ]
    },
    {
      "cell_type": "markdown",
      "metadata": {
        "id": "v4KsvM7J0otl"
      },
      "source": [
        "### 원형 linked list"
      ]
    },
    {
      "cell_type": "code",
      "execution_count": 15,
      "metadata": {
        "id": "K4jd3z-RZ3Zq"
      },
      "outputs": [
        {
          "name": "stdout",
          "output_type": "stream",
          "text": [
            "4\n",
            "5\n",
            "10\n",
            "20\n",
            "40\n",
            "4\n",
            "5\n"
          ]
        }
      ],
      "source": [
        "# Node 구현\n",
        "class Node:\n",
        "    def __init__ (self, elem, next=None):\n",
        "        self.data = elem\n",
        "        self.link = next\n",
        "\n",
        "head = Node(1,None)\n",
        "tail = head\n",
        "tail.link = tail\n",
        "\n",
        "tail.link = Node(10, tail.link)\n",
        "tail = tail.link\n",
        "\n",
        "tail.link = Node(20,tail.link)\n",
        "tail = tail.link\n",
        "\n",
        "# head = head.link\n",
        "# tail.link = head\n",
        "tail.link = tail.link.link\n",
        "head = tail.link\n",
        "\n",
        "tail.link = Node(30,tail.link)\n",
        "tail = tail.link\n",
        "\n",
        "tail.link = Node(40,tail.link)\n",
        "tail = tail.link\n",
        "\n",
        "head = Node(5,tail.link)\n",
        "tail.link = head\n",
        "\n",
        "head = Node(4, tail.link)\n",
        "tail.link = head\n",
        "\n",
        "print(head.data)\n",
        "print(head.link.data)\n",
        "print(head.link.link.data)\n",
        "print(head.link.link.link.data)\n",
        "print(head.link.link.link.link.link.data)\n",
        "print(head.link.link.link.link.link.link.data)\n",
        "print(head.link.link.link.link.link.link.link.data)"
      ]
    },
    {
      "cell_type": "markdown",
      "metadata": {
        "id": "R5eoUBcc0xfi"
      },
      "source": [
        "### 원형 linked deque"
      ]
    },
    {
      "cell_type": "code",
      "execution_count": 16,
      "metadata": {
        "id": "2LAfokoQXRs6"
      },
      "outputs": [
        {
          "name": "stdout",
          "output_type": "stream",
          "text": [
            "returned, 1\n",
            "10\n",
            "20\n",
            "30\n",
            "40\n",
            "10\n",
            "20\n",
            "30\n"
          ]
        }
      ],
      "source": [
        "class Node:\n",
        "    def __init__(self, elem, next=None):\n",
        "        self.data = elem\n",
        "        self.link = next\n",
        "\n",
        "\n",
        "class CirlularLinkedDeque:\n",
        "    def __init__(self):\n",
        "        self.head = None\n",
        "        self.tail = None\n",
        "\n",
        "    def add_q(self, item):\n",
        "        if self.head is None and self.tail is None:\n",
        "            self.head = Node(item, None)\n",
        "            self.tail = self.head\n",
        "            self.tail.link = self.tail\n",
        "        else:\n",
        "            self.tail.link = Node(item, self.tail.link)\n",
        "            self.tail = self.tail.link\n",
        "\n",
        "    def delete_q(self):\n",
        "        if self.head is None and self.tail is None:\n",
        "            return None\n",
        "        else:\n",
        "            data = self.head.data\n",
        "            self.tail.link = self.tail.link.link\n",
        "            self.head = self.tail.link\n",
        "            return data\n",
        "\n",
        "    def add_front(self, item):\n",
        "        if self.head is None and self.tail is None:\n",
        "            self.head = Node(item, None)\n",
        "            self.tail = self.head\n",
        "            self.tail.link = self.tail\n",
        "        else:\n",
        "            new_node = Node(item, self.head)\n",
        "            self.head = new_node\n",
        "            self.tail.link = self.head\n",
        "\n",
        "    def delete_tail(self):\n",
        "        if self.head is None and self.tail is None:\n",
        "            return None\n",
        "        elif self.head == self.tail:\n",
        "            data = self.tail.data\n",
        "            self.head = self.tail = None\n",
        "            return data\n",
        "        else:\n",
        "            cur = self.head\n",
        "            while cur.link != self.tail:\n",
        "                cur = cur.link\n",
        "            data = self.tail.data\n",
        "            cur.link = self.head\n",
        "            self.tail = cur\n",
        "            return data\n",
        "\n",
        "\n",
        "\n",
        "cdq = CirlularLinkedDeque()\n",
        "cdq.add_q(1)\n",
        "cdq.add_q(10)\n",
        "cdq.add_q(20)\n",
        "cdq.add_q(30)\n",
        "cdq.add_q(40)\n",
        "r = cdq.delete_q()\n",
        "print(\"returned,\",  r)\n",
        "\n",
        "print(cdq.head.data)\n",
        "print(cdq.head.link.data)\n",
        "print(cdq.head.link.link.data)\n",
        "print(cdq.head.link.link.link.data)\n",
        "print(cdq.head.link.link.link.link.data)\n",
        "print(cdq.head.link.link.link.link.link.data)\n",
        "print(cdq.head.link.link.link.link.link.link.data)"
      ]
    },
    {
      "cell_type": "markdown",
      "metadata": {
        "id": "qQ6AcRNo6MST"
      },
      "source": [
        "### circular linked list"
      ]
    },
    {
      "cell_type": "code",
      "execution_count": 17,
      "metadata": {
        "id": "tcclDflvcQjR"
      },
      "outputs": [
        {
          "name": "stdout",
          "output_type": "stream",
          "text": [
            "1->10->20->30->40->\n",
            "5\n"
          ]
        }
      ],
      "source": [
        "# Node 구현\n",
        "class Node:\n",
        "    def __init__ (self, elem, next=None):\n",
        "        self.data = elem\n",
        "        self.link = next\n",
        "\n",
        "head = tail = Node(1,None)\n",
        "tail.link = head\n",
        "\n",
        "node = Node(10, tail.link)\n",
        "tail.link = node\n",
        "tail = node\n",
        "\n",
        "tail.link = Node(20, tail.link)\n",
        "tail = tail.link\n",
        "\n",
        "tail.link = Node(30, tail.link)\n",
        "tail = tail.link\n",
        "\n",
        "tail.link = Node(40, tail.link)\n",
        "tail = tail.link\n",
        "\n",
        "cur=head\n",
        "count = 0\n",
        "while True:\n",
        "    count = count + 1\n",
        "    print(cur.data, end=\"->\")\n",
        "    cur = cur.link\n",
        "    if cur == head :\n",
        "        break\n",
        "print(\"\")\n",
        "print(count)"
      ]
    },
    {
      "cell_type": "markdown",
      "metadata": {
        "id": "rvHcDUWD6Hjl"
      },
      "source": [
        "### singly linked list"
      ]
    },
    {
      "cell_type": "code",
      "execution_count": 18,
      "metadata": {
        "id": "Y6mHLVZOd4Mn"
      },
      "outputs": [
        {
          "name": "stdout",
          "output_type": "stream",
          "text": [
            "1->10->20->30->40->\n",
            "1\n",
            "10->20->30->40->"
          ]
        }
      ],
      "source": [
        "# Node 구현\n",
        "class Node:\n",
        "    def __init__ (self, elem, next=None):\n",
        "        self.data = elem\n",
        "        self.link = next\n",
        "\n",
        "front = tail = Node(1,None)\n",
        "tail.link = Node(10,None)\n",
        "tail = tail.link\n",
        "tail.link = Node(20,None)\n",
        "tail = tail.link\n",
        "tail.link = Node(30,None)\n",
        "tail = tail.link\n",
        "tail.link = Node(40,None)\n",
        "tail = tail.link\n",
        "\n",
        "cur = front\n",
        "while cur:\n",
        "    print(cur.data, end=\"->\")\n",
        "    cur = cur.link\n",
        "print(\"\")\n",
        "print(front.data)\n",
        "front = front.link\n",
        "\n",
        "cur = front\n",
        "while cur:\n",
        "    print(cur.data, end=\"->\")\n",
        "    cur = cur.link\n"
      ]
    },
    {
      "cell_type": "markdown",
      "metadata": {
        "id": "_crC6gGT6o3X"
      },
      "source": [
        "### Singly Linked List"
      ]
    },
    {
      "cell_type": "code",
      "execution_count": 19,
      "metadata": {
        "id": "nFSb_qpq54hA"
      },
      "outputs": [],
      "source": [
        "# 코드 6.5: 연결리스트 클래스\n",
        "class LinkedList:\n",
        "    # 리스트의 데이터: 생성자에서 정의 및 초기화\n",
        "    def __init__( self ):\n",
        "        self.head = None\n",
        "\n",
        "    # 리스트의 연산: 클래스의 메소드\n",
        "    def isEmpty( self ): return self.head == None\n",
        "    def isFull( self ): return False\n",
        "\n",
        "    def getNode(self, pos) :\n",
        "        if pos < 0 : return None\n",
        "        node = self.head;\n",
        "        while pos > 0 and node != None :\n",
        "            node = node.link\n",
        "            pos -= 1\n",
        "        return node\n",
        "\n",
        "    def getEntry(self, pos) :\n",
        "        node = self.getNode(pos)\n",
        "        if node == None : return None\n",
        "        else : return node.data\n",
        "\n",
        "    def insert(self, pos, elem) :\n",
        "        before = self.getNode(pos-1)\n",
        "        if before == None :         # 맨 앞에 삽입함\n",
        "            self.head = Node(elem, self.head)\n",
        "        else :\n",
        "            node = Node(elem, before.link)\n",
        "            before.link = node\n",
        "\n",
        "    def delete(self, pos) :\n",
        "        before = self.getNode(pos-1)\n",
        "        if before == None :         # 맨 앞 노드를 삭제\n",
        "            if self.head is not None :\n",
        "                self.head = self.head.link\n",
        "        elif before.link != None :\n",
        "            before.link = before.link.link\n",
        "\n",
        "    # 추가 연산들\n",
        "    def size( self ) :\n",
        "        node = self.head;\n",
        "        count = 0;\n",
        "        while node is not None :\n",
        "            node = node.link\n",
        "            count += 1\n",
        "        return count\n",
        "\n",
        "    def __str__( self ) :\n",
        "        arr = []\n",
        "        node = self.head\n",
        "        while node is not None :\n",
        "            arr.append(node.data)\n",
        "            node = node.link\n",
        "        return str(arr)\n",
        "\n",
        "\n",
        "    def replace(self, pos, elem) :\n",
        "        node = self.getNode(pos)\n",
        "        if node != None : node.data = elem\n",
        "\n",
        "    def find(self, val) :\n",
        "        node = self.head;\n",
        "        while node is not None:\n",
        "            if node.data == val : return node\n",
        "            node = node.link\n",
        "        return node\n",
        "\n"
      ]
    },
    {
      "cell_type": "code",
      "execution_count": 20,
      "metadata": {
        "id": "kodq9o-F55vh"
      },
      "outputs": [
        {
          "name": "stdout",
          "output_type": "stream",
          "text": [
            "최초    []\n",
            "삽입x5  [20, 30, 50, 10, 40]\n",
            "삭제(2) [20, 30, 10, 40]\n",
            "삭제(3) [20, 30, 10]\n",
            "삭제(0) [30, 10]\n"
          ]
        }
      ],
      "source": [
        "if __name__ == \"__main__\":\n",
        "    L = LinkedList()\n",
        "\n",
        "    print(\"최초   \", L)\n",
        "    L.insert(0, 10)\n",
        "    L.insert(0, 20)\n",
        "    L.insert(1, 30)\n",
        "    L.insert(3, 40)\n",
        "    L.insert(2, 50)\n",
        "    print(\"삽입x5 \", L)\n",
        "    L.delete(2)\n",
        "    print(\"삭제(2)\", L)\n",
        "    L.delete(3)\n",
        "    print(\"삭제(3)\", L)\n",
        "    L.delete(0)\n",
        "    print(\"삭제(0)\", L)"
      ]
    },
    {
      "cell_type": "markdown",
      "metadata": {
        "id": "XmBG1uRa_KJj"
      },
      "source": [
        "# Double Linked Dequeue"
      ]
    },
    {
      "cell_type": "code",
      "execution_count": 21,
      "metadata": {
        "id": "s5ldunVB_NbB"
      },
      "outputs": [],
      "source": [
        "\n",
        "# 코드 6.9: 이중연결구조의 노드 클래스\n",
        "class DNode:\n",
        "    def __init__ (self, elem, prev, next):\n",
        "        self.data = elem\n",
        "        self.prev = prev\n",
        "        self.next = next\n",
        "\n",
        "\n",
        "\n",
        "# 코드 6.10: 이중연결구조로 구현한 덱\n",
        "class DoublyLinkedDeque:\n",
        "    def __init__( self ):\n",
        "        self.front = None\n",
        "        self.rear = None\n",
        "\n",
        "    def isEmpty( self ): return self.front == None\n",
        "    def isFull( self ): return False\n",
        "\n",
        "    def addFront( self, item ):\n",
        "        node = DNode(item, None, self.front)\n",
        "        if( self.isEmpty()):\n",
        "            self.front = self.rear = node\n",
        "        else :\n",
        "            self.front.prev = node\n",
        "            self.front = node\n",
        "\n",
        "    def addRear( self, item ):\n",
        "        node = DNode(item, self.rear, None)\n",
        "        if( self.isEmpty()):\n",
        "            self.front = self.rear = node\n",
        "        else :\n",
        "            self.rear.next = node\n",
        "            self.rear = node\n",
        "\n",
        "    def deleteFront( self ):\n",
        "        if not self.isEmpty():\n",
        "            data = self.front.data\n",
        "            self.front = self.front.next\n",
        "            if self.front==None :\n",
        "                self.rear = None\n",
        "            else:\n",
        "                self.front.prev = None\n",
        "            return data\n",
        "\n",
        "    def deleteRear( self ):\n",
        "        if not self.isEmpty():\n",
        "            data = self.rear.data\n",
        "            self.rear = self.rear.prev\n",
        "            if self.rear==None :\n",
        "                self.front = None\n",
        "            else:\n",
        "                self.rear.next = None\n",
        "            return data\n",
        "\n",
        "    def __str__( self ) :\n",
        "        arr = []\n",
        "        node = self.front\n",
        "        while not node == None :\n",
        "            arr.append(node.data)\n",
        "            node = node.next\n",
        "        return str(arr)\n"
      ]
    },
    {
      "cell_type": "code",
      "execution_count": 22,
      "metadata": {
        "id": "ko_DMwOF_OXE"
      },
      "outputs": [
        {
          "name": "stdout",
          "output_type": "stream",
          "text": [
            "홀수->전단, 짝수->후단: [7, 5, 3, 1, 0, 2, 4, 6, 8]\n",
            " 전단삭제x2 후단삭제x3: [3, 1, 0, 2]\n",
            "   전단삽입 9,10,...13: [13, 12, 11, 10, 9, 3, 1, 0, 2]\n"
          ]
        }
      ],
      "source": [
        "if __name__ == \"__main__\":\n",
        "    dq = DoublyLinkedDeque()\n",
        "\n",
        "    for i in range(9):\n",
        "        if i%2==0 : dq.addRear(i)\n",
        "        else : dq.addFront(i)\n",
        "    print(\"홀수->전단, 짝수->후단:\", dq)\n",
        "\n",
        "    for i in range(2): dq.deleteFront()\n",
        "    for i in range(3): dq.deleteRear()\n",
        "    print(\" 전단삭제x2 후단삭제x3:\", dq)\n",
        "\n",
        "    for i in range(9,14): dq.addFront(i)\n",
        "    print(\"   전단삽입 9,10,...13:\", dq)"
      ]
    }
  ],
  "metadata": {
    "colab": {
      "private_outputs": true,
      "provenance": []
    },
    "kernelspec": {
      "display_name": "base",
      "language": "python",
      "name": "python3"
    },
    "language_info": {
      "codemirror_mode": {
        "name": "ipython",
        "version": 3
      },
      "file_extension": ".py",
      "mimetype": "text/x-python",
      "name": "python",
      "nbconvert_exporter": "python",
      "pygments_lexer": "ipython3",
      "version": "3.10.16"
    }
  },
  "nbformat": 4,
  "nbformat_minor": 0
}
