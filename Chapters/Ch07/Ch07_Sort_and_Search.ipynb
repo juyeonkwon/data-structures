{
  "cells": [
    {
      "cell_type": "markdown",
      "metadata": {
        "id": "v_k9__iN_IXt"
      },
      "source": [
        "# 선택정렬:\n",
        "두개의 리트를 만들고, 하나의 리스트에서 가장 큰 값을 골라서 다른 리스트로 옮긴다."
      ]
    },
    {
      "cell_type": "code",
      "execution_count": 1,
      "metadata": {
        "id": "Rln-2jED_Ojg"
      },
      "outputs": [],
      "source": [
        "l1=l2=[]"
      ]
    },
    {
      "cell_type": "code",
      "execution_count": 2,
      "metadata": {
        "id": "2_lqFS3F_SyZ"
      },
      "outputs": [],
      "source": [
        "l1=[4,5,2,1,3]"
      ]
    },
    {
      "cell_type": "code",
      "execution_count": 3,
      "metadata": {
        "id": "KTratU9P_Z9w"
      },
      "outputs": [
        {
          "name": "stdout",
          "output_type": "stream",
          "text": [
            "[]\n"
          ]
        }
      ],
      "source": [
        "print(l2)"
      ]
    },
    {
      "cell_type": "code",
      "execution_count": 4,
      "metadata": {
        "id": "w4w9WCXV_bJJ"
      },
      "outputs": [
        {
          "name": "stdout",
          "output_type": "stream",
          "text": [
            "(3, 1)\n"
          ]
        }
      ],
      "source": [
        "def miniv(l):\n",
        "    mini= 0\n",
        "    minv = l[mini]\n",
        "    for i in range(len(l)):\n",
        "        if minv > l[i]:\n",
        "            minv = l[i]\n",
        "            mini = i\n",
        "    return mini, minv\n",
        "\n",
        "print(miniv(l1))"
      ]
    },
    {
      "cell_type": "code",
      "execution_count": 5,
      "metadata": {
        "id": "vW2ft2hBAKWa"
      },
      "outputs": [],
      "source": [
        "while len(l1) > 0:\n",
        "    mini, minv = miniv(l1)\n",
        "    l2.append(minv)\n",
        "    l1.pop(mini)"
      ]
    },
    {
      "cell_type": "code",
      "execution_count": 6,
      "metadata": {
        "id": "fZVyTTZpAnBe"
      },
      "outputs": [
        {
          "name": "stdout",
          "output_type": "stream",
          "text": [
            "[1, 2, 3, 4, 5]\n"
          ]
        }
      ],
      "source": [
        "print(l2)"
      ]
    },
    {
      "cell_type": "markdown",
      "metadata": {
        "id": "s94qYHp-GMZV"
      },
      "source": [
        "# 삽입 정렬(insertion sort)"
      ]
    },
    {
      "cell_type": "code",
      "execution_count": 7,
      "metadata": {
        "id": "YbSPpn1DGNT0"
      },
      "outputs": [],
      "source": [
        "l=[4,5,2,1,3]"
      ]
    },
    {
      "cell_type": "code",
      "execution_count": 8,
      "metadata": {
        "id": "3Qe5_ArDGRcx"
      },
      "outputs": [
        {
          "name": "stdout",
          "output_type": "stream",
          "text": [
            "[2, 4, 5, 1, 3]\n",
            "[1, 2, 4, 5, 3]\n",
            "[1, 2, 3, 4, 5]\n"
          ]
        }
      ],
      "source": [
        "l=[4,5,2,1,3]\n",
        "for i in range(1, len(l)):\n",
        "    for j in range(i, 0, -1):\n",
        "        key = l[j]\n",
        "        if l[j-1] > key:\n",
        "            while j > 0 and l[j-1] > key:\n",
        "                l[j] = l[j-1]\n",
        "                j -= 1\n",
        "            l[j] = key\n",
        "            print(l)"
      ]
    },
    {
      "cell_type": "code",
      "execution_count": 9,
      "metadata": {
        "id": "i66LeZCoImsE"
      },
      "outputs": [
        {
          "name": "stdout",
          "output_type": "stream",
          "text": [
            "[4, 5, 2, 1, 3]\n",
            "[2, 4, 5, 1, 3]\n",
            "[1, 2, 4, 5, 3]\n",
            "[1, 2, 3, 4, 5]\n",
            "Result:  [1, 2, 3, 4, 5]\n"
          ]
        }
      ],
      "source": [
        "l=[4,5,2,1,3]\n",
        "\n",
        "def insertion_sort(l):\n",
        "    for i in range(1, len(l)):\n",
        "        key = l[i]\n",
        "        j = i-1\n",
        "        while j >= 0 and l[j] > key:\n",
        "            l[j+1] = l[j]\n",
        "            j -= 1\n",
        "        l[j+1] = key\n",
        "        print(l)\n",
        "    return l\n",
        "\n",
        "print(\"Result: \",insertion_sort(l))"
      ]
    },
    {
      "cell_type": "markdown",
      "metadata": {
        "id": "7fqh3ZtdMPcs"
      },
      "source": [
        "# 버블정렬"
      ]
    },
    {
      "cell_type": "code",
      "execution_count": 10,
      "metadata": {
        "id": "201KiMQlMR1l"
      },
      "outputs": [],
      "source": [
        "l=[4,5,2,1,3]"
      ]
    },
    {
      "cell_type": "code",
      "execution_count": 11,
      "metadata": {
        "id": "5FnBJLRuMdV_"
      },
      "outputs": [
        {
          "name": "stdout",
          "output_type": "stream",
          "text": [
            "[4, 2, 1, 3, 5]\n",
            "[2, 1, 3, 4, 5]\n",
            "[1, 2, 3, 4, 5]\n",
            "[1, 2, 3, 4, 5]\n"
          ]
        }
      ],
      "source": [
        "n = len(l)\n",
        "\n",
        "for i in range(n-1):\n",
        "    for j in range(n-1-i):\n",
        "        if l[j] > l[j+1]:\n",
        "            l[j], l[j+1] = l[j+1], l[j]\n",
        "    print(l)"
      ]
    },
    {
      "cell_type": "code",
      "execution_count": 12,
      "metadata": {
        "id": "PYjTmd3QNXeu"
      },
      "outputs": [
        {
          "name": "stdout",
          "output_type": "stream",
          "text": [
            "[1, 2, 3, 4, 5]\n",
            "[1, 2, 3, 4, 5]\n",
            "[1, 2, 3, 4, 5]\n",
            "[1, 2, 3, 4, 5]\n"
          ]
        }
      ],
      "source": [
        "def bubble(l):\n",
        "    n = len(l)\n",
        "for i in range(n-1):\n",
        "    for j in range(n-1-i):\n",
        "        if l[j] > l[j+1]:\n",
        "            l[j], l[j+1] = l[j+1], l[j]\n",
        "    print(l)\n",
        "\n",
        "bubble(l)"
      ]
    },
    {
      "cell_type": "markdown",
      "metadata": {
        "id": "z2TAuL2JOaYR"
      },
      "source": [
        "# 퀵 정렬\n"
      ]
    },
    {
      "cell_type": "code",
      "execution_count": 13,
      "metadata": {
        "id": "0sBvj9WhOvjP"
      },
      "outputs": [],
      "source": [
        "l=[4,5,2,1,3]\n",
        "l2=[5,1,4,6,9,12,3,7]\n",
        "l3= [3, 8, 6, 7, 5, 2, 4]"
      ]
    },
    {
      "cell_type": "code",
      "execution_count": 14,
      "metadata": {
        "id": "OPC_2DYXOx_m"
      },
      "outputs": [
        {
          "data": {
            "text/plain": [
              "[1, 3, 4, 5, 6, 7, 9, 12]"
            ]
          },
          "execution_count": 14,
          "metadata": {},
          "output_type": "execute_result"
        }
      ],
      "source": [
        "def partition(l, low, high):\n",
        "    pivot = l[high]\n",
        "    i = low - 1\n",
        "    for j in range(low, high):\n",
        "        if l[j] <= pivot:\n",
        "            i += 1\n",
        "            l[i], l[j] = l[j], l[i]\n",
        "            print(l)\n",
        "    l[i+1], l[high] = l[high], l[i+1]\n",
        "    print(l)\n",
        "    return i+1\n",
        "\n",
        "def partition2(l, low, high):\n",
        "    pivoti = high\n",
        "    pivotv = l[high]\n",
        "    for j in range(high-1, low-1,-1):\n",
        "        if l[j] <= pivotv:\n",
        "            continue\n",
        "        else:\n",
        "            k = j\n",
        "            gtv = l[j]\n",
        "            while(k < pivoti):\n",
        "                l[k] = l[k+1]\n",
        "                k += 1\n",
        "        l[pivoti] = gtv\n",
        "        pivoti -= 1\n",
        "#    print(\"printing in partition\",l)\n",
        "    return pivoti\n",
        "\n",
        "def quick_sort(l, low, high, llevel, rlevel):\n",
        "#    print(\"level: \", llevel, rlevel, l, \"low\", low, \"high\", high)\n",
        "    if low < high:\n",
        "        pivot = partition2(l, low, high)\n",
        "#        print(\"pivot\", pivot)\n",
        "        quick_sort(l, low, pivot-1, llevel-1, rlevel)\n",
        "        quick_sort(l, pivot+1, high, llevel, rlevel-1)\n",
        "#    print(\"SortOut\")\n",
        "    return l\n",
        "\n",
        "quick_sort(l2, 0, len(l2)-1,0,0)"
      ]
    },
    {
      "cell_type": "markdown",
      "metadata": {
        "id": "ckKD2hff8jSz"
      },
      "source": [
        "# 정렬을 활용한 집합 연산"
      ]
    },
    {
      "cell_type": "code",
      "execution_count": 15,
      "metadata": {
        "id": "kgydDMXz8rCP"
      },
      "outputs": [],
      "source": [
        "class SortedArraySet:\n",
        "    def __init__( self, capacity=100 ):\n",
        "        self.capacity = capacity\n",
        "        self.array = [None]*capacity\n",
        "        self.size = 0\n",
        "\n",
        "    def isEmpty( self ):\n",
        "        return self.size == 0\n",
        "\n",
        "    def isFull( self ):\n",
        "        return self.size == self.capacity\n",
        "\n",
        "    def __str__( self ) :\n",
        "        return str(self.array[0:self.size])\n",
        "\n",
        "    # 이진탐색 사용 가능 ***\n",
        "    def contains(self, e) :\n",
        "        for i in range(self.size) :\n",
        "            if self.array[i] == e :\n",
        "                return True\n",
        "        return False\n",
        "\n",
        "    def append(self, e) :\n",
        "        self.array[self.size] = e\n",
        "        self.size += 1\n",
        "\n",
        "\n",
        "    # 코드 7.4: 정렬된 배열을 이용한 집합의 insert 연산\n",
        "    # 요소들이 정렬된 상태를 유지해야 함\n",
        "    def insert(self, e) :   # O(n) -> O(n)\n",
        "        if self.contains(e) or self.isFull() :\n",
        "            return\n",
        "\n",
        "        self.array[self.size] = e\n",
        "        self.size += 1\n",
        "\n",
        "        for i in range(self.size-1, 0, -1) :\n",
        "            if self.array[i-1] <= self.array[i] : break\n",
        "            self.array[i-1], self.array[i] = self.array[i], self.array[i-1]\n",
        "\n",
        "    def delete(self, e) :   # O(n) -> O(n)\n",
        "        if not self.contains(e) :\n",
        "            return\n",
        "\n",
        "        i = 0\n",
        "        while self.array[i] < e : i += 1\n",
        "\n",
        "        self.size -= 1\n",
        "        while i < self.size :\n",
        "            self.array[i] < self.array[i+1]\n",
        "            i += 1\n",
        "\n",
        "    # 코드 7.5: 정렬되지 않은 배열을 이용한 집합의 == 연산\n",
        "    def __eq__( self, setB ): # O(mn) ---> O(n+m)\n",
        "        if self.size != setB.size :\n",
        "            return False\n",
        "\n",
        "        for i in range(self.size) :\n",
        "            if self.array[i] != setB.array[i] :\n",
        "                return False\n",
        "        return True\n",
        "\n",
        "    # 코드 7.6: 정렬된 배열을 이용한 집합의 union 연산\n",
        "    def union( self, setB ):  # O(mn) -> O(n+m)\n",
        "        setC = SortedArraySet()\n",
        "        i = 0\n",
        "        j = 0\n",
        "        while i < self.size and j < setB.size :\n",
        "            a = self.array[i]\n",
        "            b = setB.array[j]\n",
        "            if a == b:\n",
        "                setC.append(a)\n",
        "                i += 1\n",
        "                j += 1\n",
        "            elif a < b:\n",
        "                setC.append(a)\n",
        "                i += 1\n",
        "            else :\n",
        "                setC.append(b)\n",
        "                j += 1\n",
        "\n",
        "        while i < self.size :\n",
        "            setC.append(self.array[i])\n",
        "            i += 1\n",
        "        while j < setB.size :\n",
        "            setC.append(setB.array[j])\n",
        "            j += 1\n",
        "\n",
        "        return setC\n",
        "\n",
        "    # 도전 코딩!\n",
        "    def intersect( self, setB ):  # O(mn) -> O(n+m)\n",
        "        setC = SortedArraySet()\n",
        "        i = 0\n",
        "        j = 0\n",
        "        while i < self.size and j < setB.size :\n",
        "            a = self.array[i]\n",
        "            b = setB.array[j]\n",
        "            if a == b :\n",
        "                setC.append(a)\n",
        "                i += 1\n",
        "                j += 1\n",
        "            elif a < b:\n",
        "                i += 1\n",
        "            else :\n",
        "                j += 1\n",
        "\n",
        "        return setC\n",
        "\n",
        "    # 도전 코딩!\n",
        "    def difference( self, setB ):  # O(mn) -> O(n+m)\n",
        "        setC = SortedArraySet()\n",
        "        i = 0\n",
        "        j = 0\n",
        "        while i < self.size and j < setB.size :\n",
        "            a = self.array[i]\n",
        "            b = setB.array[j]\n",
        "            if a == b :\n",
        "                i += 1\n",
        "                j += 1\n",
        "            elif a < b:\n",
        "                setC.append(a)\n",
        "                i += 1\n",
        "            else :\n",
        "                j += 1\n",
        "\n",
        "        return setC"
      ]
    },
    {
      "cell_type": "code",
      "execution_count": 16,
      "metadata": {
        "id": "Ealrz0o98ugy"
      },
      "outputs": [
        {
          "name": "stdout",
          "output_type": "stream",
          "text": [
            "Set A: [0, 1, 2, 3, 4]\n",
            "Set B: [0, 1, 2, 3, 4]\n",
            "Set A == Set B: True\n"
          ]
        }
      ],
      "source": [
        "if __name__ == \"__main__\":\n",
        "    import random\n",
        "    setA = SortedArraySet()\n",
        "    setB = SortedArraySet()\n",
        "    for i in range(5):\n",
        "        # setA.insert(random.randint(1,9))\n",
        "        # setB.insert(random.randint(1,9))\n",
        "        setA.insert(i)\n",
        "        setB.insert(i)\n",
        "\n",
        "    print('Set A:', setA)\n",
        "    print('Set B:', setB)\n",
        "    print('Set A == Set B:', setA == setB)\n"
      ]
    },
    {
      "cell_type": "code",
      "execution_count": 17,
      "metadata": {
        "id": "4DdYx5yoc8ng"
      },
      "outputs": [
        {
          "name": "stdout",
          "output_type": "stream",
          "text": [
            "A U B: [0, 1, 2, 3, 4]\n",
            "A ^ B: [0, 1, 2, 3, 4]\n",
            "A - B: []\n"
          ]
        }
      ],
      "source": [
        "print('A U B:', setA.union(setB))\n",
        "print('A ^ B:', setA.intersect(setB))\n",
        "print('A - B:', setA.difference(setB))"
      ]
    },
    {
      "cell_type": "markdown",
      "metadata": {
        "id": "MUPBqu7bKyB5"
      },
      "source": [
        "다음은 `SortedArraySet` 클래스를 확장하거나 새로운 기능을 요구하는 두 가지 추가 구현 문제입니다.\n",
        "\n",
        "---\n",
        "\n",
        "### 문제 1: **집합 요소의 순회 및 서브셋 생성**\n",
        "#### 설명:\n",
        "`SortedArraySet` 클래스에 `get_subset` 메서드를 구현하세요. 이 메서드는 주어진 범위 `[start, end]`에 포함되는 요소만으로 구성된 새로운 `SortedArraySet` 객체를 반환합니다.\n",
        "1. `get_subset(self, start, end)` 메서드는 다음 조건을 만족해야 합니다:\n",
        "   - `start`와 `end`는 포함 범위입니다.\n",
        "   - 반환값은 새롭게 생성된 `SortedArraySet` 객체입니다.\n",
        "2. 크기가 10인 `setA`를 생성하고 1, 3, 5, 7, 9를 추가한 뒤, `[3, 8]` 범위의 서브셋을 출력하세요.\n",
        "\n",
        "#### 구현 요구:\n",
        "- `get_subset` 메서드 작성\n",
        "- 서브셋을 생성하고 이를 출력하는 코드 작성\n",
        "\n",
        "#### 출력 예시:\n",
        "```\n",
        "Original set: [1, 3, 5, 7, 9]\n",
        "Subset [3, 8]: [3, 5, 7]\n",
        "```\n",
        "\n",
        "---\n"
      ]
    },
    {
      "cell_type": "code",
      "execution_count": 18,
      "metadata": {
        "id": "aNCbWB9FK-m2"
      },
      "outputs": [
        {
          "name": "stdout",
          "output_type": "stream",
          "text": [
            "Original set: [1, 3, 5, 7, 9]\n",
            "Subset [3, 8]: [3, 5, 7]\n"
          ]
        }
      ],
      "source": [
        "class SortedArraySet:\n",
        "    def __init__(self, capacity=100):\n",
        "        self.capacity = capacity\n",
        "        self.array = [None] * capacity\n",
        "        self.size = 0\n",
        "\n",
        "    def isEmpty(self):\n",
        "        return self.size == 0\n",
        "\n",
        "    def isFull(self):\n",
        "        return self.size == self.capacity\n",
        "\n",
        "    def __str__(self):\n",
        "        return str(self.array[:self.size])\n",
        "\n",
        "    def contains(self, e):\n",
        "        for i in range(self.size):\n",
        "            if self.array[i] == e:\n",
        "                return True\n",
        "        return False\n",
        "\n",
        "    def append(self, e):\n",
        "        self.array[self.size] = e\n",
        "        self.size += 1\n",
        "\n",
        "    def insert(self, e):\n",
        "        if self.contains(e) or self.isFull():\n",
        "            return\n",
        "        self.array[self.size] = e\n",
        "        self.size += 1\n",
        "\n",
        "        for i in range(self.size - 1, 0, -1):\n",
        "            if self.array[i - 1] <= self.array[i]:\n",
        "                break\n",
        "            self.array[i - 1], self.array[i] = self.array[i], self.array[i - 1]\n",
        "\n",
        "    # get_subset 메서드 구현\n",
        "    def get_subset(self, start, end):\n",
        "        subset = SortedArraySet(self.capacity)  # 새로운 SortedArraySet 생성\n",
        "        for i in range(self.size):\n",
        "            if start <= self.array[i] <= end:  # 범위 안의 요소만 추가\n",
        "                subset.append(self.array[i])\n",
        "        return subset\n",
        "\n",
        "\n",
        "# 테스트 코드\n",
        "if __name__ == \"__main__\":\n",
        "    setA = SortedArraySet()\n",
        "    elements = [1, 3, 5, 7, 9]\n",
        "    for e in elements:\n",
        "        setA.insert(e)\n",
        "\n",
        "    print(\"Original set:\", setA)\n",
        "    subset = setA.get_subset(3, 8)\n",
        "    print(\"Subset [3, 8]:\", subset)"
      ]
    },
    {
      "cell_type": "markdown",
      "metadata": {
        "id": "8t589qQtK-v_"
      },
      "source": [
        "\n",
        "### 문제 2: **중복된 요소를 허용하는 정렬된 배열 집합 (Multiset) 구현**\n",
        "#### 설명:\n",
        "`SortedArraySet` 클래스를 기반으로 중복된 요소를 허용하는 `SortedArrayMultiSet` 클래스를 새로 구현하세요. 이 클래스는 기존 `SortedArraySet`과 유사하지만 중복된 요소도 허용해야 합니다. 이를 위해 다음 메서드들을 구현하세요:\n",
        "1. **`insert(self, e)`**:\n",
        "   - 중복된 요소를 허용하며, 삽입 시 정렬 상태를 유지해야 합니다.\n",
        "2. **`delete(self, e)`**:\n",
        "   - 주어진 요소를 하나만 삭제합니다. (중복된 요소 중 첫 번째로 나타나는 요소를 제거)\n",
        "3. **테스트**:\n",
        "   - 크기가 10인 `SortedArrayMultiSet` 객체를 생성하고 3, 5, 3, 7, 5를 삽입한 뒤 삭제 연산을 수행하세요.\n",
        "\n",
        "#### 구현 요구:\n",
        "- `SortedArrayMultiSet` 클래스 작성\n",
        "- `insert`와 `delete` 메서드 작성\n",
        "- 테스트 케이스 작성 및 출력\n",
        "\n",
        "#### 출력 예시:\n",
        "```\n",
        "Initial multiset: []\n",
        "After inserting 3, 5, 3, 7, 5: [3, 3, 5, 5, 7]\n",
        "After deleting 3: [3, 5, 5, 7]\n",
        "After deleting 5: [3, 5, 7]\n",
        "```"
      ]
    },
    {
      "cell_type": "code",
      "execution_count": 19,
      "metadata": {
        "id": "5anCFiOAK_Km"
      },
      "outputs": [
        {
          "name": "stdout",
          "output_type": "stream",
          "text": [
            "After inserting 3, 5, 3, 7, 5: [3, 3, 5, 5, 7]\n",
            "After deleting 3: [3, 5, 5, 7]\n",
            "After deleting 5: [3, 5, 7]\n"
          ]
        }
      ],
      "source": [
        "class SortedArrayMultiSet:\n",
        "    def __init__(self, capacity=100):\n",
        "        self.capacity = capacity\n",
        "        self.array = [None] * capacity\n",
        "        self.size = 0\n",
        "\n",
        "    def isEmpty(self):\n",
        "        return self.size == 0\n",
        "\n",
        "    def isFull(self):\n",
        "        return self.size == self.capacity\n",
        "\n",
        "    def __str__(self):\n",
        "        return str(self.array[:self.size])\n",
        "\n",
        "    def insert(self, e):\n",
        "        if self.isFull():\n",
        "            return\n",
        "\n",
        "        # 요소 삽입 및 정렬 유지\n",
        "        self.array[self.size] = e\n",
        "        self.size += 1\n",
        "\n",
        "        for i in range(self.size - 1, 0, -1):\n",
        "            if self.array[i - 1] <= self.array[i]:\n",
        "                break\n",
        "            self.array[i - 1], self.array[i] = self.array[i], self.array[i - 1]\n",
        "\n",
        "    def delete(self, e):\n",
        "        if self.isEmpty():\n",
        "            return\n",
        "\n",
        "        # 주어진 요소를 하나만 삭제 (중복된 경우 첫 번째 삭제)\n",
        "        for i in range(self.size):\n",
        "            if self.array[i] == e:\n",
        "                # 요소 삭제 후 나머지 요소 이동\n",
        "                for j in range(i, self.size - 1):\n",
        "                    self.array[j] = self.array[j + 1]\n",
        "                self.size -= 1\n",
        "                self.array[self.size] = None  # 마지막 요소 초기화\n",
        "                return\n",
        "\n",
        "# 테스트 코드\n",
        "if __name__ == \"__main__\":\n",
        "    multiset = SortedArrayMultiSet(10)\n",
        "\n",
        "    # 요소 삽입\n",
        "    elements = [3, 5, 3, 7, 5]\n",
        "    for e in elements:\n",
        "        multiset.insert(e)\n",
        "    print(\"After inserting 3, 5, 3, 7, 5:\", multiset)\n",
        "\n",
        "    # 요소 삭제\n",
        "    multiset.delete(3)\n",
        "    print(\"After deleting 3:\", multiset)\n",
        "\n",
        "    multiset.delete(5)\n",
        "    print(\"After deleting 5:\", multiset)\n"
      ]
    },
    {
      "cell_type": "markdown",
      "metadata": {
        "id": "YWs7hrrJP6Pa"
      },
      "source": [
        "### 문제 3: **집합의 모든 서브셋 생성**\n",
        "#### 설명:\n",
        "`SortedArraySet` 클래스에 `get_all_subsets` 메서드를 구현하세요. 이 메서드는 현재 집합의 모든 서브셋을 찾아 반환합니다. 각 서브셋은 `SortedArraySet` 객체로 표현되어야 합니다.\n",
        "\n",
        "#### 요구 사항:\n",
        "1. **`get_all_subsets` 메서드**를 작성하세요:\n",
        "   - 현재 집합의 모든 서브셋을 포함하는 리스트를 반환합니다.\n",
        "   - 공집합도 포함해야 합니다.\n",
        "2. 테스트를 위해 크기가 10인 `setA`를 생성하고, 다음 숫자를 삽입하세요: `1, 3, 5`.\n",
        "3. 모든 서브셋을 생성하고 출력하세요.\n",
        "\n",
        "---\n",
        "\n",
        "#### 구현 요구:\n",
        "- `get_all_subsets` 메서드 작성\n",
        "- 모든 서브셋을 생성하고 이를 출력하는 테스트 코드 작성\n",
        "\n",
        "---\n",
        "\n",
        "#### 출력 예시:\n",
        "```\n",
        "Original set: [1, 3, 5]\n",
        "All subsets:\n",
        "[]\n",
        "[1]\n",
        "[3]\n",
        "[5]\n",
        "[1, 3]\n",
        "[1, 5]\n",
        "[3, 5]\n",
        "[1, 3, 5]\n",
        "```\n",
        "\n",
        "---\n"
      ]
    },
    {
      "cell_type": "code",
      "execution_count": 20,
      "metadata": {
        "id": "0iiun6GxP6Ws"
      },
      "outputs": [
        {
          "name": "stdout",
          "output_type": "stream",
          "text": [
            "Original set: [1, 3, 5]\n",
            "All subsets:\n",
            "[]\n",
            "[1]\n",
            "[3]\n",
            "[1, 3]\n",
            "[5]\n",
            "[1, 5]\n",
            "[3, 5]\n",
            "[1, 3, 5]\n"
          ]
        }
      ],
      "source": [
        "class SortedArraySet:\n",
        "    def __init__(self, capacity=100):\n",
        "        self.capacity = capacity\n",
        "        self.array = [None] * capacity\n",
        "        self.size = 0\n",
        "\n",
        "    def isEmpty(self):\n",
        "        return self.size == 0\n",
        "\n",
        "    def isFull(self):\n",
        "        return self.size == self.capacity\n",
        "\n",
        "    def __str__(self):\n",
        "        return str(self.array[:self.size])\n",
        "\n",
        "    def insert(self, e):\n",
        "        if self.isFull() or e in self.array[:self.size]:\n",
        "            return\n",
        "        self.array[self.size] = e\n",
        "        self.size += 1\n",
        "        # 정렬 유지\n",
        "        for i in range(self.size - 1, 0, -1):\n",
        "            if self.array[i - 1] <= self.array[i]:\n",
        "                break\n",
        "            self.array[i - 1], self.array[i] = self.array[i], self.array[i - 1]\n",
        "\n",
        "    def get_all_subsets(self):\n",
        "        subsets = []\n",
        "        # 모든 서브셋 생성 (비트마스크 사용)\n",
        "        for subset_mask in range(1 << self.size):  # 2^n개의 서브셋\n",
        "            subset = SortedArraySet(self.capacity)\n",
        "            for i in range(self.size):\n",
        "                if subset_mask & (1 << i):  # i번째 요소가 포함되는 경우\n",
        "                    subset.insert(self.array[i])\n",
        "            subsets.append(subset)\n",
        "        return subsets\n",
        "\n",
        "\n",
        "# 테스트 코드\n",
        "if __name__ == \"__main__\":\n",
        "    setA = SortedArraySet(10)\n",
        "\n",
        "    # 요소 삽입\n",
        "    for e in [1, 3, 5]:\n",
        "        setA.insert(e)\n",
        "\n",
        "    print(\"Original set:\", setA)\n",
        "\n",
        "    # 모든 서브셋 생성\n",
        "    subsets = setA.get_all_subsets()\n",
        "    print(\"All subsets:\")\n",
        "    for subset in subsets:\n",
        "        print(subset)\n"
      ]
    },
    {
      "cell_type": "markdown",
      "metadata": {
        "id": "-YrT81I8AE_v"
      },
      "source": [
        "# 탐색 알고리즘"
      ]
    },
    {
      "cell_type": "code",
      "execution_count": 21,
      "metadata": {
        "id": "BhPfU7ngAHsH"
      },
      "outputs": [],
      "source": [
        "# 코드 7.7: 순차 탐색  알고리즘        참고 파일: ch07/basic_search.py\n",
        "def sequential_search(A, key, low, high) :\n",
        "    for i in range(low, high+1) :\t# i에 low부터 high-1까지 순서대로 대입\n",
        "        print(A[i], end=' ')\n",
        "        if A[i] == key :\t\t\t# 탐색에 성공하면\n",
        "            return i\t\t\t\t# 인덱스 반환\n",
        "    return -1\t\t\t\t\t\t# 탐색에 실패하면 -1 반환"
      ]
    },
    {
      "cell_type": "code",
      "execution_count": 23,
      "metadata": {
        "id": "XsSVtWCSAyvD"
      },
      "outputs": [
        {
          "name": "stdout",
          "output_type": "stream",
          "text": [
            "입력배열 =  [2, 6, 11, 13, 18, 20, 22, 27, 29, 30, 34, 38, 41, 42, 45, 47]\n",
            "2 6 11 13 18 20 22 27 29 30 34 순차탐색 34:  10\n"
          ]
        }
      ],
      "source": [
        "array = [ 2, 6, 11, 13, 18, 20, 22, 27, 29, 30, 34, 38, 41, 42, 45, 47 ]\n",
        "n = len(array)\n",
        "\n",
        "print(\"입력배열 = \", array)\n",
        "\n",
        "key = 34\n",
        "print(\"순차탐색 %d: \"%key, sequential_search(array, key, 0, n-1))"
      ]
    },
    {
      "cell_type": "code",
      "execution_count": 24,
      "metadata": {
        "id": "hyEDjfmuAPy6"
      },
      "outputs": [],
      "source": [
        "# 코드 7.8: 이진 탐색  알고리즘(순환 구조)     참고 파일: ch07/basic_search.py\n",
        "def binary_search(A, key, low, high) :\n",
        "    if (low > high) :\t\t\t\t# 종료 조건: 하나 이상의 항목이 있어야 함\n",
        "        return -1        \t\t\t# 탐색 실패\n",
        "\n",
        "    middle = (low + high) // 2\n",
        "    print(A[middle], end=' ')\n",
        "    if (key == A[middle]) :\t    # 탐색 성공\n",
        "        return middle\n",
        "    elif (key<A[middle]) :\t# 왼쪽 부분리스트 탐색\n",
        "        return binary_search(A, key, low, middle - 1)\n",
        "    else :\t\t\t\t\t\t# 오른쪽 부분리스트 탐색\n",
        "        return binary_search(A, key, middle + 1, high)"
      ]
    },
    {
      "cell_type": "code",
      "execution_count": 25,
      "metadata": {
        "id": "x90fOqbkA06T"
      },
      "outputs": [
        {
          "name": "stdout",
          "output_type": "stream",
          "text": [
            "입력배열 =  [2, 6, 11, 13, 18, 20, 22, 27, 29, 30, 34, 38, 41, 42, 45, 47]\n",
            "27 38 30 34 이진탐색 34:  10\n"
          ]
        }
      ],
      "source": [
        "array = [ 2, 6, 11, 13, 18, 20, 22, 27, 29, 30, 34, 38, 41, 42, 45, 47 ]\n",
        "n = len(array)\n",
        "\n",
        "print(\"입력배열 = \", array)\n",
        "\n",
        "key = 34\n",
        "print(\"이진탐색 %d: \"%key, binary_search(array, key, 0, n-1))"
      ]
    },
    {
      "cell_type": "code",
      "execution_count": 26,
      "metadata": {
        "id": "fGd2A1iEAS-s"
      },
      "outputs": [],
      "source": [
        "# 코드 7.9: 이진 탐색  알고리즘(반복 구조)     참고 파일: ch07/basic_search.py\n",
        "def binary_search_iter(A, key, low, high) :\n",
        "    while (low <= high) :       \t# 항목들이 남아 있으면(종료 조건)\n",
        "        middle = (low + high) // 2\n",
        "        print(A[middle], end=' ')\n",
        "        if key == A[middle]:\t    # 탐색 성공\n",
        "            return middle\n",
        "        elif (key > A[middle]):\t# key가 middle의 값보다 크면\n",
        "            low = middle + 1\t\t# middle+1 ~ high 사이 검색\n",
        "        else:\t\t\t\t\t\t# key가 middle의 값보다 작으면\n",
        "            high = middle - 1\t\t# low ~ middle-1 사이 검색\n",
        "    return -1   \t\t\t\t\t# 탐색 실패"
      ]
    },
    {
      "cell_type": "markdown",
      "metadata": {
        "id": "ku1Bm6gkLNXY"
      },
      "source": [
        "### 문제 4: **이진 탐색 알고리즘 확장 - 삽입 위치 찾기**\n",
        "#### 설명:\n",
        "이진 탐색 알고리즘을 확장하여 주어진 배열 `A`에서 특정 값 `key`의 **삽입 위치**를 찾는 메서드를 구현하세요. 이 메서드는 배열이 정렬된 상태라고 가정하며, `key`가 배열에 존재하지 않을 경우, `key`를 삽입했을 때 올바른 위치(정렬된 상태를 유지하는 위치)를 반환해야 합니다.\n",
        "\n",
        "#### 요구 사항:\n",
        "1. **`binary_search_insert_position(A, key, low, high)` 함수 구현:**\n",
        "   - 배열 `A`와 탐색 대상 `key`, 탐색 범위를 나타내는 `low`, `high`를 인자로 받습니다.\n",
        "   - 이진 탐색 알고리즘을 기반으로 구현합니다.\n",
        "   - `key`가 배열에 있으면 해당 인덱스를 반환합니다.\n",
        "   - `key`가 배열에 없으면 삽입 위치의 인덱스를 반환합니다.\n",
        "\n",
        "2. **테스트:**\n",
        "   - 정렬된 배열 `[1, 3, 5, 7, 9]`에서 다음 키 값의 삽입 위치를 찾으세요:\n",
        "     - `key = 4`\n",
        "     - `key = 6`\n",
        "     - `key = 10`\n",
        "     - `key = 1`\n",
        "\n",
        "#### 입력:\n",
        "- 배열 `A = [1, 3, 5, 7, 9]`\n",
        "- 각각의 `key = 4, 6, 10, 1`\n",
        "\n",
        "#### 출력 예시:\n",
        "```\n",
        "Array: [1, 3, 5, 7, 9]\n",
        "Key 4: Insert position = 2\n",
        "Key 6: Insert position = 3\n",
        "Key 10: Insert position = 5\n",
        "Key 1: Insert position = 0\n",
        "```"
      ]
    },
    {
      "cell_type": "code",
      "execution_count": 27,
      "metadata": {
        "id": "5VzBcAr2LPMz"
      },
      "outputs": [
        {
          "name": "stdout",
          "output_type": "stream",
          "text": [
            "Array: [1, 3, 5, 7, 9]\n",
            "Key 4: Insert position = 2\n",
            "Key 6: Insert position = 3\n",
            "Key 10: Insert position = 5\n",
            "Key 1: Insert position = 0\n"
          ]
        }
      ],
      "source": [
        "def binary_search_insert_position(A, key, low, high):\n",
        "    while low < high:\n",
        "        mid = (low + high) // 2\n",
        "        if A[mid] < key:\n",
        "            low = mid + 1\n",
        "        else:\n",
        "            high = mid\n",
        "    return low\n",
        "\n",
        "\n",
        "# 테스트 코드\n",
        "if __name__ == \"__main__\":\n",
        "    A = [1, 3, 5, 7, 9]\n",
        "    keys = [4, 6, 10, 1]\n",
        "\n",
        "    print(\"Array:\", A)\n",
        "    for key in keys:\n",
        "        position = binary_search_insert_position(A, key, 0, len(A))\n",
        "        print(f\"Key {key}: Insert position = {position}\")\n"
      ]
    },
    {
      "cell_type": "markdown",
      "metadata": {
        "id": "UQna25TlMsvC"
      },
      "source": [
        "---"
      ]
    },
    {
      "cell_type": "code",
      "execution_count": 28,
      "metadata": {
        "id": "wnV0DkB5A85W"
      },
      "outputs": [
        {
          "name": "stdout",
          "output_type": "stream",
          "text": [
            "입력배열 =  [2, 6, 11, 13, 18, 20, 22, 27, 29, 30, 34, 38, 41, 42, 45, 47]\n",
            "27 38 30 34 이진반복 34:  10\n"
          ]
        }
      ],
      "source": [
        "array = [ 2, 6, 11, 13, 18, 20, 22, 27, 29, 30, 34, 38, 41, 42, 45, 47 ]\n",
        "n = len(array)\n",
        "print(\"입력배열 = \", array)\n",
        "\n",
        "key = 34\n",
        "print(\"이진반복 %d: \"%key, binary_search_iter(array, key, 0, n-1))"
      ]
    },
    {
      "cell_type": "code",
      "execution_count": 29,
      "metadata": {
        "id": "7b4xF2MnAbtH"
      },
      "outputs": [],
      "source": [
        "# 보간 탐색  알고리즘(순환 구조)     참고 파일: ch07/basic_search.py\n",
        "def interpolation_search(A, key, low, high) :\n",
        "    if (low > high) :\t\t\t\t# 하나 이상의 항목이 있어야 탐색\n",
        "        return -1        \t\t\t# 탐색 실패\n",
        "\n",
        "    middle = int(low + (high-low) * (key-A[low]) / (A[high]-A[low]))\n",
        "    print(A[middle], end=' ')\n",
        "    if (key == A[middle]) :\t    # 탐색 성공\n",
        "        return middle\n",
        "    elif (key<A[middle]) :\t\t# 왼쪽 부분리스트 탐색\n",
        "        return binary_search(A, key, low, middle - 1)\n",
        "    else :\t\t\t\t\t\t# 오른쪽 부분리스트 탐색\n",
        "        return binary_search(A, key, middle + 1, high)"
      ]
    },
    {
      "cell_type": "code",
      "execution_count": 31,
      "metadata": {
        "id": "PZ-_VcR1BBbU"
      },
      "outputs": [
        {
          "name": "stdout",
          "output_type": "stream",
          "text": [
            "입력배열 =  [2, 6, 11, 13, 18, 20, 22, 27, 29, 30, 34, 38, 41, 42, 45, 47]\n",
            "34 보간탐색 34:  10\n"
          ]
        }
      ],
      "source": [
        "array = [ 2, 6, 11, 13, 18, 20, 22, 27, 29, 30, 34, 38, 41, 42, 45, 47 ]\n",
        "n = len(array)\n",
        "print(\"입력배열 = \", array)\n",
        "\n",
        "key = 34\n",
        "print(\"보간탐색 %d: \"%key, interpolation_search(array, key, 0, n-1))"
      ]
    },
    {
      "cell_type": "code",
      "execution_count": 32,
      "metadata": {
        "id": "OaEl1sTRAnvn"
      },
      "outputs": [
        {
          "name": "stdout",
          "output_type": "stream",
          "text": [
            "입력배열 =  [2, 6, 11, 13, 18, 20, 22, 27, 29, 30, 34, 38, 41, 42, 45, 47]\n",
            "2 6 11 13 18 20 22 27 29 30 34 38 41 42 45 47 순차탐색 23:  -1\n",
            "27 13 20 22 이진탐색 23:  -1\n",
            "27 13 20 22 이진반복 23:  -1\n",
            "27 13 20 22 보간탐색 23:  -1\n",
            "1 1 1 3 2 보간탐색 2:  13\n"
          ]
        }
      ],
      "source": [
        "array = [ 2, 6, 11, 13, 18, 20, 22, 27, 29, 30, 34, 38, 41, 42, 45, 47 ]\n",
        "n = len(array)\n",
        "print(\"입력배열 = \", array)\n",
        "\n",
        "key = 23\n",
        "print(\"순차탐색 %d: \"%key, sequential_search(array, key, 0, n-1))\n",
        "print(\"이진탐색 %d: \"%key, binary_search(array, key, 0, n-1))\n",
        "print(\"이진반복 %d: \"%key, binary_search_iter(array, key, 0, n-1))\n",
        "print(\"보간탐색 %d: \"%key, interpolation_search(array, key, 0, n-1))\n",
        "\n",
        "array = [ 1, 1, 1, 1, 1, 1, 1, 1, 1, 1, 1, 1, 1, 2, 3, 100]\n",
        "key = 2\n",
        "print(\"보간탐색 %d: \"%key, interpolation_search(array, key, 0, n-1))"
      ]
    },
    {
      "cell_type": "markdown",
      "metadata": {
        "id": "U4Vo-hxHKl1X"
      },
      "source": [
        "# Hash - Linear"
      ]
    },
    {
      "cell_type": "code",
      "execution_count": 33,
      "metadata": {
        "id": "hnV_wmADKrgo"
      },
      "outputs": [],
      "source": [
        "# 코드 7.11: 해시 테이블 및 해시 함수 준비\n",
        "M = 13                  # 해시 테이블의 크기\n",
        "table = [None]*M        # 해시 테이블. 모든 항목은 None으로 초기화\n",
        "\n",
        "def hashFn(key) :     # 해시 함수로는 제산함수 사용\n",
        "    return key% M\n",
        "\n",
        "# 코드 7.12: 선형조사법의 삽입 연산\n",
        "def insert(key) :\n",
        "    i = hashFn(key)\n",
        "    count = M\n",
        "    while count>0 :\n",
        "        if table[i] == None or table[i] == -1 :\n",
        "#        if table[i] == None :\n",
        "            break               # 삽입 위치 발견\n",
        "        i = (i + 1) % M         # 다음위치 조사\n",
        "        count -= 1\n",
        "\n",
        "    if count > 0 :              # 삽입할 곳이 있으면 삽입\n",
        "        table[i] = key\n",
        "\n",
        "# 코드 7.13: 선형조사법의 탐색 연산\n",
        "def search(key) :\n",
        "    i = hashFn(key)\n",
        "    count = M\n",
        "    while count>0 :\n",
        "        if table[i] == None :   # 탐색 실패\n",
        "            return None\n",
        "        if table[i] == key :    # 탐색 성공\n",
        "            return table[i]\n",
        "        i = (i + 1) % M\n",
        "        count -= 1\n",
        "\n",
        "    return None                 # 탐색 실패\n",
        "\n",
        "\n",
        "# 코드 7.14: 선형조사법의 삭제 연산\n",
        "def delete(key) :\n",
        "    i = hashFn(key)\n",
        "    count = M\n",
        "    while count>0 :\n",
        "        if table[i] == key :    # 삭제할 레코드 발견\n",
        "            table[i] = -1\n",
        "#            table[i] = None\n",
        "            return\n",
        "        if table[i] == None :   # 삭제할 레코드 없음\n",
        "            return\n",
        "        i = (i + 1) % M\n",
        "        count -= 1"
      ]
    },
    {
      "cell_type": "code",
      "execution_count": 34,
      "metadata": {
        "id": "Jrs3akHLKsb8"
      },
      "outputs": [
        {
          "name": "stdout",
          "output_type": "stream",
          "text": [
            "h(45)= 6 [None, None, None, None, None, None, 45, None, None, None, None, None, None]\n",
            "h(27)= 1 [None, 27, None, None, None, None, 45, None, None, None, None, None, None]\n",
            "h(88)=10 [None, 27, None, None, None, None, 45, None, None, None, 88, None, None]\n",
            "h( 9)= 9 [None, 27, None, None, None, None, 45, None, None, 9, 88, None, None]\n",
            "h(71)= 6 [None, 27, None, None, None, None, 45, 71, None, 9, 88, None, None]\n",
            "h(60)= 8 [None, 27, None, None, None, None, 45, 71, 60, 9, 88, None, None]\n",
            "h(46)= 7 [None, 27, None, None, None, None, 45, 71, 60, 9, 88, 46, None]\n",
            "h(38)=12 [None, 27, None, None, None, None, 45, 71, 60, 9, 88, 46, 38]\n",
            "h(24)=11 [24, 27, None, None, None, None, 45, 71, 60, 9, 88, 46, 38]\n",
            "46탐색--> 46\n",
            "39탐색--> None\n",
            "60삭제-->[24, 27, None, None, None, None, 45, 71, -1, 9, 88, 46, 38]\n",
            "46삭제-->[24, 27, None, None, None, None, 45, 71, -1, 9, 88, -1, 38]\n"
          ]
        }
      ],
      "source": [
        "# 코드 7.15: 선형조사법의 테스트 프로그램\n",
        "if __name__ == \"__main__\":\n",
        "    data = [45, 27, 88, 9, 71, 60, 46, 38, 24]\n",
        "    for d in data :\n",
        "        print( \"h(%2d)=%2d\"%(d,hashFn(d)), end=' ')\n",
        "        insert(d)\n",
        "        print(table)\n",
        "\n",
        "    print(\"46탐색-->\", search(46))\n",
        "    print(\"39탐색-->\", search(39))\n",
        "\n",
        "    print(\"60삭제-->\", end='')\n",
        "    delete(60)\n",
        "    print(table)\n",
        "    print(\"46삭제-->\", end='')\n",
        "    delete(46)\n",
        "    print(table)"
      ]
    },
    {
      "cell_type": "markdown",
      "metadata": {
        "id": "acefh_wrLZy4"
      },
      "source": [
        "### 문제 5: **해시 테이블에서 데이터 삽입, 검색, 삭제**\n",
        "#### 설명:\n",
        "해시 테이블을 사용하여 데이터를 삽입, 검색, 삭제하는 연산을 구현하고 테스트하세요. 해시 함수는 제산 함수를 사용합니다.\n",
        "\n",
        "#### 요구 사항:\n",
        "1. 주어진 `insert`, `search`, `delete` 함수를 사용하여 다음 작업을 수행하세요:\n",
        "   - 숫자 `25, 37, 18, 55, 22`를 해시 테이블에 삽입하세요.\n",
        "   - 숫자 `18`과 `37`을 해시 테이블에서 검색하세요.\n",
        "   - 숫자 `25`를 삭제한 후, 해시 테이블을 출력하세요.\n",
        "\n",
        "#### 입력:\n",
        "- 삽입: `25, 37, 18, 55, 22`\n",
        "- 검색: `18, 37`\n",
        "- 삭제: `25`\n",
        "\n",
        "#### 출력 예시:\n",
        "```\n",
        "Initial Table: [None, None, None, None, None, None, None, None, None, None, None, None, None]\n",
        "After inserting 25, 37, 18, 55, 22: [None, None, 55, 25, None, None, 37, None, 22, None, None, None, 18]\n",
        "Search 18: Found\n",
        "Search 37: Found\n",
        "After deleting 25: [None, None, 55, -1, None, None, 37, None, 22, None, None, None, 18]\n",
        "```\n",
        "\n",
        "---\n"
      ]
    },
    {
      "cell_type": "code",
      "execution_count": 35,
      "metadata": {
        "id": "kkbwxbznLhPI"
      },
      "outputs": [
        {
          "name": "stdout",
          "output_type": "stream",
          "text": [
            "Initial Table: [None, None, None, None, None, None, None, None, None, None, None, None, None]\n",
            "After inserting 25, 37, 18, 55, 22: [None, None, None, 55, None, 18, None, None, None, 22, None, 37, 25]\n",
            "Search 18: Found\n",
            "Search 37: Found\n",
            "After deleting 25: [None, None, None, 55, None, 18, None, None, None, 22, None, 37, -1]\n"
          ]
        }
      ],
      "source": [
        "class HashTable:\n",
        "    def __init__(self, size=13):\n",
        "        self.size = size\n",
        "        self.table = [None] * self.size\n",
        "\n",
        "    def hash_function(self, key):\n",
        "        return key % self.size\n",
        "\n",
        "    def insert(self, key):\n",
        "        index = self.hash_function(key)\n",
        "        while self.table[index] is not None and self.table[index] != -1:  # -1 indicates a deleted slot\n",
        "            index = (index + 1) % self.size\n",
        "        self.table[index] = key\n",
        "\n",
        "    def search(self, key):\n",
        "        index = self.hash_function(key)\n",
        "        for _ in range(self.size):\n",
        "            if self.table[index] is None:  # Key not found\n",
        "                return False\n",
        "            if self.table[index] == key:\n",
        "                return True\n",
        "            index = (index + 1) % self.size\n",
        "        return False\n",
        "\n",
        "    def delete(self, key):\n",
        "        index = self.hash_function(key)\n",
        "        for _ in range(self.size):\n",
        "            if self.table[index] is None:  # Key not found\n",
        "                return False\n",
        "            if self.table[index] == key:\n",
        "                self.table[index] = -1  # Mark as deleted\n",
        "                return True\n",
        "            index = (index + 1) % self.size\n",
        "        return False\n",
        "\n",
        "    def __str__(self):\n",
        "        return str(self.table)\n",
        "\n",
        "\n",
        "# 테스트 코드\n",
        "if __name__ == \"__main__\":\n",
        "    # 해시 테이블 초기화\n",
        "    hash_table = HashTable()\n",
        "\n",
        "    # 초기 테이블 출력\n",
        "    print(\"Initial Table:\", hash_table)\n",
        "\n",
        "    # 숫자 삽입\n",
        "    for num in [25, 37, 18, 55, 22]:\n",
        "        hash_table.insert(num)\n",
        "    print(\"After inserting 25, 37, 18, 55, 22:\", hash_table)\n",
        "\n",
        "    # 숫자 검색\n",
        "    for num in [18, 37]:\n",
        "        result = \"Found\" if hash_table.search(num) else \"Not Found\"\n",
        "        print(f\"Search {num}: {result}\")\n",
        "\n",
        "    # 숫자 삭제\n",
        "    hash_table.delete(25)\n",
        "    print(\"After deleting 25:\", hash_table)\n"
      ]
    },
    {
      "cell_type": "markdown",
      "metadata": {
        "id": "CPyHRSXMLhes"
      },
      "source": [
        "\n",
        "### 문제 6: **충돌 처리 확인 - 선형 조사법 테스트**\n",
        "#### 설명:\n",
        "해시 테이블의 크기를 13으로 설정하고, 데이터를 삽입하면서 충돌을 처리하는 선형 조사법의 동작을 확인하세요.\n",
        "\n",
        "#### 요구 사항:\n",
        "1. 숫자 `13, 26, 39, 52, 65`를 해시 테이블에 삽입하세요.\n",
        "2. `search` 함수를 사용하여 숫자 `52`와 `26`을 해시 테이블에서 검색하세요.\n",
        "3. 해시 테이블에 숫자 `78`을 삽입하여 충돌을 처리한 결과를 출력하세요.\n",
        "\n",
        "#### 입력:\n",
        "- 삽입: `13, 26, 39, 52, 65`\n",
        "- 검색: `52, 26`\n",
        "- 추가 삽입: `78`\n",
        "\n",
        "#### 출력 예시:\n",
        "```\n",
        "Initial Table: [None, None, None, None, None, None, None, None, None, None, None, None, None]\n",
        "After inserting 13, 26, 39, 52, 65: [None, None, None, None, None, None, None, 26, 39, 52, 65, None, 13]\n",
        "Search 52: Found\n",
        "Search 26: Found\n",
        "After inserting 78: [None, None, None, 78, None, None, None, 26, 39, 52, 65, None, 13]\n",
        "```\n",
        "\n",
        "---"
      ]
    },
    {
      "cell_type": "code",
      "execution_count": 36,
      "metadata": {
        "id": "4NDkRzyTLh_n"
      },
      "outputs": [
        {
          "name": "stdout",
          "output_type": "stream",
          "text": [
            "Initial Table: [None, None, None, None, None, None, None, None, None, None, None, None, None]\n",
            "After inserting 13, 26, 39, 52, 65: [13, 26, 39, 52, 65, None, None, None, None, None, None, None, None]\n",
            "Search 52: Found\n",
            "Search 26: Found\n",
            "After inserting 78: [13, 26, 39, 52, 65, 78, None, None, None, None, None, None, None]\n"
          ]
        }
      ],
      "source": [
        "class HashTableLinearProbing:\n",
        "    def __init__(self, size=13):\n",
        "        self.size = size\n",
        "        self.table = [None] * self.size\n",
        "\n",
        "    def hash_function(self, key):\n",
        "        return key % self.size\n",
        "\n",
        "    def insert(self, key):\n",
        "        index = self.hash_function(key)\n",
        "        while self.table[index] is not None and self.table[index] != -1:  # 충돌 처리: 선형 조사\n",
        "            index = (index + 1) % self.size\n",
        "        self.table[index] = key\n",
        "\n",
        "    def search(self, key):\n",
        "        index = self.hash_function(key)\n",
        "        for _ in range(self.size):\n",
        "            if self.table[index] is None:  # 탐색 실패\n",
        "                return False\n",
        "            if self.table[index] == key:  # 탐색 성공\n",
        "                return True\n",
        "            index = (index + 1) % self.size\n",
        "        return False\n",
        "\n",
        "    def __str__(self):\n",
        "        return str(self.table)\n",
        "\n",
        "\n",
        "# 테스트 코드\n",
        "if __name__ == \"__main__\":\n",
        "    # 해시 테이블 초기화\n",
        "    hash_table = HashTableLinearProbing()\n",
        "\n",
        "    # 초기 테이블 출력\n",
        "    print(\"Initial Table:\", hash_table)\n",
        "\n",
        "    # 숫자 삽입\n",
        "    for num in [13, 26, 39, 52, 65]:\n",
        "        hash_table.insert(num)\n",
        "    print(\"After inserting 13, 26, 39, 52, 65:\", hash_table)\n",
        "\n",
        "    # 숫자 검색\n",
        "    for num in [52, 26]:\n",
        "        result = \"Found\" if hash_table.search(num) else \"Not Found\"\n",
        "        print(f\"Search {num}: {result}\")\n",
        "\n",
        "    # 추가 삽입\n",
        "    hash_table.insert(78)\n",
        "    print(\"After inserting 78:\", hash_table)\n"
      ]
    },
    {
      "cell_type": "markdown",
      "metadata": {
        "id": "e0ZIMD7bKpNP"
      },
      "source": [
        "# Hash - Chaining"
      ]
    },
    {
      "cell_type": "code",
      "execution_count": 37,
      "metadata": {
        "id": "cWlmzjSgLB-T"
      },
      "outputs": [],
      "source": [
        "M = 13                  # 해시 테이블의 크기\n",
        "table = [None]*M        # 해시 테이블. 모든 항목은 None으로 초기화\n",
        "def hashFn(key) :     # 해시 함수로는 제산함수 사용\n",
        "    return key% M\n",
        "\n",
        "class Node:\n",
        "    def __init__( self, data, link=None ):\n",
        "        self.data = data\n",
        "        self.link = link\n",
        "\n",
        "# 코드 7.16: 체이닝을 이용한 오버플로 처리\n",
        "def insert(key) :\n",
        "    k = hashFn(key)     # 해시 주소 계산\n",
        "    n = Node(key)       # 새로운 노드 생성\n",
        "    n.link = table[k]   # 노드의 다음 노드로 시작 노드 연결\n",
        "    table[k] = n        # 새로운 노드가 시작 노드가 됨\n",
        "\n",
        "def search(key) :\n",
        "    k = hashFn(key)\n",
        "    n = table[k]                # 시작 노드\n",
        "    while n is not None:        # 연결된 모든 노드를 탐색\n",
        "        if n.data == key :      # 탐색 성공. 노드의 데이터(레코드) 반환\n",
        "            return n.data\n",
        "        n = n.link              # 링크를 따라 다음 노드로 진행\n",
        "    return None                 # 탐색 실패. None 반환\n",
        "\n",
        "def delete(key) :\n",
        "    k = hashFn(key)\n",
        "    n = table[k]                # 시작 노드\n",
        "    before = None               # 이전 노드\n",
        "    while n is not None:        # n이 None이 아닐때 까지\n",
        "        if n.data == key :      # 삭제할 레코드 찾음\n",
        "            if before == None : # 삭제할 항목이 시작 노드이면, 다음 노드가 시작노드\n",
        "                table[k] = n.link\n",
        "            else :              # 두 번째 이후 항목 삭제인 경우\n",
        "                before.link = n.link\n",
        "            return\n",
        "        before = n\n",
        "        n = n.link"
      ]
    },
    {
      "cell_type": "code",
      "execution_count": 38,
      "metadata": {
        "id": "Yplt0quYLC2W"
      },
      "outputs": [
        {
          "name": "stdout",
          "output_type": "stream",
          "text": [
            "[ 1] 27 \n",
            "[ 6] 71 45 \n",
            "[ 7] 46 \n",
            "[ 8] 60 \n",
            "[ 9] 9 \n",
            "[10] 88 \n",
            "[11] 24 \n",
            "[12] 38 \n"
          ]
        }
      ],
      "source": [
        "def printTable() :\n",
        "    for i in range(M):\n",
        "        n = table[i]\n",
        "        if n != None :\n",
        "            print(\"[%2d] \"% i, end='')\n",
        "            while n is not None :\n",
        "                print( n.data, end=' ')\n",
        "                n = n.link\n",
        "            print()\n",
        "\n",
        "if __name__ == \"__main__\":\n",
        "    data = [45, 27, 88, 9, 71, 60, 46, 38, 24]\n",
        "    for d in data :\n",
        "        insert(d)\n",
        "    printTable()"
      ]
    },
    {
      "cell_type": "code",
      "execution_count": 39,
      "metadata": {
        "id": "BhA_tpoDfyVu"
      },
      "outputs": [
        {
          "name": "stdout",
          "output_type": "stream",
          "text": [
            "46탐색--> 46\n",
            "39탐색--> None\n",
            "60삭제-->\n",
            "46삭제-->\n",
            "[ 1] 27 \n",
            "[ 6] 71 45 \n",
            "[ 9] 9 \n",
            "[10] 88 \n",
            "[11] 24 \n",
            "[12] 38 \n"
          ]
        }
      ],
      "source": [
        "print(\"46탐색-->\", search(46))\n",
        "print(\"39탐색-->\", search(39))\n",
        "\n",
        "print(\"60삭제-->\")\n",
        "delete(60)\n",
        "print(\"46삭제-->\")\n",
        "delete(46)\n",
        "printTable()"
      ]
    },
    {
      "cell_type": "markdown",
      "metadata": {
        "id": "pcS0KUcwLsWU"
      },
      "source": [
        "### 문제 7: **체이닝을 이용한 충돌 처리**\n",
        "#### 설명:\n",
        "체이닝을 활용한 해시 테이블에서 데이터를 삽입, 검색, 삭제하는 연산을 테스트하세요. 체이닝은 충돌이 발생했을 때 연결 리스트를 사용하여 데이터를 저장합니다.\n",
        "\n",
        "#### 요구 사항:\n",
        "1. 주어진 `insert`, `search`, `delete` 함수를 사용하여 다음 작업을 수행하세요:\n",
        "   - 숫자 `25, 37, 18, 55, 22`를 해시 테이블에 삽입하세요.\n",
        "   - 숫자 `18`과 `55`를 해시 테이블에서 검색하세요.\n",
        "   - 숫자 `37`을 삭제한 후, 해시 테이블의 상태를 출력하세요.\n",
        "\n",
        "#### 입력:\n",
        "- 삽입: `25, 37, 18, 55, 22`\n",
        "- 검색: `18, 55`\n",
        "- 삭제: `37`\n",
        "\n",
        "#### 출력 예시:\n",
        "```\n",
        "Initial Table: [None, None, None, None, None, None, None, None, None, None, None, None, None]\n",
        "After inserting 25, 37, 18, 55, 22:\n",
        "  Bucket 0: None\n",
        "  Bucket 1: None\n",
        "  Bucket 2: 37 -> 18 -> None\n",
        "  Bucket 3: 25 -> None\n",
        "  Bucket 4: None\n",
        "  Bucket 5: 22 -> None\n",
        "  Bucket 6: None\n",
        "  ...\n",
        "Search 18: Found\n",
        "Search 55: Found\n",
        "After deleting 37:\n",
        "  Bucket 0: None\n",
        "  Bucket 1: None\n",
        "  Bucket 2: 18 -> None\n",
        "  Bucket 3: 25 -> None\n",
        "  ...\n",
        "```\n",
        "\n",
        "---\n"
      ]
    },
    {
      "cell_type": "code",
      "execution_count": 40,
      "metadata": {
        "id": "RqSVSx_DLzrE"
      },
      "outputs": [
        {
          "name": "stdout",
          "output_type": "stream",
          "text": [
            "Initial Table:\n",
            "Bucket 0: None\n",
            "Bucket 1: None\n",
            "Bucket 2: None\n",
            "Bucket 3: None\n",
            "Bucket 4: None\n",
            "Bucket 5: None\n",
            "Bucket 6: None\n",
            "Bucket 7: None\n",
            "Bucket 8: None\n",
            "Bucket 9: None\n",
            "Bucket 10: None\n",
            "Bucket 11: None\n",
            "Bucket 12: None\n",
            "\n",
            "After inserting 25, 37, 18, 55, 22:\n",
            "Bucket 0: None\n",
            "Bucket 1: None\n",
            "Bucket 2: None\n",
            "Bucket 3: 55 -> None\n",
            "Bucket 4: None\n",
            "Bucket 5: 18 -> None\n",
            "Bucket 6: None\n",
            "Bucket 7: None\n",
            "Bucket 8: None\n",
            "Bucket 9: 22 -> None\n",
            "Bucket 10: None\n",
            "Bucket 11: 37 -> None\n",
            "Bucket 12: 25 -> None\n",
            "\n",
            "Search 18: Found\n",
            "Search 55: Found\n",
            "After deleting 37:\n",
            "Bucket 0: None\n",
            "Bucket 1: None\n",
            "Bucket 2: None\n",
            "Bucket 3: 55 -> None\n",
            "Bucket 4: None\n",
            "Bucket 5: 18 -> None\n",
            "Bucket 6: None\n",
            "Bucket 7: None\n",
            "Bucket 8: None\n",
            "Bucket 9: 22 -> None\n",
            "Bucket 10: None\n",
            "Bucket 11: None\n",
            "Bucket 12: 25 -> None\n",
            "\n"
          ]
        }
      ],
      "source": [
        "class HashTableChaining:\n",
        "    def __init__(self, size=13):\n",
        "        self.size = size\n",
        "        self.table = [[] for _ in range(self.size)]\n",
        "\n",
        "    def hash_function(self, key):\n",
        "        return key % self.size\n",
        "\n",
        "    def insert(self, key):\n",
        "        index = self.hash_function(key)\n",
        "        self.table[index].append(key)\n",
        "\n",
        "    def search(self, key):\n",
        "        index = self.hash_function(key)\n",
        "        if key in self.table[index]:\n",
        "            return True\n",
        "        return False\n",
        "\n",
        "    def delete(self, key):\n",
        "        index = self.hash_function(key)\n",
        "        if key in self.table[index]:\n",
        "            self.table[index].remove(key)\n",
        "\n",
        "    def __str__(self):\n",
        "        result = \"\"\n",
        "        for i, bucket in enumerate(self.table):\n",
        "            result += f\"Bucket {i}: \"\n",
        "            if bucket:\n",
        "                result += \" -> \".join(map(str, bucket)) + \" -> None\\n\"\n",
        "            else:\n",
        "                result += \"None\\n\"\n",
        "        return result\n",
        "\n",
        "\n",
        "# 테스트 코드\n",
        "if __name__ == \"__main__\":\n",
        "    # 해시 테이블 초기화\n",
        "    hash_table = HashTableChaining()\n",
        "\n",
        "    # 초기 테이블 출력\n",
        "    print(\"Initial Table:\")\n",
        "    print(hash_table)\n",
        "\n",
        "    # 숫자 삽입\n",
        "    for num in [25, 37, 18, 55, 22]:\n",
        "        hash_table.insert(num)\n",
        "    print(\"After inserting 25, 37, 18, 55, 22:\")\n",
        "    print(hash_table)\n",
        "\n",
        "    # 숫자 검색\n",
        "    for num in [18, 55]:\n",
        "        result = \"Found\" if hash_table.search(num) else \"Not Found\"\n",
        "        print(f\"Search {num}: {result}\")\n",
        "\n",
        "    # 숫자 삭제\n",
        "    hash_table.delete(37)\n",
        "    print(\"After deleting 37:\")\n",
        "    print(hash_table)\n"
      ]
    },
    {
      "cell_type": "markdown",
      "metadata": {
        "id": "RebRla9uLzyk"
      },
      "source": [
        "\n",
        "### 문제 8: **체이닝을 통한 해시 테이블의 충돌 해결 확인**\n",
        "#### 설명:\n",
        "해시 테이블의 크기를 13으로 설정하고, 체이닝 방식을 사용하여 충돌을 해결합니다. 입력 데이터의 삽입 및 삭제 과정을 시뮬레이션하고 체이닝의 동작을 확인하세요.\n",
        "\n",
        "#### 요구 사항:\n",
        "1. 숫자 `13, 26, 39, 52, 65`를 해시 테이블에 삽입하세요.\n",
        "2. `search` 함수를 사용하여 숫자 `26`과 `52`를 해시 테이블에서 검색하세요.\n",
        "3. 숫자 `39`를 삭제한 후, 해시 테이블의 상태를 출력하세요.\n",
        "\n",
        "#### 입력:\n",
        "- 삽입: `13, 26, 39, 52, 65`\n",
        "- 검색: `26, 52`\n",
        "- 삭제: `39`\n",
        "\n",
        "#### 출력 예시:\n",
        "```\n",
        "Initial Table: [None, None, None, None, None, None, None, None, None, None, None, None, None]\n",
        "After inserting 13, 26, 39, 52, 65:\n",
        "  Bucket 0: None\n",
        "  Bucket 1: None\n",
        "  Bucket 2: 26 -> 39 -> 52 -> None\n",
        "  Bucket 3: None\n",
        "  ...\n",
        "Search 26: Found\n",
        "Search 52: Found\n",
        "After deleting 39:\n",
        "  Bucket 0: None\n",
        "  Bucket 1: None\n",
        "  Bucket 2: 26 -> 52 -> None\n",
        "  Bucket 3: None\n",
        "  ...\n",
        "```\n",
        "\n",
        "---\n"
      ]
    },
    {
      "cell_type": "code",
      "execution_count": 41,
      "metadata": {
        "id": "l_6bsaTPL0Lh"
      },
      "outputs": [
        {
          "name": "stdout",
          "output_type": "stream",
          "text": [
            "Initial Table:\n",
            "Bucket 0: None\n",
            "Bucket 1: None\n",
            "Bucket 2: None\n",
            "Bucket 3: None\n",
            "Bucket 4: None\n",
            "Bucket 5: None\n",
            "Bucket 6: None\n",
            "Bucket 7: None\n",
            "Bucket 8: None\n",
            "Bucket 9: None\n",
            "Bucket 10: None\n",
            "Bucket 11: None\n",
            "Bucket 12: None\n",
            "\n",
            "After inserting 13, 26, 39, 52, 65:\n",
            "Bucket 0: 13 -> 26 -> 39 -> 52 -> 65 -> None\n",
            "Bucket 1: None\n",
            "Bucket 2: None\n",
            "Bucket 3: None\n",
            "Bucket 4: None\n",
            "Bucket 5: None\n",
            "Bucket 6: None\n",
            "Bucket 7: None\n",
            "Bucket 8: None\n",
            "Bucket 9: None\n",
            "Bucket 10: None\n",
            "Bucket 11: None\n",
            "Bucket 12: None\n",
            "\n",
            "Search 26: Found\n",
            "Search 52: Found\n",
            "After deleting 39:\n",
            "Bucket 0: 13 -> 26 -> 52 -> 65 -> None\n",
            "Bucket 1: None\n",
            "Bucket 2: None\n",
            "Bucket 3: None\n",
            "Bucket 4: None\n",
            "Bucket 5: None\n",
            "Bucket 6: None\n",
            "Bucket 7: None\n",
            "Bucket 8: None\n",
            "Bucket 9: None\n",
            "Bucket 10: None\n",
            "Bucket 11: None\n",
            "Bucket 12: None\n",
            "\n"
          ]
        }
      ],
      "source": [
        "class HashTableChaining:\n",
        "    def __init__(self, size=13):\n",
        "        self.size = size\n",
        "        self.table = [[] for _ in range(self.size)]  # 각 버킷은 리스트로 초기화\n",
        "\n",
        "    def hash_function(self, key):\n",
        "        return key % self.size  # 제산 함수\n",
        "\n",
        "    def insert(self, key):\n",
        "        index = self.hash_function(key)\n",
        "        self.table[index].append(key)  # 충돌 시 동일 버킷 리스트에 추가\n",
        "\n",
        "    def search(self, key):\n",
        "        index = self.hash_function(key)\n",
        "        if key in self.table[index]:\n",
        "            return True\n",
        "        return False\n",
        "\n",
        "    def delete(self, key):\n",
        "        index = self.hash_function(key)\n",
        "        if key in self.table[index]:\n",
        "            self.table[index].remove(key)  # 해당 키를 버킷 리스트에서 제거\n",
        "\n",
        "    def __str__(self):\n",
        "        result = \"\"\n",
        "        for i, bucket in enumerate(self.table):\n",
        "            result += f\"Bucket {i}: \"\n",
        "            if bucket:\n",
        "                result += \" -> \".join(map(str, bucket)) + \" -> None\\n\"\n",
        "            else:\n",
        "                result += \"None\\n\"\n",
        "        return result\n",
        "\n",
        "\n",
        "# 테스트 코드\n",
        "if __name__ == \"__main__\":\n",
        "    # 해시 테이블 초기화\n",
        "    hash_table = HashTableChaining()\n",
        "\n",
        "    # 초기 테이블 출력\n",
        "    print(\"Initial Table:\")\n",
        "    print(hash_table)\n",
        "\n",
        "    # 숫자 삽입\n",
        "    for num in [13, 26, 39, 52, 65]:\n",
        "        hash_table.insert(num)\n",
        "    print(\"After inserting 13, 26, 39, 52, 65:\")\n",
        "    print(hash_table)\n",
        "\n",
        "    # 숫자 검색\n",
        "    for num in [26, 52]:\n",
        "        result = \"Found\" if hash_table.search(num) else \"Not Found\"\n",
        "        print(f\"Search {num}: {result}\")\n",
        "\n",
        "    # 숫자 삭제\n",
        "    hash_table.delete(39)\n",
        "    print(\"After deleting 39:\")\n",
        "    print(hash_table)\n"
      ]
    }
  ],
  "metadata": {
    "colab": {
      "private_outputs": true,
      "provenance": []
    },
    "kernelspec": {
      "display_name": "base",
      "language": "python",
      "name": "python3"
    },
    "language_info": {
      "codemirror_mode": {
        "name": "ipython",
        "version": 3
      },
      "file_extension": ".py",
      "mimetype": "text/x-python",
      "name": "python",
      "nbconvert_exporter": "python",
      "pygments_lexer": "ipython3",
      "version": "3.10.16"
    }
  },
  "nbformat": 4,
  "nbformat_minor": 0
}
