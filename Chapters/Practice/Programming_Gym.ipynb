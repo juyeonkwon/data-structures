{
  "nbformat": 4,
  "nbformat_minor": 0,
  "metadata": {
    "colab": {
      "private_outputs": true,
      "provenance": []
    },
    "kernelspec": {
      "name": "python3",
      "display_name": "Python 3"
    },
    "language_info": {
      "name": "python"
    }
  },
  "cells": [
    {
      "cell_type": "markdown",
      "source": [
        "문제 1. 윤년을 구분하는 프로그램을 작성하세요. 윤년은 다음의 규칙에 의해 결정됩니다:\n",
        "\n",
        "연도가 4로 나누어떨어지면 윤년입니다.\n",
        "하지만, 연도가 100으로 나누어떨어지면 윤년이 아닙니다.\n",
        "그러나, 연도가 400으로 나누어떨어지면 다시 윤년입니다.\n",
        "이 규칙을 기반으로 사용자가 입력한 연도가 윤년인지 아닌지를 출력하는 프로그램을 작성하세요.\n"
      ],
      "metadata": {
        "id": "TlAgSTTzKc3c"
      }
    },
    {
      "cell_type": "code",
      "source": [
        "# 입력: 연도 (year)\n",
        "\n",
        "# 1. 만약 year가 400으로 나누어떨어지면:\n",
        "#        윤년으로 출력\n",
        "# 2. 아니면, year가 100으로 나누어떨어지면:\n",
        "#        윤년이 아니라고 출력\n",
        "# 3. 아니면, year가 4로 나누어떨어지면:\n",
        "#        윤년으로 출력\n",
        "# 4. 그 외에는:\n",
        "#        윤년이 아니라고 출력\n",
        "\n",
        "def is_leap_year(year):  # Return True/False\n",
        "    ...\n",
        "\n",
        "\n",
        "# 사용자로부터 연도를 입력받아 윤년 여부를 출력\n",
        "year = int(input(\"연도를 입력하세요: \"))\n"
      ],
      "metadata": {
        "id": "l0z21PqOKtnY"
      },
      "execution_count": null,
      "outputs": []
    },
    {
      "cell_type": "code",
      "source": [
        "year = int(input(\"연도를 입력하세요: \"))\n",
        "\n",
        "def is_leap_year(year):\n",
        "    if year % 400 == 0:\n",
        "        return True\n",
        "    elif year % 100 == 0:\n",
        "        return False\n",
        "    elif year % 4 == 0:\n",
        "        return True\n",
        "    else:\n",
        "        return False\n",
        "\n",
        "if is_leap_year(year):\n",
        "    print(f\"{year}년은 윤년입니다.\")\n",
        "else:\n",
        "    print(f\"{year}년은 윤년이 아닙니다.\")"
      ],
      "metadata": {
        "id": "MDsQ2SmbOnkq"
      },
      "execution_count": null,
      "outputs": []
    }
  ]
}